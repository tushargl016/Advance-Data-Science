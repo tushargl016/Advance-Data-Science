{
 "cells": [
  {
   "cell_type": "markdown",
   "metadata": {},
   "source": [
    "### Evaluating Recommendation models on daytime clustered data"
   ]
  },
  {
   "cell_type": "code",
   "execution_count": 2,
   "metadata": {},
   "outputs": [],
   "source": [
    "\n",
    "from io import StringIO\n",
    "import requests\n",
    "import json\n",
    "import pandas as pd\n",
    "\n",
    "# @hidden_cell\n",
    "# This function accesses a file in your Object Storage. The definition contains your credentials.\n",
    "# You might want to remove those credentials before you share your notebook.\n",
    "def get_object_storage_file_with_credentials_836eb90819e64bfab21841eef5b3bf3c(container, filename):\n",
    "    \"\"\"This functions returns a StringIO object containing\n",
    "    the file content from Bluemix Object Storage.\"\"\"\n",
    "\n",
    "    url1 = ''.join(['https://identity.open.softlayer.com', '/v3/auth/tokens'])\n",
    "    data = {'auth': {'identity': {'methods': ['password'],\n",
    "            'password': {'user': {'name': 'member_6429e107b4727d3f5906de019f7fad88ada04fb8','domain': {'id': 'b5bbfbbc2d764a9096fd4aeb7d0d1477'},\n",
    "            'password': 'o{a{0]Dnx^MJ-dc1'}}}}}\n",
    "    headers1 = {'Content-Type': 'application/json'}\n",
    "    resp1 = requests.post(url=url1, data=json.dumps(data), headers=headers1)\n",
    "    resp1_body = resp1.json()\n",
    "    for e1 in resp1_body['token']['catalog']:\n",
    "        if(e1['type']=='object-store'):\n",
    "            for e2 in e1['endpoints']:\n",
    "                        if(e2['interface']=='public'and e2['region']=='dallas'):\n",
    "                            url2 = ''.join([e2['url'],'/', container, '/', filename])\n",
    "    s_subject_token = resp1.headers['x-subject-token']\n",
    "    headers2 = {'X-Auth-Token': s_subject_token, 'accept': 'application/json'}\n",
    "    resp2 = requests.get(url=url2, headers=headers2)\n",
    "    return StringIO(resp2.text)\n",
    "\n"
   ]
  },
  {
   "cell_type": "code",
   "execution_count": 10,
   "metadata": {},
   "outputs": [
    {
     "data": {
      "text/html": [
       "<div>\n",
       "<table border=\"1\" class=\"dataframe\">\n",
       "  <thead>\n",
       "    <tr style=\"text-align: right;\">\n",
       "      <th></th>\n",
       "      <th>Unnamed: 0</th>\n",
       "      <th>user_id</th>\n",
       "      <th>product_id</th>\n",
       "      <th>rating</th>\n",
       "    </tr>\n",
       "  </thead>\n",
       "  <tbody>\n",
       "    <tr>\n",
       "      <th>0</th>\n",
       "      <td>0</td>\n",
       "      <td>7</td>\n",
       "      <td>4920</td>\n",
       "      <td>5</td>\n",
       "    </tr>\n",
       "    <tr>\n",
       "      <th>1</th>\n",
       "      <td>1</td>\n",
       "      <td>7</td>\n",
       "      <td>4945</td>\n",
       "      <td>5</td>\n",
       "    </tr>\n",
       "    <tr>\n",
       "      <th>2</th>\n",
       "      <td>2</td>\n",
       "      <td>7</td>\n",
       "      <td>8277</td>\n",
       "      <td>5</td>\n",
       "    </tr>\n",
       "    <tr>\n",
       "      <th>3</th>\n",
       "      <td>3</td>\n",
       "      <td>7</td>\n",
       "      <td>11520</td>\n",
       "      <td>5</td>\n",
       "    </tr>\n",
       "    <tr>\n",
       "      <th>4</th>\n",
       "      <td>4</td>\n",
       "      <td>7</td>\n",
       "      <td>13198</td>\n",
       "      <td>5</td>\n",
       "    </tr>\n",
       "  </tbody>\n",
       "</table>\n",
       "</div>"
      ],
      "text/plain": [
       "   Unnamed: 0  user_id  product_id  rating\n",
       "0           0        7        4920       5\n",
       "1           1        7        4945       5\n",
       "2           2        7        8277       5\n",
       "3           3        7       11520       5\n",
       "4           4        7       13198       5"
      ]
     },
     "execution_count": 10,
     "metadata": {},
     "output_type": "execute_result"
    }
   ],
   "source": [
    "normratings= pd.read_csv(get_object_storage_file_with_credentials_836eb90819e64bfab21841eef5b3bf3c('insta', 'daytimecluster1.csv'))\n",
    "normratings.head()\n"
   ]
  },
  {
   "cell_type": "code",
   "execution_count": 3,
   "metadata": {
    "scrolled": true
   },
   "outputs": [
    {
     "name": "stdout",
     "output_type": "stream",
     "text": [
      "Collecting https://get.graphlab.com/GraphLab-Create/2.1/goel.t@husky.neu.edu/E914-C086-1338-7082-B278-E8A7-1C13-1FDE/GraphLab-Create-License.tar.gz\n",
      "  Downloading https://get.graphlab.com/GraphLab-Create/2.1/goel.t@husky.neu.edu/E914-C086-1338-7082-B278-E8A7-1C13-1FDE/GraphLab-Create-License.tar.gz\n",
      "Requirement already up-to-date: graphlab-create>=2.1 in /gpfs/global_fs01/sym_shared/YPProdSpark/user/sed1-980fc88e6d89d3-f770736419c3/.local/lib/python2.7/site-packages (from GraphLab-Create-License==2.1)\n",
      "Requirement already up-to-date: psclient in /gpfs/global_fs01/sym_shared/YPProdSpark/user/sed1-980fc88e6d89d3-f770736419c3/.local/lib/python2.7/site-packages (from graphlab-create>=2.1->GraphLab-Create-License==2.1)\n",
      "Requirement already up-to-date: boto==2.33.0 in /gpfs/global_fs01/sym_shared/YPProdSpark/user/sed1-980fc88e6d89d3-f770736419c3/.local/lib/python2.7/site-packages (from graphlab-create>=2.1->GraphLab-Create-License==2.1)\n",
      "Requirement already up-to-date: decorator==4.0.9 in /gpfs/global_fs01/sym_shared/YPProdSpark/user/sed1-980fc88e6d89d3-f770736419c3/.local/lib/python2.7/site-packages (from graphlab-create>=2.1->GraphLab-Create-License==2.1)\n",
      "Requirement already up-to-date: tornado==4.3 in /usr/local/src/bluemix_jupyter_bundle.v73/notebook/lib/python2.7/site-packages (from graphlab-create>=2.1->GraphLab-Create-License==2.1)\n",
      "Requirement already up-to-date: prettytable==0.7.2 in /usr/local/src/bluemix_jupyter_bundle.v73/notebook/lib/python2.7/site-packages (from graphlab-create>=2.1->GraphLab-Create-License==2.1)\n",
      "Requirement already up-to-date: requests==2.9.1 in /gpfs/global_fs01/sym_shared/YPProdSpark/user/sed1-980fc88e6d89d3-f770736419c3/.local/lib/python2.7/site-packages (from graphlab-create>=2.1->GraphLab-Create-License==2.1)\n",
      "Requirement already up-to-date: awscli==1.6.2 in /gpfs/global_fs01/sym_shared/YPProdSpark/user/sed1-980fc88e6d89d3-f770736419c3/.local/lib/python2.7/site-packages (from graphlab-create>=2.1->GraphLab-Create-License==2.1)\n",
      "Requirement already up-to-date: sseclient==0.0.8 in /gpfs/global_fs01/sym_shared/YPProdSpark/user/sed1-980fc88e6d89d3-f770736419c3/.local/lib/python2.7/site-packages (from graphlab-create>=2.1->GraphLab-Create-License==2.1)\n",
      "Requirement already up-to-date: multipledispatch>=0.4.7 in /gpfs/global_fs01/sym_shared/YPProdSpark/user/sed1-980fc88e6d89d3-f770736419c3/.local/lib/python2.7/site-packages (from graphlab-create>=2.1->GraphLab-Create-License==2.1)\n",
      "Requirement already up-to-date: certifi==2015.04.28 in /gpfs/global_fs01/sym_shared/YPProdSpark/user/sed1-980fc88e6d89d3-f770736419c3/.local/lib/python2.7/site-packages (from graphlab-create>=2.1->GraphLab-Create-License==2.1)\n",
      "Requirement already up-to-date: jsonschema==2.5.1 in /usr/local/src/bluemix_jupyter_bundle.v73/notebook/lib/python2.7/site-packages (from graphlab-create>=2.1->GraphLab-Create-License==2.1)\n",
      "Requirement already up-to-date: genson==0.1.0 in /gpfs/global_fs01/sym_shared/YPProdSpark/user/sed1-980fc88e6d89d3-f770736419c3/.local/lib/python2.7/site-packages (from graphlab-create>=2.1->GraphLab-Create-License==2.1)\n",
      "Requirement already up-to-date: python-dateutil in /gpfs/global_fs01/sym_shared/YPProdSpark/user/sed1-980fc88e6d89d3-f770736419c3/.local/lib/python2.7/site-packages (from psclient->graphlab-create>=2.1->GraphLab-Create-License==2.1)\n",
      "Requirement already up-to-date: backports.ssl_match_hostname in /gpfs/global_fs01/sym_shared/YPProdSpark/user/sed1-980fc88e6d89d3-f770736419c3/.local/lib/python2.7/site-packages (from tornado==4.3->graphlab-create>=2.1->GraphLab-Create-License==2.1)\n",
      "Requirement already up-to-date: singledispatch in /usr/local/src/bluemix_jupyter_bundle.v73/notebook/lib/python2.7/site-packages (from tornado==4.3->graphlab-create>=2.1->GraphLab-Create-License==2.1)\n",
      "Requirement already up-to-date: backports_abc>=0.4 in /gpfs/global_fs01/sym_shared/YPProdSpark/user/sed1-980fc88e6d89d3-f770736419c3/.local/lib/python2.7/site-packages (from tornado==4.3->graphlab-create>=2.1->GraphLab-Create-License==2.1)\n",
      "Requirement already up-to-date: botocore<0.74.0,>=0.73.0 in /gpfs/global_fs01/sym_shared/YPProdSpark/user/sed1-980fc88e6d89d3-f770736419c3/.local/lib/python2.7/site-packages (from awscli==1.6.2->graphlab-create>=2.1->GraphLab-Create-License==2.1)\n",
      "Requirement already up-to-date: bcdoc<0.13.0,>=0.12.0 in /gpfs/global_fs01/sym_shared/YPProdSpark/user/sed1-980fc88e6d89d3-f770736419c3/.local/lib/python2.7/site-packages (from awscli==1.6.2->graphlab-create>=2.1->GraphLab-Create-License==2.1)\n",
      "Requirement already up-to-date: six>=1.1.0 in /gpfs/global_fs01/sym_shared/YPProdSpark/user/sed1-980fc88e6d89d3-f770736419c3/.local/lib/python2.7/site-packages (from awscli==1.6.2->graphlab-create>=2.1->GraphLab-Create-License==2.1)\n",
      "Requirement already up-to-date: colorama==0.2.5 in /gpfs/global_fs01/sym_shared/YPProdSpark/user/sed1-980fc88e6d89d3-f770736419c3/.local/lib/python2.7/site-packages (from awscli==1.6.2->graphlab-create>=2.1->GraphLab-Create-License==2.1)\n",
      "Requirement already up-to-date: docutils>=0.10 in /gpfs/global_fs01/sym_shared/YPProdSpark/user/sed1-980fc88e6d89d3-f770736419c3/.local/lib/python2.7/site-packages (from awscli==1.6.2->graphlab-create>=2.1->GraphLab-Create-License==2.1)\n",
      "Requirement already up-to-date: rsa==3.1.2 in /gpfs/global_fs01/sym_shared/YPProdSpark/user/sed1-980fc88e6d89d3-f770736419c3/.local/lib/python2.7/site-packages (from awscli==1.6.2->graphlab-create>=2.1->GraphLab-Create-License==2.1)\n",
      "Requirement already up-to-date: functools32; python_version == \"2.7\" in /usr/local/src/bluemix_jupyter_bundle.v73/notebook/lib/python2.7/site-packages (from jsonschema==2.5.1->graphlab-create>=2.1->GraphLab-Create-License==2.1)\n",
      "Requirement already up-to-date: jmespath==0.5.0 in /gpfs/global_fs01/sym_shared/YPProdSpark/user/sed1-980fc88e6d89d3-f770736419c3/.local/lib/python2.7/site-packages (from botocore<0.74.0,>=0.73.0->awscli==1.6.2->graphlab-create>=2.1->GraphLab-Create-License==2.1)\n",
      "Requirement already up-to-date: pyasn1>=0.1.3 in /gpfs/global_fs01/sym_shared/YPProdSpark/user/sed1-980fc88e6d89d3-f770736419c3/.local/lib/python2.7/site-packages (from rsa==3.1.2->awscli==1.6.2->graphlab-create>=2.1->GraphLab-Create-License==2.1)\n",
      "Installing collected packages: GraphLab-Create-License\n",
      "  Found existing installation: GraphLab-Create-License 2.1\n",
      "    Uninstalling GraphLab-Create-License-2.1:\n",
      "      Successfully uninstalled GraphLab-Create-License-2.1\n",
      "  Running setup.py install for GraphLab-Create-License ... \u001b[?25ldone\n",
      "\u001b[?25hSuccessfully installed GraphLab-Create-License-2.1\n"
     ]
    }
   ],
   "source": [
    "!pip install --user --upgrade --no-cache-dir https://get.graphlab.com/GraphLab-Create/2.1/goel.t@husky.neu.edu/E914-C086-1338-7082-B278-E8A7-1C13-1FDE/GraphLab-Create-License.tar.gz\n",
    "    "
   ]
  },
  {
   "cell_type": "markdown",
   "metadata": {},
   "source": [
    "### Running Recommendations by clustering on basis of daytime"
   ]
  },
  {
   "cell_type": "code",
   "execution_count": 11,
   "metadata": {},
   "outputs": [],
   "source": [
    "import numpy as np\n",
    "import graphlab\n",
    "\n",
    "msk = np.random.rand(len(normratings)) < 0.8\n",
    "train = normratings[msk]\n",
    "test = normratings[~msk]\n",
    "train_data = graphlab.SFrame(train)\n",
    "test_data=graphlab.SFrame(test)"
   ]
  },
  {
   "cell_type": "markdown",
   "metadata": {},
   "source": [
    "#### Creating item similarity model, popularity model and latent model on the clustered data for comparing and selecting best out of them"
   ]
  },
  {
   "cell_type": "code",
   "execution_count": 12,
   "metadata": {},
   "outputs": [
    {
     "data": {
      "text/html": [
       "<pre>Recsys training: model = item_similarity</pre>"
      ],
      "text/plain": [
       "Recsys training: model = item_similarity"
      ]
     },
     "metadata": {},
     "output_type": "display_data"
    },
    {
     "data": {
      "text/html": [
       "<pre>Warning: Ignoring columns Unnamed: 0;</pre>"
      ],
      "text/plain": [
       "Warning: Ignoring columns Unnamed: 0;"
      ]
     },
     "metadata": {},
     "output_type": "display_data"
    },
    {
     "data": {
      "text/html": [
       "<pre>    To use these columns in scoring predictions, use a model that allows the use of additional features.</pre>"
      ],
      "text/plain": [
       "    To use these columns in scoring predictions, use a model that allows the use of additional features."
      ]
     },
     "metadata": {},
     "output_type": "display_data"
    },
    {
     "data": {
      "text/html": [
       "<pre>Preparing data set.</pre>"
      ],
      "text/plain": [
       "Preparing data set."
      ]
     },
     "metadata": {},
     "output_type": "display_data"
    },
    {
     "data": {
      "text/html": [
       "<pre>    Data has 394132 observations with 34101 users and 26544 items.</pre>"
      ],
      "text/plain": [
       "    Data has 394132 observations with 34101 users and 26544 items."
      ]
     },
     "metadata": {},
     "output_type": "display_data"
    },
    {
     "data": {
      "text/html": [
       "<pre>    Data prepared in: 0.640111s</pre>"
      ],
      "text/plain": [
       "    Data prepared in: 0.640111s"
      ]
     },
     "metadata": {},
     "output_type": "display_data"
    },
    {
     "data": {
      "text/html": [
       "<pre>Training model from provided data.</pre>"
      ],
      "text/plain": [
       "Training model from provided data."
      ]
     },
     "metadata": {},
     "output_type": "display_data"
    },
    {
     "data": {
      "text/html": [
       "<pre>Gathering per-item and per-user statistics.</pre>"
      ],
      "text/plain": [
       "Gathering per-item and per-user statistics."
      ]
     },
     "metadata": {},
     "output_type": "display_data"
    },
    {
     "data": {
      "text/html": [
       "<pre>+--------------------------------+------------+</pre>"
      ],
      "text/plain": [
       "+--------------------------------+------------+"
      ]
     },
     "metadata": {},
     "output_type": "display_data"
    },
    {
     "data": {
      "text/html": [
       "<pre>| Elapsed Time (Item Statistics) | % Complete |</pre>"
      ],
      "text/plain": [
       "| Elapsed Time (Item Statistics) | % Complete |"
      ]
     },
     "metadata": {},
     "output_type": "display_data"
    },
    {
     "data": {
      "text/html": [
       "<pre>+--------------------------------+------------+</pre>"
      ],
      "text/plain": [
       "+--------------------------------+------------+"
      ]
     },
     "metadata": {},
     "output_type": "display_data"
    },
    {
     "data": {
      "text/html": [
       "<pre>| 1.639ms                        | 2.75       |</pre>"
      ],
      "text/plain": [
       "| 1.639ms                        | 2.75       |"
      ]
     },
     "metadata": {},
     "output_type": "display_data"
    },
    {
     "data": {
      "text/html": [
       "<pre>| 22.674ms                       | 100        |</pre>"
      ],
      "text/plain": [
       "| 22.674ms                       | 100        |"
      ]
     },
     "metadata": {},
     "output_type": "display_data"
    },
    {
     "data": {
      "text/html": [
       "<pre>+--------------------------------+------------+</pre>"
      ],
      "text/plain": [
       "+--------------------------------+------------+"
      ]
     },
     "metadata": {},
     "output_type": "display_data"
    },
    {
     "data": {
      "text/html": [
       "<pre>Setting up lookup tables.</pre>"
      ],
      "text/plain": [
       "Setting up lookup tables."
      ]
     },
     "metadata": {},
     "output_type": "display_data"
    },
    {
     "data": {
      "text/html": [
       "<pre>Processing data in one pass using dense lookup tables.</pre>"
      ],
      "text/plain": [
       "Processing data in one pass using dense lookup tables."
      ]
     },
     "metadata": {},
     "output_type": "display_data"
    },
    {
     "data": {
      "text/html": [
       "<pre>+-------------------------------------+------------------+-----------------+</pre>"
      ],
      "text/plain": [
       "+-------------------------------------+------------------+-----------------+"
      ]
     },
     "metadata": {},
     "output_type": "display_data"
    },
    {
     "data": {
      "text/html": [
       "<pre>| Elapsed Time (Constructing Lookups) | Total % Complete | Items Processed |</pre>"
      ],
      "text/plain": [
       "| Elapsed Time (Constructing Lookups) | Total % Complete | Items Processed |"
      ]
     },
     "metadata": {},
     "output_type": "display_data"
    },
    {
     "data": {
      "text/html": [
       "<pre>+-------------------------------------+------------------+-----------------+</pre>"
      ],
      "text/plain": [
       "+-------------------------------------+------------------+-----------------+"
      ]
     },
     "metadata": {},
     "output_type": "display_data"
    },
    {
     "data": {
      "text/html": [
       "<pre>| 743.288ms                           | 0                | 0               |</pre>"
      ],
      "text/plain": [
       "| 743.288ms                           | 0                | 0               |"
      ]
     },
     "metadata": {},
     "output_type": "display_data"
    },
    {
     "data": {
      "text/html": [
       "<pre>| 1.82s                               | 67               | 17814           |</pre>"
      ],
      "text/plain": [
       "| 1.82s                               | 67               | 17814           |"
      ]
     },
     "metadata": {},
     "output_type": "display_data"
    },
    {
     "data": {
      "text/html": [
       "<pre>| 4.53s                               | 100              | 26544           |</pre>"
      ],
      "text/plain": [
       "| 4.53s                               | 100              | 26544           |"
      ]
     },
     "metadata": {},
     "output_type": "display_data"
    },
    {
     "data": {
      "text/html": [
       "<pre>+-------------------------------------+------------------+-----------------+</pre>"
      ],
      "text/plain": [
       "+-------------------------------------+------------------+-----------------+"
      ]
     },
     "metadata": {},
     "output_type": "display_data"
    },
    {
     "data": {
      "text/html": [
       "<pre>Finalizing lookup tables.</pre>"
      ],
      "text/plain": [
       "Finalizing lookup tables."
      ]
     },
     "metadata": {},
     "output_type": "display_data"
    },
    {
     "data": {
      "text/html": [
       "<pre>Generating candidate set for working with new users.</pre>"
      ],
      "text/plain": [
       "Generating candidate set for working with new users."
      ]
     },
     "metadata": {},
     "output_type": "display_data"
    },
    {
     "data": {
      "text/html": [
       "<pre>Finished training in 4.74906s</pre>"
      ],
      "text/plain": [
       "Finished training in 4.74906s"
      ]
     },
     "metadata": {},
     "output_type": "display_data"
    },
    {
     "data": {
      "text/html": [
       "<pre>Recsys training: model = popularity</pre>"
      ],
      "text/plain": [
       "Recsys training: model = popularity"
      ]
     },
     "metadata": {},
     "output_type": "display_data"
    },
    {
     "data": {
      "text/html": [
       "<pre>Warning: Ignoring columns Unnamed: 0;</pre>"
      ],
      "text/plain": [
       "Warning: Ignoring columns Unnamed: 0;"
      ]
     },
     "metadata": {},
     "output_type": "display_data"
    },
    {
     "data": {
      "text/html": [
       "<pre>    To use these columns in scoring predictions, use a model that allows the use of additional features.</pre>"
      ],
      "text/plain": [
       "    To use these columns in scoring predictions, use a model that allows the use of additional features."
      ]
     },
     "metadata": {},
     "output_type": "display_data"
    },
    {
     "data": {
      "text/html": [
       "<pre>Preparing data set.</pre>"
      ],
      "text/plain": [
       "Preparing data set."
      ]
     },
     "metadata": {},
     "output_type": "display_data"
    },
    {
     "data": {
      "text/html": [
       "<pre>    Data has 394132 observations with 34101 users and 26544 items.</pre>"
      ],
      "text/plain": [
       "    Data has 394132 observations with 34101 users and 26544 items."
      ]
     },
     "metadata": {},
     "output_type": "display_data"
    },
    {
     "data": {
      "text/html": [
       "<pre>    Data prepared in: 0.858048s</pre>"
      ],
      "text/plain": [
       "    Data prepared in: 0.858048s"
      ]
     },
     "metadata": {},
     "output_type": "display_data"
    },
    {
     "data": {
      "text/html": [
       "<pre>394132 observations to process; with 26544 unique items.</pre>"
      ],
      "text/plain": [
       "394132 observations to process; with 26544 unique items."
      ]
     },
     "metadata": {},
     "output_type": "display_data"
    },
    {
     "data": {
      "text/html": [
       "<pre>Recsys training: model = factorization_recommender</pre>"
      ],
      "text/plain": [
       "Recsys training: model = factorization_recommender"
      ]
     },
     "metadata": {},
     "output_type": "display_data"
    },
    {
     "data": {
      "text/html": [
       "<pre>Preparing data set.</pre>"
      ],
      "text/plain": [
       "Preparing data set."
      ]
     },
     "metadata": {},
     "output_type": "display_data"
    },
    {
     "data": {
      "text/html": [
       "<pre>    Data has 394132 observations with 34101 users and 26544 items.</pre>"
      ],
      "text/plain": [
       "    Data has 394132 observations with 34101 users and 26544 items."
      ]
     },
     "metadata": {},
     "output_type": "display_data"
    },
    {
     "data": {
      "text/html": [
       "<pre>    Data prepared in: 0.853628s</pre>"
      ],
      "text/plain": [
       "    Data prepared in: 0.853628s"
      ]
     },
     "metadata": {},
     "output_type": "display_data"
    },
    {
     "data": {
      "text/html": [
       "<pre>Training factorization_recommender for recommendations.</pre>"
      ],
      "text/plain": [
       "Training factorization_recommender for recommendations."
      ]
     },
     "metadata": {},
     "output_type": "display_data"
    },
    {
     "data": {
      "text/html": [
       "<pre>+--------------------------------+--------------------------------------------------+----------+</pre>"
      ],
      "text/plain": [
       "+--------------------------------+--------------------------------------------------+----------+"
      ]
     },
     "metadata": {},
     "output_type": "display_data"
    },
    {
     "data": {
      "text/html": [
       "<pre>| Parameter                      | Description                                      | Value    |</pre>"
      ],
      "text/plain": [
       "| Parameter                      | Description                                      | Value    |"
      ]
     },
     "metadata": {},
     "output_type": "display_data"
    },
    {
     "data": {
      "text/html": [
       "<pre>+--------------------------------+--------------------------------------------------+----------+</pre>"
      ],
      "text/plain": [
       "+--------------------------------+--------------------------------------------------+----------+"
      ]
     },
     "metadata": {},
     "output_type": "display_data"
    },
    {
     "data": {
      "text/html": [
       "<pre>| num_factors                    | Factor Dimension                                 | 8        |</pre>"
      ],
      "text/plain": [
       "| num_factors                    | Factor Dimension                                 | 8        |"
      ]
     },
     "metadata": {},
     "output_type": "display_data"
    },
    {
     "data": {
      "text/html": [
       "<pre>| regularization                 | L2 Regularization on Factors                     | 1e-08    |</pre>"
      ],
      "text/plain": [
       "| regularization                 | L2 Regularization on Factors                     | 1e-08    |"
      ]
     },
     "metadata": {},
     "output_type": "display_data"
    },
    {
     "data": {
      "text/html": [
       "<pre>| solver                         | Solver used for training                         | adagrad  |</pre>"
      ],
      "text/plain": [
       "| solver                         | Solver used for training                         | adagrad  |"
      ]
     },
     "metadata": {},
     "output_type": "display_data"
    },
    {
     "data": {
      "text/html": [
       "<pre>| linear_regularization          | L2 Regularization on Linear Coefficients         | 1e-10    |</pre>"
      ],
      "text/plain": [
       "| linear_regularization          | L2 Regularization on Linear Coefficients         | 1e-10    |"
      ]
     },
     "metadata": {},
     "output_type": "display_data"
    },
    {
     "data": {
      "text/html": [
       "<pre>| max_iterations                 | Maximum Number of Iterations                     | 50       |</pre>"
      ],
      "text/plain": [
       "| max_iterations                 | Maximum Number of Iterations                     | 50       |"
      ]
     },
     "metadata": {},
     "output_type": "display_data"
    },
    {
     "data": {
      "text/html": [
       "<pre>+--------------------------------+--------------------------------------------------+----------+</pre>"
      ],
      "text/plain": [
       "+--------------------------------+--------------------------------------------------+----------+"
      ]
     },
     "metadata": {},
     "output_type": "display_data"
    },
    {
     "data": {
      "text/html": [
       "<pre>  Optimizing model using SGD; tuning step size.</pre>"
      ],
      "text/plain": [
       "  Optimizing model using SGD; tuning step size."
      ]
     },
     "metadata": {},
     "output_type": "display_data"
    },
    {
     "data": {
      "text/html": [
       "<pre>  Using 49266 / 394132 points for tuning the step size.</pre>"
      ],
      "text/plain": [
       "  Using 49266 / 394132 points for tuning the step size."
      ]
     },
     "metadata": {},
     "output_type": "display_data"
    },
    {
     "data": {
      "text/html": [
       "<pre>+---------+-------------------+------------------------------------------+</pre>"
      ],
      "text/plain": [
       "+---------+-------------------+------------------------------------------+"
      ]
     },
     "metadata": {},
     "output_type": "display_data"
    },
    {
     "data": {
      "text/html": [
       "<pre>| Attempt | Initial Step Size | Estimated Objective Value                |</pre>"
      ],
      "text/plain": [
       "| Attempt | Initial Step Size | Estimated Objective Value                |"
      ]
     },
     "metadata": {},
     "output_type": "display_data"
    },
    {
     "data": {
      "text/html": [
       "<pre>+---------+-------------------+------------------------------------------+</pre>"
      ],
      "text/plain": [
       "+---------+-------------------+------------------------------------------+"
      ]
     },
     "metadata": {},
     "output_type": "display_data"
    },
    {
     "data": {
      "text/html": [
       "<pre>| 0       | 16.6667           | Not Viable                               |</pre>"
      ],
      "text/plain": [
       "| 0       | 16.6667           | Not Viable                               |"
      ]
     },
     "metadata": {},
     "output_type": "display_data"
    },
    {
     "data": {
      "text/html": [
       "<pre>| 1       | 4.16667           | Not Viable                               |</pre>"
      ],
      "text/plain": [
       "| 1       | 4.16667           | Not Viable                               |"
      ]
     },
     "metadata": {},
     "output_type": "display_data"
    },
    {
     "data": {
      "text/html": [
       "<pre>| 2       | 1.04167           | Not Viable                               |</pre>"
      ],
      "text/plain": [
       "| 2       | 1.04167           | Not Viable                               |"
      ]
     },
     "metadata": {},
     "output_type": "display_data"
    },
    {
     "data": {
      "text/html": [
       "<pre>| 3       | 0.260417          | 0.113488                                 |</pre>"
      ],
      "text/plain": [
       "| 3       | 0.260417          | 0.113488                                 |"
      ]
     },
     "metadata": {},
     "output_type": "display_data"
    },
    {
     "data": {
      "text/html": [
       "<pre>| 4       | 0.130208          | 0.12199                                  |</pre>"
      ],
      "text/plain": [
       "| 4       | 0.130208          | 0.12199                                  |"
      ]
     },
     "metadata": {},
     "output_type": "display_data"
    },
    {
     "data": {
      "text/html": [
       "<pre>| 5       | 0.0651042         | 0.389914                                 |</pre>"
      ],
      "text/plain": [
       "| 5       | 0.0651042         | 0.389914                                 |"
      ]
     },
     "metadata": {},
     "output_type": "display_data"
    },
    {
     "data": {
      "text/html": [
       "<pre>+---------+-------------------+------------------------------------------+</pre>"
      ],
      "text/plain": [
       "+---------+-------------------+------------------------------------------+"
      ]
     },
     "metadata": {},
     "output_type": "display_data"
    },
    {
     "data": {
      "text/html": [
       "<pre>| Final   | 0.260417          | 0.113488                                 |</pre>"
      ],
      "text/plain": [
       "| Final   | 0.260417          | 0.113488                                 |"
      ]
     },
     "metadata": {},
     "output_type": "display_data"
    },
    {
     "data": {
      "text/html": [
       "<pre>+---------+-------------------+------------------------------------------+</pre>"
      ],
      "text/plain": [
       "+---------+-------------------+------------------------------------------+"
      ]
     },
     "metadata": {},
     "output_type": "display_data"
    },
    {
     "data": {
      "text/html": [
       "<pre>Starting Optimization.</pre>"
      ],
      "text/plain": [
       "Starting Optimization."
      ]
     },
     "metadata": {},
     "output_type": "display_data"
    },
    {
     "data": {
      "text/html": [
       "<pre>+---------+--------------+-------------------+-----------------------+-------------+</pre>"
      ],
      "text/plain": [
       "+---------+--------------+-------------------+-----------------------+-------------+"
      ]
     },
     "metadata": {},
     "output_type": "display_data"
    },
    {
     "data": {
      "text/html": [
       "<pre>| Iter.   | Elapsed Time | Approx. Objective | Approx. Training RMSE | Step Size   |</pre>"
      ],
      "text/plain": [
       "| Iter.   | Elapsed Time | Approx. Objective | Approx. Training RMSE | Step Size   |"
      ]
     },
     "metadata": {},
     "output_type": "display_data"
    },
    {
     "data": {
      "text/html": [
       "<pre>+---------+--------------+-------------------+-----------------------+-------------+</pre>"
      ],
      "text/plain": [
       "+---------+--------------+-------------------+-----------------------+-------------+"
      ]
     },
     "metadata": {},
     "output_type": "display_data"
    },
    {
     "data": {
      "text/html": [
       "<pre>| Initial | 602us        | 1.84036           | 1.3566                |             |</pre>"
      ],
      "text/plain": [
       "| Initial | 602us        | 1.84036           | 1.3566                |             |"
      ]
     },
     "metadata": {},
     "output_type": "display_data"
    },
    {
     "data": {
      "text/html": [
       "<pre>+---------+--------------+-------------------+-----------------------+-------------+</pre>"
      ],
      "text/plain": [
       "+---------+--------------+-------------------+-----------------------+-------------+"
      ]
     },
     "metadata": {},
     "output_type": "display_data"
    },
    {
     "data": {
      "text/html": [
       "<pre>| 1       | 5.09s        | DIVERGED          | DIVERGED              | 0.260417    |</pre>"
      ],
      "text/plain": [
       "| 1       | 5.09s        | DIVERGED          | DIVERGED              | 0.260417    |"
      ]
     },
     "metadata": {},
     "output_type": "display_data"
    },
    {
     "data": {
      "text/html": [
       "<pre>| RESET   | 5.38s        | 1.84036           | 1.3566                |             |</pre>"
      ],
      "text/plain": [
       "| RESET   | 5.38s        | 1.84036           | 1.3566                |             |"
      ]
     },
     "metadata": {},
     "output_type": "display_data"
    },
    {
     "data": {
      "text/html": [
       "<pre>| 1       | 9.78s        | 0.769968          | 0.877313              | 0.130208    |</pre>"
      ],
      "text/plain": [
       "| 1       | 9.78s        | 0.769968          | 0.877313              | 0.130208    |"
      ]
     },
     "metadata": {},
     "output_type": "display_data"
    },
    {
     "data": {
      "text/html": [
       "<pre>| 2       | 15.49s       | 0.581657          | 0.762507              | 0.130208    |</pre>"
      ],
      "text/plain": [
       "| 2       | 15.49s       | 0.581657          | 0.762507              | 0.130208    |"
      ]
     },
     "metadata": {},
     "output_type": "display_data"
    },
    {
     "data": {
      "text/html": [
       "<pre>| 3       | 20.18s       | 0.421853          | 0.649341              | 0.130208    |</pre>"
      ],
      "text/plain": [
       "| 3       | 20.18s       | 0.421853          | 0.649341              | 0.130208    |"
      ]
     },
     "metadata": {},
     "output_type": "display_data"
    },
    {
     "data": {
      "text/html": [
       "<pre>| 4       | 24.58s       | 0.331344          | 0.575445              | 0.130208    |</pre>"
      ],
      "text/plain": [
       "| 4       | 24.58s       | 0.331344          | 0.575445              | 0.130208    |"
      ]
     },
     "metadata": {},
     "output_type": "display_data"
    },
    {
     "data": {
      "text/html": [
       "<pre>| 5       | 28.68s       | 0.317183          | 0.563006              | 0.130208    |</pre>"
      ],
      "text/plain": [
       "| 5       | 28.68s       | 0.317183          | 0.563006              | 0.130208    |"
      ]
     },
     "metadata": {},
     "output_type": "display_data"
    },
    {
     "data": {
      "text/html": [
       "<pre>| 6       | 33.29s       | 0.3068            | 0.553707              | 0.130208    |</pre>"
      ],
      "text/plain": [
       "| 6       | 33.29s       | 0.3068            | 0.553707              | 0.130208    |"
      ]
     },
     "metadata": {},
     "output_type": "display_data"
    },
    {
     "data": {
      "text/html": [
       "<pre>| 7       | 37.89s       | 0.297202          | 0.544968              | 0.130208    |</pre>"
      ],
      "text/plain": [
       "| 7       | 37.89s       | 0.297202          | 0.544968              | 0.130208    |"
      ]
     },
     "metadata": {},
     "output_type": "display_data"
    },
    {
     "data": {
      "text/html": [
       "<pre>| 8       | 42.48s       | 0.288737          | 0.537142              | 0.130208    |</pre>"
      ],
      "text/plain": [
       "| 8       | 42.48s       | 0.288737          | 0.537142              | 0.130208    |"
      ]
     },
     "metadata": {},
     "output_type": "display_data"
    },
    {
     "data": {
      "text/html": [
       "<pre>| 9       | 46.80s       | 0.280843          | 0.529741              | 0.130208    |</pre>"
      ],
      "text/plain": [
       "| 9       | 46.80s       | 0.280843          | 0.529741              | 0.130208    |"
      ]
     },
     "metadata": {},
     "output_type": "display_data"
    },
    {
     "data": {
      "text/html": [
       "<pre>| 10      | 51.17s       | 0.272942          | 0.522226              | 0.130208    |</pre>"
      ],
      "text/plain": [
       "| 10      | 51.17s       | 0.272942          | 0.522226              | 0.130208    |"
      ]
     },
     "metadata": {},
     "output_type": "display_data"
    },
    {
     "data": {
      "text/html": [
       "<pre>| 11      | 55.39s       | 0.265874          | 0.515412              | 0.130208    |</pre>"
      ],
      "text/plain": [
       "| 11      | 55.39s       | 0.265874          | 0.515412              | 0.130208    |"
      ]
     },
     "metadata": {},
     "output_type": "display_data"
    },
    {
     "data": {
      "text/html": [
       "<pre>| 12      | 59.89s       | 0.259116          | 0.508811              | 0.130208    |</pre>"
      ],
      "text/plain": [
       "| 12      | 59.89s       | 0.259116          | 0.508811              | 0.130208    |"
      ]
     },
     "metadata": {},
     "output_type": "display_data"
    },
    {
     "data": {
      "text/html": [
       "<pre>| 13      | 1m 4s        | 0.253577          | 0.503336              | 0.130208    |</pre>"
      ],
      "text/plain": [
       "| 13      | 1m 4s        | 0.253577          | 0.503336              | 0.130208    |"
      ]
     },
     "metadata": {},
     "output_type": "display_data"
    },
    {
     "data": {
      "text/html": [
       "<pre>| 14      | 1m 9s        | 0.247949          | 0.49771               | 0.130208    |</pre>"
      ],
      "text/plain": [
       "| 14      | 1m 9s        | 0.247949          | 0.49771               | 0.130208    |"
      ]
     },
     "metadata": {},
     "output_type": "display_data"
    },
    {
     "data": {
      "text/html": [
       "<pre>| 15      | 1m 13s       | 0.242357          | 0.492057              | 0.130208    |</pre>"
      ],
      "text/plain": [
       "| 15      | 1m 13s       | 0.242357          | 0.492057              | 0.130208    |"
      ]
     },
     "metadata": {},
     "output_type": "display_data"
    },
    {
     "data": {
      "text/html": [
       "<pre>| 16      | 1m 18s       | 0.237127          | 0.48671               | 0.130208    |</pre>"
      ],
      "text/plain": [
       "| 16      | 1m 18s       | 0.237127          | 0.48671               | 0.130208    |"
      ]
     },
     "metadata": {},
     "output_type": "display_data"
    },
    {
     "data": {
      "text/html": [
       "<pre>| 17      | 1m 23s       | 0.231675          | 0.481074              | 0.130208    |</pre>"
      ],
      "text/plain": [
       "| 17      | 1m 23s       | 0.231675          | 0.481074              | 0.130208    |"
      ]
     },
     "metadata": {},
     "output_type": "display_data"
    },
    {
     "data": {
      "text/html": [
       "<pre>| 18      | 1m 28s       | 0.22727           | 0.476471              | 0.130208    |</pre>"
      ],
      "text/plain": [
       "| 18      | 1m 28s       | 0.22727           | 0.476471              | 0.130208    |"
      ]
     },
     "metadata": {},
     "output_type": "display_data"
    },
    {
     "data": {
      "text/html": [
       "<pre>| 19      | 1m 32s       | 0.222579          | 0.47152               | 0.130208    |</pre>"
      ],
      "text/plain": [
       "| 19      | 1m 32s       | 0.222579          | 0.47152               | 0.130208    |"
      ]
     },
     "metadata": {},
     "output_type": "display_data"
    },
    {
     "data": {
      "text/html": [
       "<pre>| 20      | 1m 37s       | 0.218584          | 0.467262              | 0.130208    |</pre>"
      ],
      "text/plain": [
       "| 20      | 1m 37s       | 0.218584          | 0.467262              | 0.130208    |"
      ]
     },
     "metadata": {},
     "output_type": "display_data"
    },
    {
     "data": {
      "text/html": [
       "<pre>| 21      | 1m 42s       | 0.214698          | 0.463081              | 0.130208    |</pre>"
      ],
      "text/plain": [
       "| 21      | 1m 42s       | 0.214698          | 0.463081              | 0.130208    |"
      ]
     },
     "metadata": {},
     "output_type": "display_data"
    },
    {
     "data": {
      "text/html": [
       "<pre>| 22      | 1m 46s       | 0.211677          | 0.459805              | 0.130208    |</pre>"
      ],
      "text/plain": [
       "| 22      | 1m 46s       | 0.211677          | 0.459805              | 0.130208    |"
      ]
     },
     "metadata": {},
     "output_type": "display_data"
    },
    {
     "data": {
      "text/html": [
       "<pre>| 23      | 1m 50s       | 0.207565          | 0.455308              | 0.130208    |</pre>"
      ],
      "text/plain": [
       "| 23      | 1m 50s       | 0.207565          | 0.455308              | 0.130208    |"
      ]
     },
     "metadata": {},
     "output_type": "display_data"
    },
    {
     "data": {
      "text/html": [
       "<pre>| 24      | 1m 55s       | 0.204179          | 0.451571              | 0.130208    |</pre>"
      ],
      "text/plain": [
       "| 24      | 1m 55s       | 0.204179          | 0.451571              | 0.130208    |"
      ]
     },
     "metadata": {},
     "output_type": "display_data"
    },
    {
     "data": {
      "text/html": [
       "<pre>| 25      | 2m 0s        | 0.20159           | 0.448692              | 0.130208    |</pre>"
      ],
      "text/plain": [
       "| 25      | 2m 0s        | 0.20159           | 0.448692              | 0.130208    |"
      ]
     },
     "metadata": {},
     "output_type": "display_data"
    },
    {
     "data": {
      "text/html": [
       "<pre>| 26      | 2m 4s        | 0.199056          | 0.445857              | 0.130208    |</pre>"
      ],
      "text/plain": [
       "| 26      | 2m 4s        | 0.199056          | 0.445857              | 0.130208    |"
      ]
     },
     "metadata": {},
     "output_type": "display_data"
    },
    {
     "data": {
      "text/html": [
       "<pre>| 27      | 2m 9s        | 0.19974           | 0.446618              | 0.130208    |</pre>"
      ],
      "text/plain": [
       "| 27      | 2m 9s        | 0.19974           | 0.446618              | 0.130208    |"
      ]
     },
     "metadata": {},
     "output_type": "display_data"
    },
    {
     "data": {
      "text/html": [
       "<pre>| 28      | 2m 13s       | 0.202993          | 0.450242              | 0.130208    |</pre>"
      ],
      "text/plain": [
       "| 28      | 2m 13s       | 0.202993          | 0.450242              | 0.130208    |"
      ]
     },
     "metadata": {},
     "output_type": "display_data"
    },
    {
     "data": {
      "text/html": [
       "<pre>| 29      | 2m 18s       | 0.216944          | 0.465473              | 0.130208    |</pre>"
      ],
      "text/plain": [
       "| 29      | 2m 18s       | 0.216944          | 0.465473              | 0.130208    |"
      ]
     },
     "metadata": {},
     "output_type": "display_data"
    },
    {
     "data": {
      "text/html": [
       "<pre>| 30      | 2m 22s       | 0.238854          | 0.488439              | 0.130208    |</pre>"
      ],
      "text/plain": [
       "| 30      | 2m 22s       | 0.238854          | 0.488439              | 0.130208    |"
      ]
     },
     "metadata": {},
     "output_type": "display_data"
    },
    {
     "data": {
      "text/html": [
       "<pre>| 31      | 2m 27s       | 0.281078          | 0.529901              | 0.130208    |</pre>"
      ],
      "text/plain": [
       "| 31      | 2m 27s       | 0.281078          | 0.529901              | 0.130208    |"
      ]
     },
     "metadata": {},
     "output_type": "display_data"
    },
    {
     "data": {
      "text/html": [
       "<pre>| 32      | 2m 33s       | 0.282591          | 0.531326              | 0.130208    |</pre>"
      ],
      "text/plain": [
       "| 32      | 2m 33s       | 0.282591          | 0.531326              | 0.130208    |"
      ]
     },
     "metadata": {},
     "output_type": "display_data"
    },
    {
     "data": {
      "text/html": [
       "<pre>| 33      | 2m 37s       | 0.269013          | 0.518391              | 0.130208    |</pre>"
      ],
      "text/plain": [
       "| 33      | 2m 37s       | 0.269013          | 0.518391              | 0.130208    |"
      ]
     },
     "metadata": {},
     "output_type": "display_data"
    },
    {
     "data": {
      "text/html": [
       "<pre>| 34      | 2m 43s       | 0.222378          | 0.471268              | 0.130208    |</pre>"
      ],
      "text/plain": [
       "| 34      | 2m 43s       | 0.222378          | 0.471268              | 0.130208    |"
      ]
     },
     "metadata": {},
     "output_type": "display_data"
    },
    {
     "data": {
      "text/html": [
       "<pre>| 35      | 2m 47s       | 0.206823          | 0.454463              | 0.130208    |</pre>"
      ],
      "text/plain": [
       "| 35      | 2m 47s       | 0.206823          | 0.454463              | 0.130208    |"
      ]
     },
     "metadata": {},
     "output_type": "display_data"
    },
    {
     "data": {
      "text/html": [
       "<pre>| 36      | 2m 51s       | 0.198595          | 0.445317              | 0.130208    |</pre>"
      ],
      "text/plain": [
       "| 36      | 2m 51s       | 0.198595          | 0.445317              | 0.130208    |"
      ]
     },
     "metadata": {},
     "output_type": "display_data"
    },
    {
     "data": {
      "text/html": [
       "<pre>| 37      | 2m 56s       | 0.19283           | 0.438796              | 0.130208    |</pre>"
      ],
      "text/plain": [
       "| 37      | 2m 56s       | 0.19283           | 0.438796              | 0.130208    |"
      ]
     },
     "metadata": {},
     "output_type": "display_data"
    },
    {
     "data": {
      "text/html": [
       "<pre>| 38      | 3m 0s        | 0.188538          | 0.433877              | 0.130208    |</pre>"
      ],
      "text/plain": [
       "| 38      | 3m 0s        | 0.188538          | 0.433877              | 0.130208    |"
      ]
     },
     "metadata": {},
     "output_type": "display_data"
    },
    {
     "data": {
      "text/html": [
       "<pre>| 39      | 3m 5s        | 0.185069          | 0.429859              | 0.130208    |</pre>"
      ],
      "text/plain": [
       "| 39      | 3m 5s        | 0.185069          | 0.429859              | 0.130208    |"
      ]
     },
     "metadata": {},
     "output_type": "display_data"
    },
    {
     "data": {
      "text/html": [
       "<pre>| 40      | 3m 9s        | 0.181964          | 0.426231              | 0.130208    |</pre>"
      ],
      "text/plain": [
       "| 40      | 3m 9s        | 0.181964          | 0.426231              | 0.130208    |"
      ]
     },
     "metadata": {},
     "output_type": "display_data"
    },
    {
     "data": {
      "text/html": [
       "<pre>| 41      | 3m 14s       | 0.17951           | 0.42334               | 0.130208    |</pre>"
      ],
      "text/plain": [
       "| 41      | 3m 14s       | 0.17951           | 0.42334               | 0.130208    |"
      ]
     },
     "metadata": {},
     "output_type": "display_data"
    },
    {
     "data": {
      "text/html": [
       "<pre>| 42      | 3m 18s       | 0.177516          | 0.420977              | 0.130208    |</pre>"
      ],
      "text/plain": [
       "| 42      | 3m 18s       | 0.177516          | 0.420977              | 0.130208    |"
      ]
     },
     "metadata": {},
     "output_type": "display_data"
    },
    {
     "data": {
      "text/html": [
       "<pre>| 43      | 3m 23s       | 0.17548           | 0.41855               | 0.130208    |</pre>"
      ],
      "text/plain": [
       "| 43      | 3m 23s       | 0.17548           | 0.41855               | 0.130208    |"
      ]
     },
     "metadata": {},
     "output_type": "display_data"
    },
    {
     "data": {
      "text/html": [
       "<pre>| 44      | 3m 28s       | 0.173917          | 0.416677              | 0.130208    |</pre>"
      ],
      "text/plain": [
       "| 44      | 3m 28s       | 0.173917          | 0.416677              | 0.130208    |"
      ]
     },
     "metadata": {},
     "output_type": "display_data"
    },
    {
     "data": {
      "text/html": [
       "<pre>| 45      | 3m 33s       | 0.1725            | 0.414971              | 0.130208    |</pre>"
      ],
      "text/plain": [
       "| 45      | 3m 33s       | 0.1725            | 0.414971              | 0.130208    |"
      ]
     },
     "metadata": {},
     "output_type": "display_data"
    },
    {
     "data": {
      "text/html": [
       "<pre>| 46      | 3m 38s       | 0.17074           | 0.412843              | 0.130208    |</pre>"
      ],
      "text/plain": [
       "| 46      | 3m 38s       | 0.17074           | 0.412843              | 0.130208    |"
      ]
     },
     "metadata": {},
     "output_type": "display_data"
    },
    {
     "data": {
      "text/html": [
       "<pre>| 47      | 3m 42s       | 0.169182          | 0.410951              | 0.130208    |</pre>"
      ],
      "text/plain": [
       "| 47      | 3m 42s       | 0.169182          | 0.410951              | 0.130208    |"
      ]
     },
     "metadata": {},
     "output_type": "display_data"
    },
    {
     "data": {
      "text/html": [
       "<pre>| 48      | 3m 47s       | 0.167303          | 0.408656              | 0.130208    |</pre>"
      ],
      "text/plain": [
       "| 48      | 3m 47s       | 0.167303          | 0.408656              | 0.130208    |"
      ]
     },
     "metadata": {},
     "output_type": "display_data"
    },
    {
     "data": {
      "text/html": [
       "<pre>| 49      | 3m 52s       | 0.165952          | 0.406998              | 0.130208    |</pre>"
      ],
      "text/plain": [
       "| 49      | 3m 52s       | 0.165952          | 0.406998              | 0.130208    |"
      ]
     },
     "metadata": {},
     "output_type": "display_data"
    },
    {
     "data": {
      "text/html": [
       "<pre>| 50      | 3m 57s       | 0.164537          | 0.405255              | 0.130208    |</pre>"
      ],
      "text/plain": [
       "| 50      | 3m 57s       | 0.164537          | 0.405255              | 0.130208    |"
      ]
     },
     "metadata": {},
     "output_type": "display_data"
    },
    {
     "data": {
      "text/html": [
       "<pre>+---------+--------------+-------------------+-----------------------+-------------+</pre>"
      ],
      "text/plain": [
       "+---------+--------------+-------------------+-----------------------+-------------+"
      ]
     },
     "metadata": {},
     "output_type": "display_data"
    },
    {
     "data": {
      "text/html": [
       "<pre>Optimization Complete: Maximum number of passes through the data reached.</pre>"
      ],
      "text/plain": [
       "Optimization Complete: Maximum number of passes through the data reached."
      ]
     },
     "metadata": {},
     "output_type": "display_data"
    },
    {
     "data": {
      "text/html": [
       "<pre>Computing final objective value and training RMSE.</pre>"
      ],
      "text/plain": [
       "Computing final objective value and training RMSE."
      ]
     },
     "metadata": {},
     "output_type": "display_data"
    },
    {
     "data": {
      "text/html": [
       "<pre>       Final objective value: 0.150597</pre>"
      ],
      "text/plain": [
       "       Final objective value: 0.150597"
      ]
     },
     "metadata": {},
     "output_type": "display_data"
    },
    {
     "data": {
      "text/html": [
       "<pre>       Final training RMSE: 0.387674</pre>"
      ],
      "text/plain": [
       "       Final training RMSE: 0.387674"
      ]
     },
     "metadata": {},
     "output_type": "display_data"
    },
    {
     "name": "stdout",
     "output_type": "stream",
     "text": [
      "PROGRESS: Evaluate model M0\n"
     ]
    },
    {
     "data": {
      "text/html": [
       "<pre>recommendations finished on 1000/28563 queries. users per second: 10545.6</pre>"
      ],
      "text/plain": [
       "recommendations finished on 1000/28563 queries. users per second: 10545.6"
      ]
     },
     "metadata": {},
     "output_type": "display_data"
    },
    {
     "data": {
      "text/html": [
       "<pre>recommendations finished on 2000/28563 queries. users per second: 10355.1</pre>"
      ],
      "text/plain": [
       "recommendations finished on 2000/28563 queries. users per second: 10355.1"
      ]
     },
     "metadata": {},
     "output_type": "display_data"
    },
    {
     "data": {
      "text/html": [
       "<pre>recommendations finished on 3000/28563 queries. users per second: 10264</pre>"
      ],
      "text/plain": [
       "recommendations finished on 3000/28563 queries. users per second: 10264"
      ]
     },
     "metadata": {},
     "output_type": "display_data"
    },
    {
     "data": {
      "text/html": [
       "<pre>recommendations finished on 4000/28563 queries. users per second: 13115.9</pre>"
      ],
      "text/plain": [
       "recommendations finished on 4000/28563 queries. users per second: 13115.9"
      ]
     },
     "metadata": {},
     "output_type": "display_data"
    },
    {
     "data": {
      "text/html": [
       "<pre>recommendations finished on 5000/28563 queries. users per second: 12376.1</pre>"
      ],
      "text/plain": [
       "recommendations finished on 5000/28563 queries. users per second: 12376.1"
      ]
     },
     "metadata": {},
     "output_type": "display_data"
    },
    {
     "data": {
      "text/html": [
       "<pre>recommendations finished on 6000/28563 queries. users per second: 11932.4</pre>"
      ],
      "text/plain": [
       "recommendations finished on 6000/28563 queries. users per second: 11932.4"
      ]
     },
     "metadata": {},
     "output_type": "display_data"
    },
    {
     "data": {
      "text/html": [
       "<pre>recommendations finished on 7000/28563 queries. users per second: 11634.5</pre>"
      ],
      "text/plain": [
       "recommendations finished on 7000/28563 queries. users per second: 11634.5"
      ]
     },
     "metadata": {},
     "output_type": "display_data"
    },
    {
     "data": {
      "text/html": [
       "<pre>recommendations finished on 8000/28563 queries. users per second: 11423</pre>"
      ],
      "text/plain": [
       "recommendations finished on 8000/28563 queries. users per second: 11423"
      ]
     },
     "metadata": {},
     "output_type": "display_data"
    },
    {
     "data": {
      "text/html": [
       "<pre>recommendations finished on 9000/28563 queries. users per second: 11259.1</pre>"
      ],
      "text/plain": [
       "recommendations finished on 9000/28563 queries. users per second: 11259.1"
      ]
     },
     "metadata": {},
     "output_type": "display_data"
    },
    {
     "data": {
      "text/html": [
       "<pre>recommendations finished on 10000/28563 queries. users per second: 11128</pre>"
      ],
      "text/plain": [
       "recommendations finished on 10000/28563 queries. users per second: 11128"
      ]
     },
     "metadata": {},
     "output_type": "display_data"
    },
    {
     "data": {
      "text/html": [
       "<pre>recommendations finished on 11000/28563 queries. users per second: 11028.1</pre>"
      ],
      "text/plain": [
       "recommendations finished on 11000/28563 queries. users per second: 11028.1"
      ]
     },
     "metadata": {},
     "output_type": "display_data"
    },
    {
     "data": {
      "text/html": [
       "<pre>recommendations finished on 12000/28563 queries. users per second: 10938.7</pre>"
      ],
      "text/plain": [
       "recommendations finished on 12000/28563 queries. users per second: 10938.7"
      ]
     },
     "metadata": {},
     "output_type": "display_data"
    },
    {
     "data": {
      "text/html": [
       "<pre>recommendations finished on 13000/28563 queries. users per second: 10874.1</pre>"
      ],
      "text/plain": [
       "recommendations finished on 13000/28563 queries. users per second: 10874.1"
      ]
     },
     "metadata": {},
     "output_type": "display_data"
    },
    {
     "data": {
      "text/html": [
       "<pre>recommendations finished on 14000/28563 queries. users per second: 10815.9</pre>"
      ],
      "text/plain": [
       "recommendations finished on 14000/28563 queries. users per second: 10815.9"
      ]
     },
     "metadata": {},
     "output_type": "display_data"
    },
    {
     "data": {
      "text/html": [
       "<pre>recommendations finished on 15000/28563 queries. users per second: 10768.4</pre>"
      ],
      "text/plain": [
       "recommendations finished on 15000/28563 queries. users per second: 10768.4"
      ]
     },
     "metadata": {},
     "output_type": "display_data"
    },
    {
     "data": {
      "text/html": [
       "<pre>recommendations finished on 16000/28563 queries. users per second: 10723.6</pre>"
      ],
      "text/plain": [
       "recommendations finished on 16000/28563 queries. users per second: 10723.6"
      ]
     },
     "metadata": {},
     "output_type": "display_data"
    },
    {
     "data": {
      "text/html": [
       "<pre>recommendations finished on 17000/28563 queries. users per second: 11270.2</pre>"
      ],
      "text/plain": [
       "recommendations finished on 17000/28563 queries. users per second: 11270.2"
      ]
     },
     "metadata": {},
     "output_type": "display_data"
    },
    {
     "data": {
      "text/html": [
       "<pre>recommendations finished on 18000/28563 queries. users per second: 10641</pre>"
      ],
      "text/plain": [
       "recommendations finished on 18000/28563 queries. users per second: 10641"
      ]
     },
     "metadata": {},
     "output_type": "display_data"
    },
    {
     "data": {
      "text/html": [
       "<pre>recommendations finished on 19000/28563 queries. users per second: 11155.7</pre>"
      ],
      "text/plain": [
       "recommendations finished on 19000/28563 queries. users per second: 11155.7"
      ]
     },
     "metadata": {},
     "output_type": "display_data"
    },
    {
     "data": {
      "text/html": [
       "<pre>recommendations finished on 20000/28563 queries. users per second: 11095.7</pre>"
      ],
      "text/plain": [
       "recommendations finished on 20000/28563 queries. users per second: 11095.7"
      ]
     },
     "metadata": {},
     "output_type": "display_data"
    },
    {
     "data": {
      "text/html": [
       "<pre>recommendations finished on 21000/28563 queries. users per second: 11046.7</pre>"
      ],
      "text/plain": [
       "recommendations finished on 21000/28563 queries. users per second: 11046.7"
      ]
     },
     "metadata": {},
     "output_type": "display_data"
    },
    {
     "data": {
      "text/html": [
       "<pre>recommendations finished on 22000/28563 queries. users per second: 10998.3</pre>"
      ],
      "text/plain": [
       "recommendations finished on 22000/28563 queries. users per second: 10998.3"
      ]
     },
     "metadata": {},
     "output_type": "display_data"
    },
    {
     "data": {
      "text/html": [
       "<pre>recommendations finished on 23000/28563 queries. users per second: 10957.6</pre>"
      ],
      "text/plain": [
       "recommendations finished on 23000/28563 queries. users per second: 10957.6"
      ]
     },
     "metadata": {},
     "output_type": "display_data"
    },
    {
     "data": {
      "text/html": [
       "<pre>recommendations finished on 24000/28563 queries. users per second: 10923.1</pre>"
      ],
      "text/plain": [
       "recommendations finished on 24000/28563 queries. users per second: 10923.1"
      ]
     },
     "metadata": {},
     "output_type": "display_data"
    },
    {
     "data": {
      "text/html": [
       "<pre>recommendations finished on 25000/28563 queries. users per second: 10887.6</pre>"
      ],
      "text/plain": [
       "recommendations finished on 25000/28563 queries. users per second: 10887.6"
      ]
     },
     "metadata": {},
     "output_type": "display_data"
    },
    {
     "data": {
      "text/html": [
       "<pre>recommendations finished on 26000/28563 queries. users per second: 10855.7</pre>"
      ],
      "text/plain": [
       "recommendations finished on 26000/28563 queries. users per second: 10855.7"
      ]
     },
     "metadata": {},
     "output_type": "display_data"
    },
    {
     "data": {
      "text/html": [
       "<pre>recommendations finished on 27000/28563 queries. users per second: 10826.3</pre>"
      ],
      "text/plain": [
       "recommendations finished on 27000/28563 queries. users per second: 10826.3"
      ]
     },
     "metadata": {},
     "output_type": "display_data"
    },
    {
     "data": {
      "text/html": [
       "<pre>recommendations finished on 28000/28563 queries. users per second: 10796.8</pre>"
      ],
      "text/plain": [
       "recommendations finished on 28000/28563 queries. users per second: 10796.8"
      ]
     },
     "metadata": {},
     "output_type": "display_data"
    },
    {
     "name": "stdout",
     "output_type": "stream",
     "text": [
      "\n",
      "Precision and recall summary statistics by cutoff\n",
      "+--------+-------------------+-------------------+\n",
      "| cutoff |   mean_precision  |    mean_recall    |\n",
      "+--------+-------------------+-------------------+\n",
      "|   1    |        0.0        |        0.0        |\n",
      "|   2    |        0.0        |        0.0        |\n",
      "|   3    |        0.0        |        0.0        |\n",
      "|   4    |        0.0        |        0.0        |\n",
      "|   5    |        0.0        |        0.0        |\n",
      "|   6    |        0.0        |        0.0        |\n",
      "|   7    |        0.0        |        0.0        |\n",
      "|   8    | 4.37629100585e-06 | 3.50103280468e-05 |\n",
      "|   9    | 3.89003644964e-06 | 3.50103280468e-05 |\n",
      "|   10   | 7.00206560935e-06 | 4.37629100585e-05 |\n",
      "+--------+-------------------+-------------------+\n",
      "[10 rows x 3 columns]\n",
      "\n",
      "PROGRESS: Evaluate model M1\n"
     ]
    },
    {
     "data": {
      "text/html": [
       "<pre>recommendations finished on 1000/28563 queries. users per second: 11115.2</pre>"
      ],
      "text/plain": [
       "recommendations finished on 1000/28563 queries. users per second: 11115.2"
      ]
     },
     "metadata": {},
     "output_type": "display_data"
    },
    {
     "data": {
      "text/html": [
       "<pre>recommendations finished on 2000/28563 queries. users per second: 10356.3</pre>"
      ],
      "text/plain": [
       "recommendations finished on 2000/28563 queries. users per second: 10356.3"
      ]
     },
     "metadata": {},
     "output_type": "display_data"
    },
    {
     "data": {
      "text/html": [
       "<pre>recommendations finished on 3000/28563 queries. users per second: 7918.99</pre>"
      ],
      "text/plain": [
       "recommendations finished on 3000/28563 queries. users per second: 7918.99"
      ]
     },
     "metadata": {},
     "output_type": "display_data"
    },
    {
     "data": {
      "text/html": [
       "<pre>recommendations finished on 4000/28563 queries. users per second: 8306.27</pre>"
      ],
      "text/plain": [
       "recommendations finished on 4000/28563 queries. users per second: 8306.27"
      ]
     },
     "metadata": {},
     "output_type": "display_data"
    },
    {
     "data": {
      "text/html": [
       "<pre>recommendations finished on 5000/28563 queries. users per second: 8566.04</pre>"
      ],
      "text/plain": [
       "recommendations finished on 5000/28563 queries. users per second: 8566.04"
      ]
     },
     "metadata": {},
     "output_type": "display_data"
    },
    {
     "data": {
      "text/html": [
       "<pre>recommendations finished on 6000/28563 queries. users per second: 8740.29</pre>"
      ],
      "text/plain": [
       "recommendations finished on 6000/28563 queries. users per second: 8740.29"
      ]
     },
     "metadata": {},
     "output_type": "display_data"
    },
    {
     "data": {
      "text/html": [
       "<pre>recommendations finished on 7000/28563 queries. users per second: 8855.55</pre>"
      ],
      "text/plain": [
       "recommendations finished on 7000/28563 queries. users per second: 8855.55"
      ]
     },
     "metadata": {},
     "output_type": "display_data"
    },
    {
     "data": {
      "text/html": [
       "<pre>recommendations finished on 8000/28563 queries. users per second: 8964.43</pre>"
      ],
      "text/plain": [
       "recommendations finished on 8000/28563 queries. users per second: 8964.43"
      ]
     },
     "metadata": {},
     "output_type": "display_data"
    },
    {
     "data": {
      "text/html": [
       "<pre>recommendations finished on 9000/28563 queries. users per second: 8339.47</pre>"
      ],
      "text/plain": [
       "recommendations finished on 9000/28563 queries. users per second: 8339.47"
      ]
     },
     "metadata": {},
     "output_type": "display_data"
    },
    {
     "data": {
      "text/html": [
       "<pre>recommendations finished on 10000/28563 queries. users per second: 8465.17</pre>"
      ],
      "text/plain": [
       "recommendations finished on 10000/28563 queries. users per second: 8465.17"
      ]
     },
     "metadata": {},
     "output_type": "display_data"
    },
    {
     "data": {
      "text/html": [
       "<pre>recommendations finished on 11000/28563 queries. users per second: 8571.11</pre>"
      ],
      "text/plain": [
       "recommendations finished on 11000/28563 queries. users per second: 8571.11"
      ]
     },
     "metadata": {},
     "output_type": "display_data"
    },
    {
     "data": {
      "text/html": [
       "<pre>recommendations finished on 12000/28563 queries. users per second: 8662.33</pre>"
      ],
      "text/plain": [
       "recommendations finished on 12000/28563 queries. users per second: 8662.33"
      ]
     },
     "metadata": {},
     "output_type": "display_data"
    },
    {
     "data": {
      "text/html": [
       "<pre>recommendations finished on 13000/28563 queries. users per second: 8739.93</pre>"
      ],
      "text/plain": [
       "recommendations finished on 13000/28563 queries. users per second: 8739.93"
      ]
     },
     "metadata": {},
     "output_type": "display_data"
    },
    {
     "data": {
      "text/html": [
       "<pre>recommendations finished on 14000/28563 queries. users per second: 8798.75</pre>"
      ],
      "text/plain": [
       "recommendations finished on 14000/28563 queries. users per second: 8798.75"
      ]
     },
     "metadata": {},
     "output_type": "display_data"
    },
    {
     "data": {
      "text/html": [
       "<pre>recommendations finished on 15000/28563 queries. users per second: 8435.53</pre>"
      ],
      "text/plain": [
       "recommendations finished on 15000/28563 queries. users per second: 8435.53"
      ]
     },
     "metadata": {},
     "output_type": "display_data"
    },
    {
     "data": {
      "text/html": [
       "<pre>recommendations finished on 16000/28563 queries. users per second: 8505.04</pre>"
      ],
      "text/plain": [
       "recommendations finished on 16000/28563 queries. users per second: 8505.04"
      ]
     },
     "metadata": {},
     "output_type": "display_data"
    },
    {
     "data": {
      "text/html": [
       "<pre>recommendations finished on 17000/28563 queries. users per second: 8570.68</pre>"
      ],
      "text/plain": [
       "recommendations finished on 17000/28563 queries. users per second: 8570.68"
      ]
     },
     "metadata": {},
     "output_type": "display_data"
    },
    {
     "data": {
      "text/html": [
       "<pre>recommendations finished on 18000/28563 queries. users per second: 8628.69</pre>"
      ],
      "text/plain": [
       "recommendations finished on 18000/28563 queries. users per second: 8628.69"
      ]
     },
     "metadata": {},
     "output_type": "display_data"
    },
    {
     "data": {
      "text/html": [
       "<pre>recommendations finished on 19000/28563 queries. users per second: 8683.34</pre>"
      ],
      "text/plain": [
       "recommendations finished on 19000/28563 queries. users per second: 8683.34"
      ]
     },
     "metadata": {},
     "output_type": "display_data"
    },
    {
     "data": {
      "text/html": [
       "<pre>recommendations finished on 20000/28563 queries. users per second: 8732.47</pre>"
      ],
      "text/plain": [
       "recommendations finished on 20000/28563 queries. users per second: 8732.47"
      ]
     },
     "metadata": {},
     "output_type": "display_data"
    },
    {
     "data": {
      "text/html": [
       "<pre>recommendations finished on 21000/28563 queries. users per second: 8473.4</pre>"
      ],
      "text/plain": [
       "recommendations finished on 21000/28563 queries. users per second: 8473.4"
      ]
     },
     "metadata": {},
     "output_type": "display_data"
    },
    {
     "data": {
      "text/html": [
       "<pre>recommendations finished on 22000/28563 queries. users per second: 8524.8</pre>"
      ],
      "text/plain": [
       "recommendations finished on 22000/28563 queries. users per second: 8524.8"
      ]
     },
     "metadata": {},
     "output_type": "display_data"
    },
    {
     "data": {
      "text/html": [
       "<pre>recommendations finished on 23000/28563 queries. users per second: 8572.44</pre>"
      ],
      "text/plain": [
       "recommendations finished on 23000/28563 queries. users per second: 8572.44"
      ]
     },
     "metadata": {},
     "output_type": "display_data"
    },
    {
     "data": {
      "text/html": [
       "<pre>recommendations finished on 24000/28563 queries. users per second: 8617.94</pre>"
      ],
      "text/plain": [
       "recommendations finished on 24000/28563 queries. users per second: 8617.94"
      ]
     },
     "metadata": {},
     "output_type": "display_data"
    },
    {
     "data": {
      "text/html": [
       "<pre>recommendations finished on 25000/28563 queries. users per second: 8660.21</pre>"
      ],
      "text/plain": [
       "recommendations finished on 25000/28563 queries. users per second: 8660.21"
      ]
     },
     "metadata": {},
     "output_type": "display_data"
    },
    {
     "data": {
      "text/html": [
       "<pre>recommendations finished on 26000/28563 queries. users per second: 8696.93</pre>"
      ],
      "text/plain": [
       "recommendations finished on 26000/28563 queries. users per second: 8696.93"
      ]
     },
     "metadata": {},
     "output_type": "display_data"
    },
    {
     "data": {
      "text/html": [
       "<pre>recommendations finished on 27000/28563 queries. users per second: 8726.91</pre>"
      ],
      "text/plain": [
       "recommendations finished on 27000/28563 queries. users per second: 8726.91"
      ]
     },
     "metadata": {},
     "output_type": "display_data"
    },
    {
     "data": {
      "text/html": [
       "<pre>recommendations finished on 28000/28563 queries. users per second: 8720.53</pre>"
      ],
      "text/plain": [
       "recommendations finished on 28000/28563 queries. users per second: 8720.53"
      ]
     },
     "metadata": {},
     "output_type": "display_data"
    },
    {
     "name": "stdout",
     "output_type": "stream",
     "text": [
      "\n",
      "Precision and recall summary statistics by cutoff\n",
      "+--------+-------------------+-------------------+\n",
      "| cutoff |   mean_precision  |    mean_recall    |\n",
      "+--------+-------------------+-------------------+\n",
      "|   1    |        0.0        |        0.0        |\n",
      "|   2    |        0.0        |        0.0        |\n",
      "|   3    |        0.0        |        0.0        |\n",
      "|   4    |        0.0        |        0.0        |\n",
      "|   5    |        0.0        |        0.0        |\n",
      "|   6    |        0.0        |        0.0        |\n",
      "|   7    |        0.0        |        0.0        |\n",
      "|   8    |        0.0        |        0.0        |\n",
      "|   9    | 3.89003644964e-06 | 1.75051640234e-05 |\n",
      "|   10   | 7.00206560935e-06 | 2.62577460351e-05 |\n",
      "+--------+-------------------+-------------------+\n",
      "[10 rows x 3 columns]\n",
      "\n",
      "PROGRESS: Evaluate model M2\n"
     ]
    },
    {
     "data": {
      "text/html": [
       "<pre>recommendations finished on 1000/28563 queries. users per second: 1045.16</pre>"
      ],
      "text/plain": [
       "recommendations finished on 1000/28563 queries. users per second: 1045.16"
      ]
     },
     "metadata": {},
     "output_type": "display_data"
    },
    {
     "data": {
      "text/html": [
       "<pre>recommendations finished on 2000/28563 queries. users per second: 1021.3</pre>"
      ],
      "text/plain": [
       "recommendations finished on 2000/28563 queries. users per second: 1021.3"
      ]
     },
     "metadata": {},
     "output_type": "display_data"
    },
    {
     "data": {
      "text/html": [
       "<pre>recommendations finished on 3000/28563 queries. users per second: 953.959</pre>"
      ],
      "text/plain": [
       "recommendations finished on 3000/28563 queries. users per second: 953.959"
      ]
     },
     "metadata": {},
     "output_type": "display_data"
    },
    {
     "data": {
      "text/html": [
       "<pre>recommendations finished on 4000/28563 queries. users per second: 940.548</pre>"
      ],
      "text/plain": [
       "recommendations finished on 4000/28563 queries. users per second: 940.548"
      ]
     },
     "metadata": {},
     "output_type": "display_data"
    },
    {
     "data": {
      "text/html": [
       "<pre>recommendations finished on 5000/28563 queries. users per second: 934.689</pre>"
      ],
      "text/plain": [
       "recommendations finished on 5000/28563 queries. users per second: 934.689"
      ]
     },
     "metadata": {},
     "output_type": "display_data"
    },
    {
     "data": {
      "text/html": [
       "<pre>recommendations finished on 6000/28563 queries. users per second: 916.431</pre>"
      ],
      "text/plain": [
       "recommendations finished on 6000/28563 queries. users per second: 916.431"
      ]
     },
     "metadata": {},
     "output_type": "display_data"
    },
    {
     "data": {
      "text/html": [
       "<pre>recommendations finished on 7000/28563 queries. users per second: 892.158</pre>"
      ],
      "text/plain": [
       "recommendations finished on 7000/28563 queries. users per second: 892.158"
      ]
     },
     "metadata": {},
     "output_type": "display_data"
    },
    {
     "data": {
      "text/html": [
       "<pre>recommendations finished on 8000/28563 queries. users per second: 883.35</pre>"
      ],
      "text/plain": [
       "recommendations finished on 8000/28563 queries. users per second: 883.35"
      ]
     },
     "metadata": {},
     "output_type": "display_data"
    },
    {
     "data": {
      "text/html": [
       "<pre>recommendations finished on 9000/28563 queries. users per second: 869.537</pre>"
      ],
      "text/plain": [
       "recommendations finished on 9000/28563 queries. users per second: 869.537"
      ]
     },
     "metadata": {},
     "output_type": "display_data"
    },
    {
     "data": {
      "text/html": [
       "<pre>recommendations finished on 10000/28563 queries. users per second: 858.768</pre>"
      ],
      "text/plain": [
       "recommendations finished on 10000/28563 queries. users per second: 858.768"
      ]
     },
     "metadata": {},
     "output_type": "display_data"
    },
    {
     "data": {
      "text/html": [
       "<pre>recommendations finished on 11000/28563 queries. users per second: 849.333</pre>"
      ],
      "text/plain": [
       "recommendations finished on 11000/28563 queries. users per second: 849.333"
      ]
     },
     "metadata": {},
     "output_type": "display_data"
    },
    {
     "data": {
      "text/html": [
       "<pre>recommendations finished on 12000/28563 queries. users per second: 847.453</pre>"
      ],
      "text/plain": [
       "recommendations finished on 12000/28563 queries. users per second: 847.453"
      ]
     },
     "metadata": {},
     "output_type": "display_data"
    },
    {
     "data": {
      "text/html": [
       "<pre>recommendations finished on 13000/28563 queries. users per second: 846.86</pre>"
      ],
      "text/plain": [
       "recommendations finished on 13000/28563 queries. users per second: 846.86"
      ]
     },
     "metadata": {},
     "output_type": "display_data"
    },
    {
     "data": {
      "text/html": [
       "<pre>recommendations finished on 14000/28563 queries. users per second: 850.523</pre>"
      ],
      "text/plain": [
       "recommendations finished on 14000/28563 queries. users per second: 850.523"
      ]
     },
     "metadata": {},
     "output_type": "display_data"
    },
    {
     "data": {
      "text/html": [
       "<pre>recommendations finished on 15000/28563 queries. users per second: 850.1</pre>"
      ],
      "text/plain": [
       "recommendations finished on 15000/28563 queries. users per second: 850.1"
      ]
     },
     "metadata": {},
     "output_type": "display_data"
    },
    {
     "data": {
      "text/html": [
       "<pre>recommendations finished on 16000/28563 queries. users per second: 857.48</pre>"
      ],
      "text/plain": [
       "recommendations finished on 16000/28563 queries. users per second: 857.48"
      ]
     },
     "metadata": {},
     "output_type": "display_data"
    },
    {
     "data": {
      "text/html": [
       "<pre>recommendations finished on 17000/28563 queries. users per second: 856.479</pre>"
      ],
      "text/plain": [
       "recommendations finished on 17000/28563 queries. users per second: 856.479"
      ]
     },
     "metadata": {},
     "output_type": "display_data"
    },
    {
     "data": {
      "text/html": [
       "<pre>recommendations finished on 18000/28563 queries. users per second: 859.326</pre>"
      ],
      "text/plain": [
       "recommendations finished on 18000/28563 queries. users per second: 859.326"
      ]
     },
     "metadata": {},
     "output_type": "display_data"
    },
    {
     "data": {
      "text/html": [
       "<pre>recommendations finished on 19000/28563 queries. users per second: 861.727</pre>"
      ],
      "text/plain": [
       "recommendations finished on 19000/28563 queries. users per second: 861.727"
      ]
     },
     "metadata": {},
     "output_type": "display_data"
    },
    {
     "data": {
      "text/html": [
       "<pre>recommendations finished on 20000/28563 queries. users per second: 867.871</pre>"
      ],
      "text/plain": [
       "recommendations finished on 20000/28563 queries. users per second: 867.871"
      ]
     },
     "metadata": {},
     "output_type": "display_data"
    },
    {
     "data": {
      "text/html": [
       "<pre>recommendations finished on 21000/28563 queries. users per second: 876.534</pre>"
      ],
      "text/plain": [
       "recommendations finished on 21000/28563 queries. users per second: 876.534"
      ]
     },
     "metadata": {},
     "output_type": "display_data"
    },
    {
     "data": {
      "text/html": [
       "<pre>recommendations finished on 22000/28563 queries. users per second: 881.857</pre>"
      ],
      "text/plain": [
       "recommendations finished on 22000/28563 queries. users per second: 881.857"
      ]
     },
     "metadata": {},
     "output_type": "display_data"
    },
    {
     "data": {
      "text/html": [
       "<pre>recommendations finished on 23000/28563 queries. users per second: 889.872</pre>"
      ],
      "text/plain": [
       "recommendations finished on 23000/28563 queries. users per second: 889.872"
      ]
     },
     "metadata": {},
     "output_type": "display_data"
    },
    {
     "data": {
      "text/html": [
       "<pre>recommendations finished on 24000/28563 queries. users per second: 903.457</pre>"
      ],
      "text/plain": [
       "recommendations finished on 24000/28563 queries. users per second: 903.457"
      ]
     },
     "metadata": {},
     "output_type": "display_data"
    },
    {
     "data": {
      "text/html": [
       "<pre>recommendations finished on 25000/28563 queries. users per second: 914.122</pre>"
      ],
      "text/plain": [
       "recommendations finished on 25000/28563 queries. users per second: 914.122"
      ]
     },
     "metadata": {},
     "output_type": "display_data"
    },
    {
     "data": {
      "text/html": [
       "<pre>recommendations finished on 26000/28563 queries. users per second: 929.925</pre>"
      ],
      "text/plain": [
       "recommendations finished on 26000/28563 queries. users per second: 929.925"
      ]
     },
     "metadata": {},
     "output_type": "display_data"
    },
    {
     "data": {
      "text/html": [
       "<pre>recommendations finished on 27000/28563 queries. users per second: 948.58</pre>"
      ],
      "text/plain": [
       "recommendations finished on 27000/28563 queries. users per second: 948.58"
      ]
     },
     "metadata": {},
     "output_type": "display_data"
    },
    {
     "data": {
      "text/html": [
       "<pre>recommendations finished on 28000/28563 queries. users per second: 966.208</pre>"
      ],
      "text/plain": [
       "recommendations finished on 28000/28563 queries. users per second: 966.208"
      ]
     },
     "metadata": {},
     "output_type": "display_data"
    },
    {
     "name": "stdout",
     "output_type": "stream",
     "text": [
      "\n",
      "Precision and recall summary statistics by cutoff\n",
      "+--------+-------------------+-------------------+\n",
      "| cutoff |   mean_precision  |    mean_recall    |\n",
      "+--------+-------------------+-------------------+\n",
      "|   1    |  0.00266078493155 | 0.000472287732029 |\n",
      "|   2    |  0.00171550607429 | 0.000620204230644 |\n",
      "|   3    |  0.00128371202838 | 0.000708631346169 |\n",
      "|   4    |  0.00108532016945 | 0.000768013762972 |\n",
      "|   5    | 0.000917270594825 | 0.000814791451279 |\n",
      "|   6    |  0.00081107259975 | 0.000871474839545 |\n",
      "|   7    | 0.000755222790723 | 0.000972442124895 |\n",
      "|   8    | 0.000704582851941 |  0.00109579795931 |\n",
      "|   9    |  0.00064574605064 |  0.00112978715279 |\n",
      "|   10   | 0.000612680740819 |  0.00119594555841 |\n",
      "+--------+-------------------+-------------------+\n",
      "[10 rows x 3 columns]\n",
      "\n",
      "Model compare metric: precision_recall\n",
      "Canvas is accessible via web browser at the URL: http://localhost:42953/index.html\n",
      "Opening Canvas in default web browser.\n"
     ]
    }
   ],
   "source": [
    "item_sim_model = graphlab.item_similarity_recommender.create(train_data, user_id='user_id', item_id='product_id', target='rating', similarity_type='pearson')\n",
    "popularity_model = graphlab.popularity_recommender.create(train_data, user_id='user_id', item_id='product_id', target='rating')\n",
    "latent_model=graphlab.factorization_recommender.create(train_data, user_id='user_id', item_id='product_id', target='rating')\n",
    "model_performance = graphlab.compare(test_data, [popularity_model, item_sim_model,latent_model])\n",
    "graphlab.show_comparison(model_performance,[popularity_model, item_sim_model,latent_model])"
   ]
  },
  {
   "cell_type": "markdown",
   "metadata": {
    "collapsed": true
   },
   "source": [
    "###  As we can see that latent model which uses unsupervised learning to shrink the users traits into latent features gives us the best result\n",
    "\n",
    "###  Below is the code that is happening in the library\n",
    "  product_crosstab=pd.pivot_table(data=normratings,values='rating',index='user_id',columns='product_id',fill_value=0)\n",
    "\n",
    "  X=product_crosstab.values.T\n",
    "  \n",
    "  import sklearn\n",
    "  \n",
    "  from sklearn.decomposition import TruncatedSVD\n",
    "\n",
    "  SVD=TruncatedSVD(n_components=20,random_state=17)\n",
    "\n",
    "  resultant_matrix=SVD.fit_transform(X)  \n",
    "  \n",
    "  resultant_matrix.shape\n",
    "  \n",
    "  import numpy as np\n",
    "  \n",
    "  corr_mat = np.corrcoef(resultant_matrix)\n",
    "   \n",
    "  product_ids=product_crosstab.columns\n",
    "  \n",
    "  productlist=list(product_ids)\n",
    "  \n",
    "  productindexlist=[]\n",
    "  \n",
    " for i in productlist:\n",
    " \n",
    "    productindexlist.append(productlist.index(i))\n",
    "    \n",
    "  allrecommendations=[]    \n",
    "  \n",
    "  for j in productindexlist:\n",
    "  \n",
    "    corr_j=corr_mat[j]\n",
    " \n",
    "    corrlist=list(product_ids[(corr_j<1.0)&(corr_j>0.98)])\n",
    "    \n",
    "    corrlist.append(j)\n",
    "  \n",
    "    allrecommendations.append(corrlist)\n",
    "  \n",
    "  print(allrecommendations)\n",
    "\n",
    "### We use the Graphlab because it was able to scale since it was able to utilize the ibm dsx spark clusters"
   ]
  },
  {
   "cell_type": "code",
   "execution_count": null,
   "metadata": {},
   "outputs": [],
   "source": []
  }
 ],
 "metadata": {
  "kernelspec": {
   "display_name": "Python 2 with Spark 2.1",
   "language": "python",
   "name": "python2-spark21"
  },
  "language_info": {
   "codemirror_mode": {
    "name": "ipython",
    "version": 2
   },
   "file_extension": ".py",
   "mimetype": "text/x-python",
   "name": "python",
   "nbconvert_exporter": "python",
   "pygments_lexer": "ipython2",
   "version": "2.7.11"
  }
 },
 "nbformat": 4,
 "nbformat_minor": 1
}
