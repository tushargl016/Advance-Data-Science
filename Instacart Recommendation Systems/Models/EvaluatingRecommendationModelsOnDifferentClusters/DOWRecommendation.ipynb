{
 "cells": [
  {
   "cell_type": "markdown",
   "metadata": {},
   "source": [
    "### Evaluating Recommendation Models on Data Clustered on basis of day of the week purchased"
   ]
  },
  {
   "cell_type": "code",
   "execution_count": 2,
   "metadata": {},
   "outputs": [],
   "source": [
    "\n",
    "from io import StringIO\n",
    "import requests\n",
    "import json\n",
    "import pandas as pd\n",
    "\n",
    "# @hidden_cell\n",
    "# This function accesses a file in your Object Storage. The definition contains your credentials.\n",
    "# You might want to remove those credentials before you share your notebook.\n",
    "def get_object_storage_file_with_credentials_836eb90819e64bfab21841eef5b3bf3c(container, filename):\n",
    "    \"\"\"This functions returns a StringIO object containing\n",
    "    the file content from Bluemix Object Storage.\"\"\"\n",
    "\n",
    "    url1 = ''.join(['https://identity.open.softlayer.com', '/v3/auth/tokens'])\n",
    "    data = {'auth': {'identity': {'methods': ['password'],\n",
    "            'password': {'user': {'name': 'member_6429e107b4727d3f5906de019f7fad88ada04fb8','domain': {'id': 'b5bbfbbc2d764a9096fd4aeb7d0d1477'},\n",
    "            'password': 'o{a{0]Dnx^MJ-dc1'}}}}}\n",
    "    headers1 = {'Content-Type': 'application/json'}\n",
    "    resp1 = requests.post(url=url1, data=json.dumps(data), headers=headers1)\n",
    "    resp1_body = resp1.json()\n",
    "    for e1 in resp1_body['token']['catalog']:\n",
    "        if(e1['type']=='object-store'):\n",
    "            for e2 in e1['endpoints']:\n",
    "                        if(e2['interface']=='public'and e2['region']=='dallas'):\n",
    "                            url2 = ''.join([e2['url'],'/', container, '/', filename])\n",
    "    s_subject_token = resp1.headers['x-subject-token']\n",
    "    headers2 = {'X-Auth-Token': s_subject_token, 'accept': 'application/json'}\n",
    "    resp2 = requests.get(url=url2, headers=headers2)\n",
    "    return StringIO(resp2.text)\n",
    "\n"
   ]
  },
  {
   "cell_type": "code",
   "execution_count": 3,
   "metadata": {},
   "outputs": [
    {
     "data": {
      "text/html": [
       "<div>\n",
       "<table border=\"1\" class=\"dataframe\">\n",
       "  <thead>\n",
       "    <tr style=\"text-align: right;\">\n",
       "      <th></th>\n",
       "      <th>Unnamed: 0</th>\n",
       "      <th>user_id</th>\n",
       "      <th>product_id</th>\n",
       "      <th>rating</th>\n",
       "    </tr>\n",
       "  </thead>\n",
       "  <tbody>\n",
       "    <tr>\n",
       "      <th>0</th>\n",
       "      <td>0</td>\n",
       "      <td>3</td>\n",
       "      <td>39190</td>\n",
       "      <td>5.000000</td>\n",
       "    </tr>\n",
       "    <tr>\n",
       "      <th>1</th>\n",
       "      <td>1</td>\n",
       "      <td>3</td>\n",
       "      <td>47766</td>\n",
       "      <td>4.166667</td>\n",
       "    </tr>\n",
       "    <tr>\n",
       "      <th>2</th>\n",
       "      <td>2</td>\n",
       "      <td>3</td>\n",
       "      <td>21903</td>\n",
       "      <td>3.333333</td>\n",
       "    </tr>\n",
       "    <tr>\n",
       "      <th>3</th>\n",
       "      <td>3</td>\n",
       "      <td>3</td>\n",
       "      <td>43961</td>\n",
       "      <td>3.333333</td>\n",
       "    </tr>\n",
       "    <tr>\n",
       "      <th>4</th>\n",
       "      <td>4</td>\n",
       "      <td>3</td>\n",
       "      <td>9387</td>\n",
       "      <td>2.500000</td>\n",
       "    </tr>\n",
       "  </tbody>\n",
       "</table>\n",
       "</div>"
      ],
      "text/plain": [
       "   Unnamed: 0  user_id  product_id    rating\n",
       "0           0        3       39190  5.000000\n",
       "1           1        3       47766  4.166667\n",
       "2           2        3       21903  3.333333\n",
       "3           3        3       43961  3.333333\n",
       "4           4        3        9387  2.500000"
      ]
     },
     "execution_count": 3,
     "metadata": {},
     "output_type": "execute_result"
    }
   ],
   "source": [
    "normratings= pd.read_csv(get_object_storage_file_with_credentials_836eb90819e64bfab21841eef5b3bf3c('insta', 'dowcluster1.csv'))\n",
    "normratings.head()\n"
   ]
  },
  {
   "cell_type": "code",
   "execution_count": 3,
   "metadata": {
    "scrolled": true
   },
   "outputs": [
    {
     "name": "stdout",
     "output_type": "stream",
     "text": [
      "Collecting https://get.graphlab.com/GraphLab-Create/2.1/goel.t@husky.neu.edu/E914-C086-1338-7082-B278-E8A7-1C13-1FDE/GraphLab-Create-License.tar.gz\n",
      "  Downloading https://get.graphlab.com/GraphLab-Create/2.1/goel.t@husky.neu.edu/E914-C086-1338-7082-B278-E8A7-1C13-1FDE/GraphLab-Create-License.tar.gz\n",
      "Requirement already up-to-date: graphlab-create>=2.1 in /gpfs/global_fs01/sym_shared/YPProdSpark/user/sed1-980fc88e6d89d3-f770736419c3/.local/lib/python2.7/site-packages (from GraphLab-Create-License==2.1)\n",
      "Requirement already up-to-date: psclient in /gpfs/global_fs01/sym_shared/YPProdSpark/user/sed1-980fc88e6d89d3-f770736419c3/.local/lib/python2.7/site-packages (from graphlab-create>=2.1->GraphLab-Create-License==2.1)\n",
      "Requirement already up-to-date: boto==2.33.0 in /gpfs/global_fs01/sym_shared/YPProdSpark/user/sed1-980fc88e6d89d3-f770736419c3/.local/lib/python2.7/site-packages (from graphlab-create>=2.1->GraphLab-Create-License==2.1)\n",
      "Requirement already up-to-date: decorator==4.0.9 in /gpfs/global_fs01/sym_shared/YPProdSpark/user/sed1-980fc88e6d89d3-f770736419c3/.local/lib/python2.7/site-packages (from graphlab-create>=2.1->GraphLab-Create-License==2.1)\n",
      "Requirement already up-to-date: tornado==4.3 in /usr/local/src/bluemix_jupyter_bundle.v73/notebook/lib/python2.7/site-packages (from graphlab-create>=2.1->GraphLab-Create-License==2.1)\n",
      "Requirement already up-to-date: prettytable==0.7.2 in /usr/local/src/bluemix_jupyter_bundle.v73/notebook/lib/python2.7/site-packages (from graphlab-create>=2.1->GraphLab-Create-License==2.1)\n",
      "Requirement already up-to-date: requests==2.9.1 in /gpfs/global_fs01/sym_shared/YPProdSpark/user/sed1-980fc88e6d89d3-f770736419c3/.local/lib/python2.7/site-packages (from graphlab-create>=2.1->GraphLab-Create-License==2.1)\n",
      "Requirement already up-to-date: awscli==1.6.2 in /gpfs/global_fs01/sym_shared/YPProdSpark/user/sed1-980fc88e6d89d3-f770736419c3/.local/lib/python2.7/site-packages (from graphlab-create>=2.1->GraphLab-Create-License==2.1)\n",
      "Requirement already up-to-date: sseclient==0.0.8 in /gpfs/global_fs01/sym_shared/YPProdSpark/user/sed1-980fc88e6d89d3-f770736419c3/.local/lib/python2.7/site-packages (from graphlab-create>=2.1->GraphLab-Create-License==2.1)\n",
      "Requirement already up-to-date: multipledispatch>=0.4.7 in /gpfs/global_fs01/sym_shared/YPProdSpark/user/sed1-980fc88e6d89d3-f770736419c3/.local/lib/python2.7/site-packages (from graphlab-create>=2.1->GraphLab-Create-License==2.1)\n",
      "Requirement already up-to-date: certifi==2015.04.28 in /gpfs/global_fs01/sym_shared/YPProdSpark/user/sed1-980fc88e6d89d3-f770736419c3/.local/lib/python2.7/site-packages (from graphlab-create>=2.1->GraphLab-Create-License==2.1)\n",
      "Requirement already up-to-date: jsonschema==2.5.1 in /usr/local/src/bluemix_jupyter_bundle.v73/notebook/lib/python2.7/site-packages (from graphlab-create>=2.1->GraphLab-Create-License==2.1)\n",
      "Requirement already up-to-date: genson==0.1.0 in /gpfs/global_fs01/sym_shared/YPProdSpark/user/sed1-980fc88e6d89d3-f770736419c3/.local/lib/python2.7/site-packages (from graphlab-create>=2.1->GraphLab-Create-License==2.1)\n",
      "Requirement already up-to-date: python-dateutil in /gpfs/global_fs01/sym_shared/YPProdSpark/user/sed1-980fc88e6d89d3-f770736419c3/.local/lib/python2.7/site-packages (from psclient->graphlab-create>=2.1->GraphLab-Create-License==2.1)\n",
      "Requirement already up-to-date: backports.ssl_match_hostname in /gpfs/global_fs01/sym_shared/YPProdSpark/user/sed1-980fc88e6d89d3-f770736419c3/.local/lib/python2.7/site-packages (from tornado==4.3->graphlab-create>=2.1->GraphLab-Create-License==2.1)\n",
      "Requirement already up-to-date: singledispatch in /usr/local/src/bluemix_jupyter_bundle.v73/notebook/lib/python2.7/site-packages (from tornado==4.3->graphlab-create>=2.1->GraphLab-Create-License==2.1)\n",
      "Requirement already up-to-date: backports_abc>=0.4 in /gpfs/global_fs01/sym_shared/YPProdSpark/user/sed1-980fc88e6d89d3-f770736419c3/.local/lib/python2.7/site-packages (from tornado==4.3->graphlab-create>=2.1->GraphLab-Create-License==2.1)\n",
      "Requirement already up-to-date: botocore<0.74.0,>=0.73.0 in /gpfs/global_fs01/sym_shared/YPProdSpark/user/sed1-980fc88e6d89d3-f770736419c3/.local/lib/python2.7/site-packages (from awscli==1.6.2->graphlab-create>=2.1->GraphLab-Create-License==2.1)\n",
      "Requirement already up-to-date: bcdoc<0.13.0,>=0.12.0 in /gpfs/global_fs01/sym_shared/YPProdSpark/user/sed1-980fc88e6d89d3-f770736419c3/.local/lib/python2.7/site-packages (from awscli==1.6.2->graphlab-create>=2.1->GraphLab-Create-License==2.1)\n",
      "Requirement already up-to-date: six>=1.1.0 in /gpfs/global_fs01/sym_shared/YPProdSpark/user/sed1-980fc88e6d89d3-f770736419c3/.local/lib/python2.7/site-packages (from awscli==1.6.2->graphlab-create>=2.1->GraphLab-Create-License==2.1)\n",
      "Requirement already up-to-date: colorama==0.2.5 in /gpfs/global_fs01/sym_shared/YPProdSpark/user/sed1-980fc88e6d89d3-f770736419c3/.local/lib/python2.7/site-packages (from awscli==1.6.2->graphlab-create>=2.1->GraphLab-Create-License==2.1)\n",
      "Requirement already up-to-date: docutils>=0.10 in /gpfs/global_fs01/sym_shared/YPProdSpark/user/sed1-980fc88e6d89d3-f770736419c3/.local/lib/python2.7/site-packages (from awscli==1.6.2->graphlab-create>=2.1->GraphLab-Create-License==2.1)\n",
      "Requirement already up-to-date: rsa==3.1.2 in /gpfs/global_fs01/sym_shared/YPProdSpark/user/sed1-980fc88e6d89d3-f770736419c3/.local/lib/python2.7/site-packages (from awscli==1.6.2->graphlab-create>=2.1->GraphLab-Create-License==2.1)\n",
      "Requirement already up-to-date: functools32; python_version == \"2.7\" in /usr/local/src/bluemix_jupyter_bundle.v73/notebook/lib/python2.7/site-packages (from jsonschema==2.5.1->graphlab-create>=2.1->GraphLab-Create-License==2.1)\n",
      "Requirement already up-to-date: jmespath==0.5.0 in /gpfs/global_fs01/sym_shared/YPProdSpark/user/sed1-980fc88e6d89d3-f770736419c3/.local/lib/python2.7/site-packages (from botocore<0.74.0,>=0.73.0->awscli==1.6.2->graphlab-create>=2.1->GraphLab-Create-License==2.1)\n",
      "Requirement already up-to-date: pyasn1>=0.1.3 in /gpfs/global_fs01/sym_shared/YPProdSpark/user/sed1-980fc88e6d89d3-f770736419c3/.local/lib/python2.7/site-packages (from rsa==3.1.2->awscli==1.6.2->graphlab-create>=2.1->GraphLab-Create-License==2.1)\n",
      "Installing collected packages: GraphLab-Create-License\n",
      "  Found existing installation: GraphLab-Create-License 2.1\n",
      "    Uninstalling GraphLab-Create-License-2.1:\n",
      "      Successfully uninstalled GraphLab-Create-License-2.1\n",
      "  Running setup.py install for GraphLab-Create-License ... \u001b[?25ldone\n",
      "\u001b[?25hSuccessfully installed GraphLab-Create-License-2.1\n"
     ]
    }
   ],
   "source": [
    "!pip install --user --upgrade --no-cache-dir https://get.graphlab.com/GraphLab-Create/2.1/goel.t@husky.neu.edu/E914-C086-1338-7082-B278-E8A7-1C13-1FDE/GraphLab-Create-License.tar.gz\n",
    "    "
   ]
  },
  {
   "cell_type": "markdown",
   "metadata": {},
   "source": [
    "### Running Recommendations by clustering on basis of day of the week"
   ]
  },
  {
   "cell_type": "code",
   "execution_count": 4,
   "metadata": {},
   "outputs": [
    {
     "name": "stdout",
     "output_type": "stream",
     "text": [
      "This non-commercial license of GraphLab Create for academic use is assigned to goel.t@husky.neu.edu and will expire on December 04, 2018.\n"
     ]
    },
    {
     "name": "stderr",
     "output_type": "stream",
     "text": [
      "[INFO] graphlab.cython.cy_server: GraphLab Create v2.1 started. Logging: /tmp/graphlab_server_1513105724.log\n"
     ]
    }
   ],
   "source": [
    "import numpy as np\n",
    "import graphlab\n",
    "\n",
    "msk = np.random.rand(len(normratings)) < 0.8\n",
    "train = normratings[msk]\n",
    "test = normratings[~msk]\n",
    "train_data = graphlab.SFrame(train)\n",
    "test_data=graphlab.SFrame(test)"
   ]
  },
  {
   "cell_type": "markdown",
   "metadata": {},
   "source": [
    "#### Creating item similarity model, popularity model and latent model on the clustered data for comparing and selecting best out of them"
   ]
  },
  {
   "cell_type": "code",
   "execution_count": 5,
   "metadata": {},
   "outputs": [
    {
     "data": {
      "text/html": [
       "<pre>Recsys training: model = item_similarity</pre>"
      ],
      "text/plain": [
       "Recsys training: model = item_similarity"
      ]
     },
     "metadata": {},
     "output_type": "display_data"
    },
    {
     "data": {
      "text/html": [
       "<pre>Warning: Ignoring columns Unnamed: 0;</pre>"
      ],
      "text/plain": [
       "Warning: Ignoring columns Unnamed: 0;"
      ]
     },
     "metadata": {},
     "output_type": "display_data"
    },
    {
     "data": {
      "text/html": [
       "<pre>    To use these columns in scoring predictions, use a model that allows the use of additional features.</pre>"
      ],
      "text/plain": [
       "    To use these columns in scoring predictions, use a model that allows the use of additional features."
      ]
     },
     "metadata": {},
     "output_type": "display_data"
    },
    {
     "data": {
      "text/html": [
       "<pre>Preparing data set.</pre>"
      ],
      "text/plain": [
       "Preparing data set."
      ]
     },
     "metadata": {},
     "output_type": "display_data"
    },
    {
     "data": {
      "text/html": [
       "<pre>    Data has 3407919 observations with 148935 users and 45296 items.</pre>"
      ],
      "text/plain": [
       "    Data has 3407919 observations with 148935 users and 45296 items."
      ]
     },
     "metadata": {},
     "output_type": "display_data"
    },
    {
     "data": {
      "text/html": [
       "<pre>    Data prepared in: 3.35033s</pre>"
      ],
      "text/plain": [
       "    Data prepared in: 3.35033s"
      ]
     },
     "metadata": {},
     "output_type": "display_data"
    },
    {
     "data": {
      "text/html": [
       "<pre>Training model from provided data.</pre>"
      ],
      "text/plain": [
       "Training model from provided data."
      ]
     },
     "metadata": {},
     "output_type": "display_data"
    },
    {
     "data": {
      "text/html": [
       "<pre>Gathering per-item and per-user statistics.</pre>"
      ],
      "text/plain": [
       "Gathering per-item and per-user statistics."
      ]
     },
     "metadata": {},
     "output_type": "display_data"
    },
    {
     "data": {
      "text/html": [
       "<pre>+--------------------------------+------------+</pre>"
      ],
      "text/plain": [
       "+--------------------------------+------------+"
      ]
     },
     "metadata": {},
     "output_type": "display_data"
    },
    {
     "data": {
      "text/html": [
       "<pre>| Elapsed Time (Item Statistics) | % Complete |</pre>"
      ],
      "text/plain": [
       "| Elapsed Time (Item Statistics) | % Complete |"
      ]
     },
     "metadata": {},
     "output_type": "display_data"
    },
    {
     "data": {
      "text/html": [
       "<pre>+--------------------------------+------------+</pre>"
      ],
      "text/plain": [
       "+--------------------------------+------------+"
      ]
     },
     "metadata": {},
     "output_type": "display_data"
    },
    {
     "data": {
      "text/html": [
       "<pre>| 482us                          | 2          |</pre>"
      ],
      "text/plain": [
       "| 482us                          | 2          |"
      ]
     },
     "metadata": {},
     "output_type": "display_data"
    },
    {
     "data": {
      "text/html": [
       "<pre>| 247.505ms                      | 100        |</pre>"
      ],
      "text/plain": [
       "| 247.505ms                      | 100        |"
      ]
     },
     "metadata": {},
     "output_type": "display_data"
    },
    {
     "data": {
      "text/html": [
       "<pre>+--------------------------------+------------+</pre>"
      ],
      "text/plain": [
       "+--------------------------------+------------+"
      ]
     },
     "metadata": {},
     "output_type": "display_data"
    },
    {
     "data": {
      "text/html": [
       "<pre>Setting up lookup tables.</pre>"
      ],
      "text/plain": [
       "Setting up lookup tables."
      ]
     },
     "metadata": {},
     "output_type": "display_data"
    },
    {
     "data": {
      "text/html": [
       "<pre>Processing data in one pass using dense lookup tables.</pre>"
      ],
      "text/plain": [
       "Processing data in one pass using dense lookup tables."
      ]
     },
     "metadata": {},
     "output_type": "display_data"
    },
    {
     "data": {
      "text/html": [
       "<pre>+-------------------------------------+------------------+-----------------+</pre>"
      ],
      "text/plain": [
       "+-------------------------------------+------------------+-----------------+"
      ]
     },
     "metadata": {},
     "output_type": "display_data"
    },
    {
     "data": {
      "text/html": [
       "<pre>| Elapsed Time (Constructing Lookups) | Total % Complete | Items Processed |</pre>"
      ],
      "text/plain": [
       "| Elapsed Time (Constructing Lookups) | Total % Complete | Items Processed |"
      ]
     },
     "metadata": {},
     "output_type": "display_data"
    },
    {
     "data": {
      "text/html": [
       "<pre>+-------------------------------------+------------------+-----------------+</pre>"
      ],
      "text/plain": [
       "+-------------------------------------+------------------+-----------------+"
      ]
     },
     "metadata": {},
     "output_type": "display_data"
    },
    {
     "data": {
      "text/html": [
       "<pre>| 2.30s                               | 0                | 0               |</pre>"
      ],
      "text/plain": [
       "| 2.30s                               | 0                | 0               |"
      ]
     },
     "metadata": {},
     "output_type": "display_data"
    },
    {
     "data": {
      "text/html": [
       "<pre>| 3.33s                               | 2.5              | 1158            |</pre>"
      ],
      "text/plain": [
       "| 3.33s                               | 2.5              | 1158            |"
      ]
     },
     "metadata": {},
     "output_type": "display_data"
    },
    {
     "data": {
      "text/html": [
       "<pre>| 4.33s                               | 5                | 2311            |</pre>"
      ],
      "text/plain": [
       "| 4.33s                               | 5                | 2311            |"
      ]
     },
     "metadata": {},
     "output_type": "display_data"
    },
    {
     "data": {
      "text/html": [
       "<pre>| 5.33s                               | 7.75             | 3535            |</pre>"
      ],
      "text/plain": [
       "| 5.33s                               | 7.75             | 3535            |"
      ]
     },
     "metadata": {},
     "output_type": "display_data"
    },
    {
     "data": {
      "text/html": [
       "<pre>| 6.33s                               | 10.5             | 4864            |</pre>"
      ],
      "text/plain": [
       "| 6.33s                               | 10.5             | 4864            |"
      ]
     },
     "metadata": {},
     "output_type": "display_data"
    },
    {
     "data": {
      "text/html": [
       "<pre>| 7.33s                               | 13.25            | 6031            |</pre>"
      ],
      "text/plain": [
       "| 7.33s                               | 13.25            | 6031            |"
      ]
     },
     "metadata": {},
     "output_type": "display_data"
    },
    {
     "data": {
      "text/html": [
       "<pre>| 8.33s                               | 15.5             | 7099            |</pre>"
      ],
      "text/plain": [
       "| 8.33s                               | 15.5             | 7099            |"
      ]
     },
     "metadata": {},
     "output_type": "display_data"
    },
    {
     "data": {
      "text/html": [
       "<pre>| 9.33s                               | 18               | 8213            |</pre>"
      ],
      "text/plain": [
       "| 9.33s                               | 18               | 8213            |"
      ]
     },
     "metadata": {},
     "output_type": "display_data"
    },
    {
     "data": {
      "text/html": [
       "<pre>| 10.33s                              | 20.75            | 9452            |</pre>"
      ],
      "text/plain": [
       "| 10.33s                              | 20.75            | 9452            |"
      ]
     },
     "metadata": {},
     "output_type": "display_data"
    },
    {
     "data": {
      "text/html": [
       "<pre>| 11.33s                              | 23.5             | 10672           |</pre>"
      ],
      "text/plain": [
       "| 11.33s                              | 23.5             | 10672           |"
      ]
     },
     "metadata": {},
     "output_type": "display_data"
    },
    {
     "data": {
      "text/html": [
       "<pre>| 12.33s                              | 25.5             | 11625           |</pre>"
      ],
      "text/plain": [
       "| 12.33s                              | 25.5             | 11625           |"
      ]
     },
     "metadata": {},
     "output_type": "display_data"
    },
    {
     "data": {
      "text/html": [
       "<pre>| 13.33s                              | 27.25            | 12352           |</pre>"
      ],
      "text/plain": [
       "| 13.33s                              | 27.25            | 12352           |"
      ]
     },
     "metadata": {},
     "output_type": "display_data"
    },
    {
     "data": {
      "text/html": [
       "<pre>| 14.33s                              | 29               | 13243           |</pre>"
      ],
      "text/plain": [
       "| 14.33s                              | 29               | 13243           |"
      ]
     },
     "metadata": {},
     "output_type": "display_data"
    },
    {
     "data": {
      "text/html": [
       "<pre>| 15.33s                              | 31.25            | 14162           |</pre>"
      ],
      "text/plain": [
       "| 15.33s                              | 31.25            | 14162           |"
      ]
     },
     "metadata": {},
     "output_type": "display_data"
    },
    {
     "data": {
      "text/html": [
       "<pre>| 16.33s                              | 33               | 14960           |</pre>"
      ],
      "text/plain": [
       "| 16.33s                              | 33               | 14960           |"
      ]
     },
     "metadata": {},
     "output_type": "display_data"
    },
    {
     "data": {
      "text/html": [
       "<pre>| 17.33s                              | 34.75            | 15826           |</pre>"
      ],
      "text/plain": [
       "| 17.33s                              | 34.75            | 15826           |"
      ]
     },
     "metadata": {},
     "output_type": "display_data"
    },
    {
     "data": {
      "text/html": [
       "<pre>| 18.33s                              | 37.25            | 16873           |</pre>"
      ],
      "text/plain": [
       "| 18.33s                              | 37.25            | 16873           |"
      ]
     },
     "metadata": {},
     "output_type": "display_data"
    },
    {
     "data": {
      "text/html": [
       "<pre>| 19.33s                              | 39               | 17734           |</pre>"
      ],
      "text/plain": [
       "| 19.33s                              | 39               | 17734           |"
      ]
     },
     "metadata": {},
     "output_type": "display_data"
    },
    {
     "data": {
      "text/html": [
       "<pre>| 20.33s                              | 40.75            | 18494           |</pre>"
      ],
      "text/plain": [
       "| 20.33s                              | 40.75            | 18494           |"
      ]
     },
     "metadata": {},
     "output_type": "display_data"
    },
    {
     "data": {
      "text/html": [
       "<pre>| 21.33s                              | 43.25            | 19621           |</pre>"
      ],
      "text/plain": [
       "| 21.33s                              | 43.25            | 19621           |"
      ]
     },
     "metadata": {},
     "output_type": "display_data"
    },
    {
     "data": {
      "text/html": [
       "<pre>| 22.33s                              | 46.25            | 20953           |</pre>"
      ],
      "text/plain": [
       "| 22.33s                              | 46.25            | 20953           |"
      ]
     },
     "metadata": {},
     "output_type": "display_data"
    },
    {
     "data": {
      "text/html": [
       "<pre>| 23.33s                              | 49               | 22263           |</pre>"
      ],
      "text/plain": [
       "| 23.33s                              | 49               | 22263           |"
      ]
     },
     "metadata": {},
     "output_type": "display_data"
    },
    {
     "data": {
      "text/html": [
       "<pre>| 24.33s                              | 51.25            | 23310           |</pre>"
      ],
      "text/plain": [
       "| 24.33s                              | 51.25            | 23310           |"
      ]
     },
     "metadata": {},
     "output_type": "display_data"
    },
    {
     "data": {
      "text/html": [
       "<pre>| 25.33s                              | 54               | 24548           |</pre>"
      ],
      "text/plain": [
       "| 25.33s                              | 54               | 24548           |"
      ]
     },
     "metadata": {},
     "output_type": "display_data"
    },
    {
     "data": {
      "text/html": [
       "<pre>| 26.33s                              | 57               | 25835           |</pre>"
      ],
      "text/plain": [
       "| 26.33s                              | 57               | 25835           |"
      ]
     },
     "metadata": {},
     "output_type": "display_data"
    },
    {
     "data": {
      "text/html": [
       "<pre>| 27.33s                              | 59.75            | 27106           |</pre>"
      ],
      "text/plain": [
       "| 27.33s                              | 59.75            | 27106           |"
      ]
     },
     "metadata": {},
     "output_type": "display_data"
    },
    {
     "data": {
      "text/html": [
       "<pre>| 28.33s                              | 62.5             | 28315           |</pre>"
      ],
      "text/plain": [
       "| 28.33s                              | 62.5             | 28315           |"
      ]
     },
     "metadata": {},
     "output_type": "display_data"
    },
    {
     "data": {
      "text/html": [
       "<pre>| 29.33s                              | 64.75            | 29421           |</pre>"
      ],
      "text/plain": [
       "| 29.33s                              | 64.75            | 29421           |"
      ]
     },
     "metadata": {},
     "output_type": "display_data"
    },
    {
     "data": {
      "text/html": [
       "<pre>| 30.33s                              | 67.25            | 30526           |</pre>"
      ],
      "text/plain": [
       "| 30.33s                              | 67.25            | 30526           |"
      ]
     },
     "metadata": {},
     "output_type": "display_data"
    },
    {
     "data": {
      "text/html": [
       "<pre>| 31.33s                              | 69.75            | 31685           |</pre>"
      ],
      "text/plain": [
       "| 31.33s                              | 69.75            | 31685           |"
      ]
     },
     "metadata": {},
     "output_type": "display_data"
    },
    {
     "data": {
      "text/html": [
       "<pre>| 32.33s                              | 72.5             | 32858           |</pre>"
      ],
      "text/plain": [
       "| 32.33s                              | 72.5             | 32858           |"
      ]
     },
     "metadata": {},
     "output_type": "display_data"
    },
    {
     "data": {
      "text/html": [
       "<pre>| 33.33s                              | 75.5             | 34246           |</pre>"
      ],
      "text/plain": [
       "| 33.33s                              | 75.5             | 34246           |"
      ]
     },
     "metadata": {},
     "output_type": "display_data"
    },
    {
     "data": {
      "text/html": [
       "<pre>| 34.33s                              | 78.25            | 35499           |</pre>"
      ],
      "text/plain": [
       "| 34.33s                              | 78.25            | 35499           |"
      ]
     },
     "metadata": {},
     "output_type": "display_data"
    },
    {
     "data": {
      "text/html": [
       "<pre>| 35.33s                              | 81               | 36727           |</pre>"
      ],
      "text/plain": [
       "| 35.33s                              | 81               | 36727           |"
      ]
     },
     "metadata": {},
     "output_type": "display_data"
    },
    {
     "data": {
      "text/html": [
       "<pre>| 36.33s                              | 83.5             | 37917           |</pre>"
      ],
      "text/plain": [
       "| 36.33s                              | 83.5             | 37917           |"
      ]
     },
     "metadata": {},
     "output_type": "display_data"
    },
    {
     "data": {
      "text/html": [
       "<pre>| 37.33s                              | 85.75            | 38885           |</pre>"
      ],
      "text/plain": [
       "| 37.33s                              | 85.75            | 38885           |"
      ]
     },
     "metadata": {},
     "output_type": "display_data"
    },
    {
     "data": {
      "text/html": [
       "<pre>| 38.33s                              | 88               | 39897           |</pre>"
      ],
      "text/plain": [
       "| 38.33s                              | 88               | 39897           |"
      ]
     },
     "metadata": {},
     "output_type": "display_data"
    },
    {
     "data": {
      "text/html": [
       "<pre>| 39.33s                              | 89.75            | 40762           |</pre>"
      ],
      "text/plain": [
       "| 39.33s                              | 89.75            | 40762           |"
      ]
     },
     "metadata": {},
     "output_type": "display_data"
    },
    {
     "data": {
      "text/html": [
       "<pre>| 40.33s                              | 92.25            | 41788           |</pre>"
      ],
      "text/plain": [
       "| 40.33s                              | 92.25            | 41788           |"
      ]
     },
     "metadata": {},
     "output_type": "display_data"
    },
    {
     "data": {
      "text/html": [
       "<pre>| 41.33s                              | 95               | 43042           |</pre>"
      ],
      "text/plain": [
       "| 41.33s                              | 95               | 43042           |"
      ]
     },
     "metadata": {},
     "output_type": "display_data"
    },
    {
     "data": {
      "text/html": [
       "<pre>| 42.33s                              | 99.25            | 45001           |</pre>"
      ],
      "text/plain": [
       "| 42.33s                              | 99.25            | 45001           |"
      ]
     },
     "metadata": {},
     "output_type": "display_data"
    },
    {
     "data": {
      "text/html": [
       "<pre>| 50.45s                              | 100              | 45296           |</pre>"
      ],
      "text/plain": [
       "| 50.45s                              | 100              | 45296           |"
      ]
     },
     "metadata": {},
     "output_type": "display_data"
    },
    {
     "data": {
      "text/html": [
       "<pre>+-------------------------------------+------------------+-----------------+</pre>"
      ],
      "text/plain": [
       "+-------------------------------------+------------------+-----------------+"
      ]
     },
     "metadata": {},
     "output_type": "display_data"
    },
    {
     "data": {
      "text/html": [
       "<pre>Finalizing lookup tables.</pre>"
      ],
      "text/plain": [
       "Finalizing lookup tables."
      ]
     },
     "metadata": {},
     "output_type": "display_data"
    },
    {
     "data": {
      "text/html": [
       "<pre>Generating candidate set for working with new users.</pre>"
      ],
      "text/plain": [
       "Generating candidate set for working with new users."
      ]
     },
     "metadata": {},
     "output_type": "display_data"
    },
    {
     "data": {
      "text/html": [
       "<pre>Finished training in 51.865s</pre>"
      ],
      "text/plain": [
       "Finished training in 51.865s"
      ]
     },
     "metadata": {},
     "output_type": "display_data"
    },
    {
     "data": {
      "text/html": [
       "<pre>Recsys training: model = popularity</pre>"
      ],
      "text/plain": [
       "Recsys training: model = popularity"
      ]
     },
     "metadata": {},
     "output_type": "display_data"
    },
    {
     "data": {
      "text/html": [
       "<pre>Warning: Ignoring columns Unnamed: 0;</pre>"
      ],
      "text/plain": [
       "Warning: Ignoring columns Unnamed: 0;"
      ]
     },
     "metadata": {},
     "output_type": "display_data"
    },
    {
     "data": {
      "text/html": [
       "<pre>    To use these columns in scoring predictions, use a model that allows the use of additional features.</pre>"
      ],
      "text/plain": [
       "    To use these columns in scoring predictions, use a model that allows the use of additional features."
      ]
     },
     "metadata": {},
     "output_type": "display_data"
    },
    {
     "data": {
      "text/html": [
       "<pre>Preparing data set.</pre>"
      ],
      "text/plain": [
       "Preparing data set."
      ]
     },
     "metadata": {},
     "output_type": "display_data"
    },
    {
     "data": {
      "text/html": [
       "<pre>    Data has 3407919 observations with 148935 users and 45296 items.</pre>"
      ],
      "text/plain": [
       "    Data has 3407919 observations with 148935 users and 45296 items."
      ]
     },
     "metadata": {},
     "output_type": "display_data"
    },
    {
     "data": {
      "text/html": [
       "<pre>    Data prepared in: 3.29286s</pre>"
      ],
      "text/plain": [
       "    Data prepared in: 3.29286s"
      ]
     },
     "metadata": {},
     "output_type": "display_data"
    },
    {
     "data": {
      "text/html": [
       "<pre>3407919 observations to process; with 45296 unique items.</pre>"
      ],
      "text/plain": [
       "3407919 observations to process; with 45296 unique items."
      ]
     },
     "metadata": {},
     "output_type": "display_data"
    },
    {
     "data": {
      "text/html": [
       "<pre>Recsys training: model = factorization_recommender</pre>"
      ],
      "text/plain": [
       "Recsys training: model = factorization_recommender"
      ]
     },
     "metadata": {},
     "output_type": "display_data"
    },
    {
     "data": {
      "text/html": [
       "<pre>Preparing data set.</pre>"
      ],
      "text/plain": [
       "Preparing data set."
      ]
     },
     "metadata": {},
     "output_type": "display_data"
    },
    {
     "data": {
      "text/html": [
       "<pre>    Data has 3407919 observations with 148935 users and 45296 items.</pre>"
      ],
      "text/plain": [
       "    Data has 3407919 observations with 148935 users and 45296 items."
      ]
     },
     "metadata": {},
     "output_type": "display_data"
    },
    {
     "data": {
      "text/html": [
       "<pre>    Data prepared in: 3.8965s</pre>"
      ],
      "text/plain": [
       "    Data prepared in: 3.8965s"
      ]
     },
     "metadata": {},
     "output_type": "display_data"
    },
    {
     "data": {
      "text/html": [
       "<pre>Training factorization_recommender for recommendations.</pre>"
      ],
      "text/plain": [
       "Training factorization_recommender for recommendations."
      ]
     },
     "metadata": {},
     "output_type": "display_data"
    },
    {
     "data": {
      "text/html": [
       "<pre>+--------------------------------+--------------------------------------------------+----------+</pre>"
      ],
      "text/plain": [
       "+--------------------------------+--------------------------------------------------+----------+"
      ]
     },
     "metadata": {},
     "output_type": "display_data"
    },
    {
     "data": {
      "text/html": [
       "<pre>| Parameter                      | Description                                      | Value    |</pre>"
      ],
      "text/plain": [
       "| Parameter                      | Description                                      | Value    |"
      ]
     },
     "metadata": {},
     "output_type": "display_data"
    },
    {
     "data": {
      "text/html": [
       "<pre>+--------------------------------+--------------------------------------------------+----------+</pre>"
      ],
      "text/plain": [
       "+--------------------------------+--------------------------------------------------+----------+"
      ]
     },
     "metadata": {},
     "output_type": "display_data"
    },
    {
     "data": {
      "text/html": [
       "<pre>| num_factors                    | Factor Dimension                                 | 8        |</pre>"
      ],
      "text/plain": [
       "| num_factors                    | Factor Dimension                                 | 8        |"
      ]
     },
     "metadata": {},
     "output_type": "display_data"
    },
    {
     "data": {
      "text/html": [
       "<pre>| regularization                 | L2 Regularization on Factors                     | 1e-08    |</pre>"
      ],
      "text/plain": [
       "| regularization                 | L2 Regularization on Factors                     | 1e-08    |"
      ]
     },
     "metadata": {},
     "output_type": "display_data"
    },
    {
     "data": {
      "text/html": [
       "<pre>| solver                         | Solver used for training                         | adagrad  |</pre>"
      ],
      "text/plain": [
       "| solver                         | Solver used for training                         | adagrad  |"
      ]
     },
     "metadata": {},
     "output_type": "display_data"
    },
    {
     "data": {
      "text/html": [
       "<pre>| linear_regularization          | L2 Regularization on Linear Coefficients         | 1e-10    |</pre>"
      ],
      "text/plain": [
       "| linear_regularization          | L2 Regularization on Linear Coefficients         | 1e-10    |"
      ]
     },
     "metadata": {},
     "output_type": "display_data"
    },
    {
     "data": {
      "text/html": [
       "<pre>| max_iterations                 | Maximum Number of Iterations                     | 50       |</pre>"
      ],
      "text/plain": [
       "| max_iterations                 | Maximum Number of Iterations                     | 50       |"
      ]
     },
     "metadata": {},
     "output_type": "display_data"
    },
    {
     "data": {
      "text/html": [
       "<pre>+--------------------------------+--------------------------------------------------+----------+</pre>"
      ],
      "text/plain": [
       "+--------------------------------+--------------------------------------------------+----------+"
      ]
     },
     "metadata": {},
     "output_type": "display_data"
    },
    {
     "data": {
      "text/html": [
       "<pre>  Optimizing model using SGD; tuning step size.</pre>"
      ],
      "text/plain": [
       "  Optimizing model using SGD; tuning step size."
      ]
     },
     "metadata": {},
     "output_type": "display_data"
    },
    {
     "data": {
      "text/html": [
       "<pre>  Using 425989 / 3407919 points for tuning the step size.</pre>"
      ],
      "text/plain": [
       "  Using 425989 / 3407919 points for tuning the step size."
      ]
     },
     "metadata": {},
     "output_type": "display_data"
    },
    {
     "data": {
      "text/html": [
       "<pre>+---------+-------------------+------------------------------------------+</pre>"
      ],
      "text/plain": [
       "+---------+-------------------+------------------------------------------+"
      ]
     },
     "metadata": {},
     "output_type": "display_data"
    },
    {
     "data": {
      "text/html": [
       "<pre>| Attempt | Initial Step Size | Estimated Objective Value                |</pre>"
      ],
      "text/plain": [
       "| Attempt | Initial Step Size | Estimated Objective Value                |"
      ]
     },
     "metadata": {},
     "output_type": "display_data"
    },
    {
     "data": {
      "text/html": [
       "<pre>+---------+-------------------+------------------------------------------+</pre>"
      ],
      "text/plain": [
       "+---------+-------------------+------------------------------------------+"
      ]
     },
     "metadata": {},
     "output_type": "display_data"
    },
    {
     "data": {
      "text/html": [
       "<pre>| 0       | 16.6667           | Not Viable                               |</pre>"
      ],
      "text/plain": [
       "| 0       | 16.6667           | Not Viable                               |"
      ]
     },
     "metadata": {},
     "output_type": "display_data"
    },
    {
     "data": {
      "text/html": [
       "<pre>| 1       | 4.16667           | Not Viable                               |</pre>"
      ],
      "text/plain": [
       "| 1       | 4.16667           | Not Viable                               |"
      ]
     },
     "metadata": {},
     "output_type": "display_data"
    },
    {
     "data": {
      "text/html": [
       "<pre>| 2       | 1.04167           | Not Viable                               |</pre>"
      ],
      "text/plain": [
       "| 2       | 1.04167           | Not Viable                               |"
      ]
     },
     "metadata": {},
     "output_type": "display_data"
    },
    {
     "data": {
      "text/html": [
       "<pre>| 3       | 0.260417          | Not Viable                               |</pre>"
      ],
      "text/plain": [
       "| 3       | 0.260417          | Not Viable                               |"
      ]
     },
     "metadata": {},
     "output_type": "display_data"
    },
    {
     "data": {
      "text/html": [
       "<pre>| 4       | 0.0651042         | 0.637292                                 |</pre>"
      ],
      "text/plain": [
       "| 4       | 0.0651042         | 0.637292                                 |"
      ]
     },
     "metadata": {},
     "output_type": "display_data"
    },
    {
     "data": {
      "text/html": [
       "<pre>| 5       | 0.0325521         | 0.849979                                 |</pre>"
      ],
      "text/plain": [
       "| 5       | 0.0325521         | 0.849979                                 |"
      ]
     },
     "metadata": {},
     "output_type": "display_data"
    },
    {
     "data": {
      "text/html": [
       "<pre>| 6       | 0.016276          | 1.4172                                   |</pre>"
      ],
      "text/plain": [
       "| 6       | 0.016276          | 1.4172                                   |"
      ]
     },
     "metadata": {},
     "output_type": "display_data"
    },
    {
     "data": {
      "text/html": [
       "<pre>+---------+-------------------+------------------------------------------+</pre>"
      ],
      "text/plain": [
       "+---------+-------------------+------------------------------------------+"
      ]
     },
     "metadata": {},
     "output_type": "display_data"
    },
    {
     "data": {
      "text/html": [
       "<pre>| Final   | 0.0651042         | 0.637292                                 |</pre>"
      ],
      "text/plain": [
       "| Final   | 0.0651042         | 0.637292                                 |"
      ]
     },
     "metadata": {},
     "output_type": "display_data"
    },
    {
     "data": {
      "text/html": [
       "<pre>+---------+-------------------+------------------------------------------+</pre>"
      ],
      "text/plain": [
       "+---------+-------------------+------------------------------------------+"
      ]
     },
     "metadata": {},
     "output_type": "display_data"
    },
    {
     "data": {
      "text/html": [
       "<pre>Starting Optimization.</pre>"
      ],
      "text/plain": [
       "Starting Optimization."
      ]
     },
     "metadata": {},
     "output_type": "display_data"
    },
    {
     "data": {
      "text/html": [
       "<pre>+---------+--------------+-------------------+-----------------------+-------------+</pre>"
      ],
      "text/plain": [
       "+---------+--------------+-------------------+-----------------------+-------------+"
      ]
     },
     "metadata": {},
     "output_type": "display_data"
    },
    {
     "data": {
      "text/html": [
       "<pre>| Iter.   | Elapsed Time | Approx. Objective | Approx. Training RMSE | Step Size   |</pre>"
      ],
      "text/plain": [
       "| Iter.   | Elapsed Time | Approx. Objective | Approx. Training RMSE | Step Size   |"
      ]
     },
     "metadata": {},
     "output_type": "display_data"
    },
    {
     "data": {
      "text/html": [
       "<pre>+---------+--------------+-------------------+-----------------------+-------------+</pre>"
      ],
      "text/plain": [
       "+---------+--------------+-------------------+-----------------------+-------------+"
      ]
     },
     "metadata": {},
     "output_type": "display_data"
    },
    {
     "data": {
      "text/html": [
       "<pre>| Initial | 171us        | 2.36596           | 1.53817               |             |</pre>"
      ],
      "text/plain": [
       "| Initial | 171us        | 2.36596           | 1.53817               |             |"
      ]
     },
     "metadata": {},
     "output_type": "display_data"
    },
    {
     "data": {
      "text/html": [
       "<pre>+---------+--------------+-------------------+-----------------------+-------------+</pre>"
      ],
      "text/plain": [
       "+---------+--------------+-------------------+-----------------------+-------------+"
      ]
     },
     "metadata": {},
     "output_type": "display_data"
    },
    {
     "data": {
      "text/html": [
       "<pre>| 1       | 6.61s        | 1.20724           | 1.09858               | 0.0651042   |</pre>"
      ],
      "text/plain": [
       "| 1       | 6.61s        | 1.20724           | 1.09858               | 0.0651042   |"
      ]
     },
     "metadata": {},
     "output_type": "display_data"
    },
    {
     "data": {
      "text/html": [
       "<pre>| 2       | 11.84s       | 1.05258           | 1.02581               | 0.0651042   |</pre>"
      ],
      "text/plain": [
       "| 2       | 11.84s       | 1.05258           | 1.02581               | 0.0651042   |"
      ]
     },
     "metadata": {},
     "output_type": "display_data"
    },
    {
     "data": {
      "text/html": [
       "<pre>| 3       | 19.22s       | 0.843886          | 0.918488              | 0.0651042   |</pre>"
      ],
      "text/plain": [
       "| 3       | 19.22s       | 0.843886          | 0.918488              | 0.0651042   |"
      ]
     },
     "metadata": {},
     "output_type": "display_data"
    },
    {
     "data": {
      "text/html": [
       "<pre>| 4       | 26.24s       | 0.822212          | 0.906626              | 0.0651042   |</pre>"
      ],
      "text/plain": [
       "| 4       | 26.24s       | 0.822212          | 0.906626              | 0.0651042   |"
      ]
     },
     "metadata": {},
     "output_type": "display_data"
    },
    {
     "data": {
      "text/html": [
       "<pre>| 5       | 33.62s       | 0.801984          | 0.895407              | 0.0651042   |</pre>"
      ],
      "text/plain": [
       "| 5       | 33.62s       | 0.801984          | 0.895407              | 0.0651042   |"
      ]
     },
     "metadata": {},
     "output_type": "display_data"
    },
    {
     "data": {
      "text/html": [
       "<pre>| 6       | 39.29s       | 0.791405          | 0.889484              | 0.0651042   |</pre>"
      ],
      "text/plain": [
       "| 6       | 39.29s       | 0.791405          | 0.889484              | 0.0651042   |"
      ]
     },
     "metadata": {},
     "output_type": "display_data"
    },
    {
     "data": {
      "text/html": [
       "<pre>| 7       | 46.53s       | 0.783838          | 0.885224              | 0.0651042   |</pre>"
      ],
      "text/plain": [
       "| 7       | 46.53s       | 0.783838          | 0.885224              | 0.0651042   |"
      ]
     },
     "metadata": {},
     "output_type": "display_data"
    },
    {
     "data": {
      "text/html": [
       "<pre>| 8       | 53.81s       | 0.775042          | 0.880244              | 0.0651042   |</pre>"
      ],
      "text/plain": [
       "| 8       | 53.81s       | 0.775042          | 0.880244              | 0.0651042   |"
      ]
     },
     "metadata": {},
     "output_type": "display_data"
    },
    {
     "data": {
      "text/html": [
       "<pre>| 9       | 1m 1s        | 0.769231          | 0.876938              | 0.0651042   |</pre>"
      ],
      "text/plain": [
       "| 9       | 1m 1s        | 0.769231          | 0.876938              | 0.0651042   |"
      ]
     },
     "metadata": {},
     "output_type": "display_data"
    },
    {
     "data": {
      "text/html": [
       "<pre>| 10      | 1m 9s        | 0.766425          | 0.875338              | 0.0651042   |</pre>"
      ],
      "text/plain": [
       "| 10      | 1m 9s        | 0.766425          | 0.875338              | 0.0651042   |"
      ]
     },
     "metadata": {},
     "output_type": "display_data"
    },
    {
     "data": {
      "text/html": [
       "<pre>| 11      | 1m 15s       | 0.763271          | 0.873537              | 0.0651042   |</pre>"
      ],
      "text/plain": [
       "| 11      | 1m 15s       | 0.763271          | 0.873537              | 0.0651042   |"
      ]
     },
     "metadata": {},
     "output_type": "display_data"
    },
    {
     "data": {
      "text/html": [
       "<pre>| 12      | 1m 23s       | 0.759929          | 0.871623              | 0.0651042   |</pre>"
      ],
      "text/plain": [
       "| 12      | 1m 23s       | 0.759929          | 0.871623              | 0.0651042   |"
      ]
     },
     "metadata": {},
     "output_type": "display_data"
    },
    {
     "data": {
      "text/html": [
       "<pre>| 13      | 1m 29s       | 0.757229          | 0.870074              | 0.0651042   |</pre>"
      ],
      "text/plain": [
       "| 13      | 1m 29s       | 0.757229          | 0.870074              | 0.0651042   |"
      ]
     },
     "metadata": {},
     "output_type": "display_data"
    },
    {
     "data": {
      "text/html": [
       "<pre>| 14      | 1m 36s       | 0.757801          | 0.870404              | 0.0651042   |</pre>"
      ],
      "text/plain": [
       "| 14      | 1m 36s       | 0.757801          | 0.870404              | 0.0651042   |"
      ]
     },
     "metadata": {},
     "output_type": "display_data"
    },
    {
     "data": {
      "text/html": [
       "<pre>| 15      | 1m 42s       | 0.754479          | 0.868495              | 0.0651042   |</pre>"
      ],
      "text/plain": [
       "| 15      | 1m 42s       | 0.754479          | 0.868495              | 0.0651042   |"
      ]
     },
     "metadata": {},
     "output_type": "display_data"
    },
    {
     "data": {
      "text/html": [
       "<pre>| 16      | 1m 48s       | 0.751253          | 0.866636              | 0.0651042   |</pre>"
      ],
      "text/plain": [
       "| 16      | 1m 48s       | 0.751253          | 0.866636              | 0.0651042   |"
      ]
     },
     "metadata": {},
     "output_type": "display_data"
    },
    {
     "data": {
      "text/html": [
       "<pre>| 17      | 1m 53s       | 0.750627          | 0.866276              | 0.0651042   |</pre>"
      ],
      "text/plain": [
       "| 17      | 1m 53s       | 0.750627          | 0.866276              | 0.0651042   |"
      ]
     },
     "metadata": {},
     "output_type": "display_data"
    },
    {
     "data": {
      "text/html": [
       "<pre>| 18      | 2m 1s        | 0.749548          | 0.865654              | 0.0651042   |</pre>"
      ],
      "text/plain": [
       "| 18      | 2m 1s        | 0.749548          | 0.865654              | 0.0651042   |"
      ]
     },
     "metadata": {},
     "output_type": "display_data"
    },
    {
     "data": {
      "text/html": [
       "<pre>| 19      | 2m 7s        | 0.748172          | 0.864859              | 0.0651042   |</pre>"
      ],
      "text/plain": [
       "| 19      | 2m 7s        | 0.748172          | 0.864859              | 0.0651042   |"
      ]
     },
     "metadata": {},
     "output_type": "display_data"
    },
    {
     "data": {
      "text/html": [
       "<pre>| 20      | 2m 14s       | 0.747983          | 0.864751              | 0.0651042   |</pre>"
      ],
      "text/plain": [
       "| 20      | 2m 14s       | 0.747983          | 0.864751              | 0.0651042   |"
      ]
     },
     "metadata": {},
     "output_type": "display_data"
    },
    {
     "data": {
      "text/html": [
       "<pre>| 21      | 2m 21s       | 0.74693           | 0.864143              | 0.0651042   |</pre>"
      ],
      "text/plain": [
       "| 21      | 2m 21s       | 0.74693           | 0.864143              | 0.0651042   |"
      ]
     },
     "metadata": {},
     "output_type": "display_data"
    },
    {
     "data": {
      "text/html": [
       "<pre>| 22      | 2m 28s       | 0.745741          | 0.863456              | 0.0651042   |</pre>"
      ],
      "text/plain": [
       "| 22      | 2m 28s       | 0.745741          | 0.863456              | 0.0651042   |"
      ]
     },
     "metadata": {},
     "output_type": "display_data"
    },
    {
     "data": {
      "text/html": [
       "<pre>| 23      | 2m 34s       | 0.74494           | 0.862992              | 0.0651042   |</pre>"
      ],
      "text/plain": [
       "| 23      | 2m 34s       | 0.74494           | 0.862992              | 0.0651042   |"
      ]
     },
     "metadata": {},
     "output_type": "display_data"
    },
    {
     "data": {
      "text/html": [
       "<pre>| 24      | 2m 42s       | 0.74409           | 0.8625                | 0.0651042   |</pre>"
      ],
      "text/plain": [
       "| 24      | 2m 42s       | 0.74409           | 0.8625                | 0.0651042   |"
      ]
     },
     "metadata": {},
     "output_type": "display_data"
    },
    {
     "data": {
      "text/html": [
       "<pre>| 25      | 2m 47s       | 0.744845          | 0.862939              | 0.0651042   |</pre>"
      ],
      "text/plain": [
       "| 25      | 2m 47s       | 0.744845          | 0.862939              | 0.0651042   |"
      ]
     },
     "metadata": {},
     "output_type": "display_data"
    },
    {
     "data": {
      "text/html": [
       "<pre>| 26      | 2m 53s       | 0.743134          | 0.861947              | 0.0651042   |</pre>"
      ],
      "text/plain": [
       "| 26      | 2m 53s       | 0.743134          | 0.861947              | 0.0651042   |"
      ]
     },
     "metadata": {},
     "output_type": "display_data"
    },
    {
     "data": {
      "text/html": [
       "<pre>| 27      | 2m 59s       | 0.742194          | 0.861403              | 0.0651042   |</pre>"
      ],
      "text/plain": [
       "| 27      | 2m 59s       | 0.742194          | 0.861403              | 0.0651042   |"
      ]
     },
     "metadata": {},
     "output_type": "display_data"
    },
    {
     "data": {
      "text/html": [
       "<pre>| 28      | 3m 5s        | 0.741346          | 0.86091               | 0.0651042   |</pre>"
      ],
      "text/plain": [
       "| 28      | 3m 5s        | 0.741346          | 0.86091               | 0.0651042   |"
      ]
     },
     "metadata": {},
     "output_type": "display_data"
    },
    {
     "data": {
      "text/html": [
       "<pre>| 29      | 3m 12s       | 0.740599          | 0.860477              | 0.0651042   |</pre>"
      ],
      "text/plain": [
       "| 29      | 3m 12s       | 0.740599          | 0.860477              | 0.0651042   |"
      ]
     },
     "metadata": {},
     "output_type": "display_data"
    },
    {
     "data": {
      "text/html": [
       "<pre>| 30      | 3m 20s       | 0.739661          | 0.859932              | 0.0651042   |</pre>"
      ],
      "text/plain": [
       "| 30      | 3m 20s       | 0.739661          | 0.859932              | 0.0651042   |"
      ]
     },
     "metadata": {},
     "output_type": "display_data"
    },
    {
     "data": {
      "text/html": [
       "<pre>| 31      | 3m 26s       | 0.738768          | 0.859414              | 0.0651042   |</pre>"
      ],
      "text/plain": [
       "| 31      | 3m 26s       | 0.738768          | 0.859414              | 0.0651042   |"
      ]
     },
     "metadata": {},
     "output_type": "display_data"
    },
    {
     "data": {
      "text/html": [
       "<pre>| 32      | 3m 32s       | 0.73805           | 0.858996              | 0.0651042   |</pre>"
      ],
      "text/plain": [
       "| 32      | 3m 32s       | 0.73805           | 0.858996              | 0.0651042   |"
      ]
     },
     "metadata": {},
     "output_type": "display_data"
    },
    {
     "data": {
      "text/html": [
       "<pre>| 33      | 3m 38s       | 0.737853          | 0.858881              | 0.0651042   |</pre>"
      ],
      "text/plain": [
       "| 33      | 3m 38s       | 0.737853          | 0.858881              | 0.0651042   |"
      ]
     },
     "metadata": {},
     "output_type": "display_data"
    },
    {
     "data": {
      "text/html": [
       "<pre>| 34      | 3m 45s       | 0.737             | 0.858385              | 0.0651042   |</pre>"
      ],
      "text/plain": [
       "| 34      | 3m 45s       | 0.737             | 0.858385              | 0.0651042   |"
      ]
     },
     "metadata": {},
     "output_type": "display_data"
    },
    {
     "data": {
      "text/html": [
       "<pre>| 35      | 3m 52s       | 0.736658          | 0.858186              | 0.0651042   |</pre>"
      ],
      "text/plain": [
       "| 35      | 3m 52s       | 0.736658          | 0.858186              | 0.0651042   |"
      ]
     },
     "metadata": {},
     "output_type": "display_data"
    },
    {
     "data": {
      "text/html": [
       "<pre>| 36      | 3m 59s       | 0.736642          | 0.858178              | 0.0651042   |</pre>"
      ],
      "text/plain": [
       "| 36      | 3m 59s       | 0.736642          | 0.858178              | 0.0651042   |"
      ]
     },
     "metadata": {},
     "output_type": "display_data"
    },
    {
     "data": {
      "text/html": [
       "<pre>| 37      | 4m 6s        | 0.736713          | 0.858219              | 0.0651042   |</pre>"
      ],
      "text/plain": [
       "| 37      | 4m 6s        | 0.736713          | 0.858219              | 0.0651042   |"
      ]
     },
     "metadata": {},
     "output_type": "display_data"
    },
    {
     "data": {
      "text/html": [
       "<pre>| 38      | 4m 13s       | 0.736244          | 0.857946              | 0.0651042   |</pre>"
      ],
      "text/plain": [
       "| 38      | 4m 13s       | 0.736244          | 0.857946              | 0.0651042   |"
      ]
     },
     "metadata": {},
     "output_type": "display_data"
    },
    {
     "data": {
      "text/html": [
       "<pre>| 39      | 4m 20s       | 0.736001          | 0.857805              | 0.0651042   |</pre>"
      ],
      "text/plain": [
       "| 39      | 4m 20s       | 0.736001          | 0.857805              | 0.0651042   |"
      ]
     },
     "metadata": {},
     "output_type": "display_data"
    },
    {
     "data": {
      "text/html": [
       "<pre>| 40      | 4m 27s       | 0.735107          | 0.857284              | 0.0651042   |</pre>"
      ],
      "text/plain": [
       "| 40      | 4m 27s       | 0.735107          | 0.857284              | 0.0651042   |"
      ]
     },
     "metadata": {},
     "output_type": "display_data"
    },
    {
     "data": {
      "text/html": [
       "<pre>| 41      | 4m 34s       | 0.734988          | 0.857215              | 0.0651042   |</pre>"
      ],
      "text/plain": [
       "| 41      | 4m 34s       | 0.734988          | 0.857215              | 0.0651042   |"
      ]
     },
     "metadata": {},
     "output_type": "display_data"
    },
    {
     "data": {
      "text/html": [
       "<pre>| 42      | 4m 42s       | 0.733568          | 0.856387              | 0.0651042   |</pre>"
      ],
      "text/plain": [
       "| 42      | 4m 42s       | 0.733568          | 0.856387              | 0.0651042   |"
      ]
     },
     "metadata": {},
     "output_type": "display_data"
    },
    {
     "data": {
      "text/html": [
       "<pre>| 43      | 4m 49s       | 0.732963          | 0.856034              | 0.0651042   |</pre>"
      ],
      "text/plain": [
       "| 43      | 4m 49s       | 0.732963          | 0.856034              | 0.0651042   |"
      ]
     },
     "metadata": {},
     "output_type": "display_data"
    },
    {
     "data": {
      "text/html": [
       "<pre>| 44      | 4m 56s       | 0.733448          | 0.856317              | 0.0651042   |</pre>"
      ],
      "text/plain": [
       "| 44      | 4m 56s       | 0.733448          | 0.856317              | 0.0651042   |"
      ]
     },
     "metadata": {},
     "output_type": "display_data"
    },
    {
     "data": {
      "text/html": [
       "<pre>| 45      | 5m 3s        | 0.73331           | 0.856237              | 0.0651042   |</pre>"
      ],
      "text/plain": [
       "| 45      | 5m 3s        | 0.73331           | 0.856237              | 0.0651042   |"
      ]
     },
     "metadata": {},
     "output_type": "display_data"
    },
    {
     "data": {
      "text/html": [
       "<pre>| 46      | 5m 11s       | 0.73237           | 0.855688              | 0.0651042   |</pre>"
      ],
      "text/plain": [
       "| 46      | 5m 11s       | 0.73237           | 0.855688              | 0.0651042   |"
      ]
     },
     "metadata": {},
     "output_type": "display_data"
    },
    {
     "data": {
      "text/html": [
       "<pre>| 47      | 5m 18s       | 0.732298          | 0.855647              | 0.0651042   |</pre>"
      ],
      "text/plain": [
       "| 47      | 5m 18s       | 0.732298          | 0.855647              | 0.0651042   |"
      ]
     },
     "metadata": {},
     "output_type": "display_data"
    },
    {
     "data": {
      "text/html": [
       "<pre>| 48      | 5m 25s       | 0.732203          | 0.855591              | 0.0651042   |</pre>"
      ],
      "text/plain": [
       "| 48      | 5m 25s       | 0.732203          | 0.855591              | 0.0651042   |"
      ]
     },
     "metadata": {},
     "output_type": "display_data"
    },
    {
     "data": {
      "text/html": [
       "<pre>| 49      | 5m 32s       | 0.732136          | 0.855552              | 0.0651042   |</pre>"
      ],
      "text/plain": [
       "| 49      | 5m 32s       | 0.732136          | 0.855552              | 0.0651042   |"
      ]
     },
     "metadata": {},
     "output_type": "display_data"
    },
    {
     "data": {
      "text/html": [
       "<pre>| 50      | 5m 39s       | 0.732241          | 0.855614              | 0.0651042   |</pre>"
      ],
      "text/plain": [
       "| 50      | 5m 39s       | 0.732241          | 0.855614              | 0.0651042   |"
      ]
     },
     "metadata": {},
     "output_type": "display_data"
    },
    {
     "data": {
      "text/html": [
       "<pre>+---------+--------------+-------------------+-----------------------+-------------+</pre>"
      ],
      "text/plain": [
       "+---------+--------------+-------------------+-----------------------+-------------+"
      ]
     },
     "metadata": {},
     "output_type": "display_data"
    },
    {
     "data": {
      "text/html": [
       "<pre>Optimization Complete: Maximum number of passes through the data reached.</pre>"
      ],
      "text/plain": [
       "Optimization Complete: Maximum number of passes through the data reached."
      ]
     },
     "metadata": {},
     "output_type": "display_data"
    },
    {
     "data": {
      "text/html": [
       "<pre>Computing final objective value and training RMSE.</pre>"
      ],
      "text/plain": [
       "Computing final objective value and training RMSE."
      ]
     },
     "metadata": {},
     "output_type": "display_data"
    },
    {
     "data": {
      "text/html": [
       "<pre>       Final objective value: 0.702935</pre>"
      ],
      "text/plain": [
       "       Final objective value: 0.702935"
      ]
     },
     "metadata": {},
     "output_type": "display_data"
    },
    {
     "data": {
      "text/html": [
       "<pre>       Final training RMSE: 0.838314</pre>"
      ],
      "text/plain": [
       "       Final training RMSE: 0.838314"
      ]
     },
     "metadata": {},
     "output_type": "display_data"
    },
    {
     "name": "stdout",
     "output_type": "stream",
     "text": [
      "PROGRESS: Evaluate model M0\n"
     ]
    },
    {
     "data": {
      "text/html": [
       "<pre>recommendations finished on 1000/134379 queries. users per second: 4233.88</pre>"
      ],
      "text/plain": [
       "recommendations finished on 1000/134379 queries. users per second: 4233.88"
      ]
     },
     "metadata": {},
     "output_type": "display_data"
    },
    {
     "data": {
      "text/html": [
       "<pre>recommendations finished on 2000/134379 queries. users per second: 5783.42</pre>"
      ],
      "text/plain": [
       "recommendations finished on 2000/134379 queries. users per second: 5783.42"
      ]
     },
     "metadata": {},
     "output_type": "display_data"
    },
    {
     "data": {
      "text/html": [
       "<pre>recommendations finished on 3000/134379 queries. users per second: 5542.48</pre>"
      ],
      "text/plain": [
       "recommendations finished on 3000/134379 queries. users per second: 5542.48"
      ]
     },
     "metadata": {},
     "output_type": "display_data"
    },
    {
     "data": {
      "text/html": [
       "<pre>recommendations finished on 4000/134379 queries. users per second: 5431.18</pre>"
      ],
      "text/plain": [
       "recommendations finished on 4000/134379 queries. users per second: 5431.18"
      ]
     },
     "metadata": {},
     "output_type": "display_data"
    },
    {
     "data": {
      "text/html": [
       "<pre>recommendations finished on 5000/134379 queries. users per second: 5915.66</pre>"
      ],
      "text/plain": [
       "recommendations finished on 5000/134379 queries. users per second: 5915.66"
      ]
     },
     "metadata": {},
     "output_type": "display_data"
    },
    {
     "data": {
      "text/html": [
       "<pre>recommendations finished on 6000/134379 queries. users per second: 5761.72</pre>"
      ],
      "text/plain": [
       "recommendations finished on 6000/134379 queries. users per second: 5761.72"
      ]
     },
     "metadata": {},
     "output_type": "display_data"
    },
    {
     "data": {
      "text/html": [
       "<pre>recommendations finished on 7000/134379 queries. users per second: 5657.55</pre>"
      ],
      "text/plain": [
       "recommendations finished on 7000/134379 queries. users per second: 5657.55"
      ]
     },
     "metadata": {},
     "output_type": "display_data"
    },
    {
     "data": {
      "text/html": [
       "<pre>recommendations finished on 8000/134379 queries. users per second: 5580.68</pre>"
      ],
      "text/plain": [
       "recommendations finished on 8000/134379 queries. users per second: 5580.68"
      ]
     },
     "metadata": {},
     "output_type": "display_data"
    },
    {
     "data": {
      "text/html": [
       "<pre>recommendations finished on 9000/134379 queries. users per second: 5831.48</pre>"
      ],
      "text/plain": [
       "recommendations finished on 9000/134379 queries. users per second: 5831.48"
      ]
     },
     "metadata": {},
     "output_type": "display_data"
    },
    {
     "data": {
      "text/html": [
       "<pre>recommendations finished on 10000/134379 queries. users per second: 5748.94</pre>"
      ],
      "text/plain": [
       "recommendations finished on 10000/134379 queries. users per second: 5748.94"
      ]
     },
     "metadata": {},
     "output_type": "display_data"
    },
    {
     "data": {
      "text/html": [
       "<pre>recommendations finished on 11000/134379 queries. users per second: 5682.71</pre>"
      ],
      "text/plain": [
       "recommendations finished on 11000/134379 queries. users per second: 5682.71"
      ]
     },
     "metadata": {},
     "output_type": "display_data"
    },
    {
     "data": {
      "text/html": [
       "<pre>recommendations finished on 12000/134379 queries. users per second: 5868.53</pre>"
      ],
      "text/plain": [
       "recommendations finished on 12000/134379 queries. users per second: 5868.53"
      ]
     },
     "metadata": {},
     "output_type": "display_data"
    },
    {
     "data": {
      "text/html": [
       "<pre>recommendations finished on 13000/134379 queries. users per second: 5801.74</pre>"
      ],
      "text/plain": [
       "recommendations finished on 13000/134379 queries. users per second: 5801.74"
      ]
     },
     "metadata": {},
     "output_type": "display_data"
    },
    {
     "data": {
      "text/html": [
       "<pre>recommendations finished on 14000/134379 queries. users per second: 5744.58</pre>"
      ],
      "text/plain": [
       "recommendations finished on 14000/134379 queries. users per second: 5744.58"
      ]
     },
     "metadata": {},
     "output_type": "display_data"
    },
    {
     "data": {
      "text/html": [
       "<pre>recommendations finished on 15000/134379 queries. users per second: 5891.22</pre>"
      ],
      "text/plain": [
       "recommendations finished on 15000/134379 queries. users per second: 5891.22"
      ]
     },
     "metadata": {},
     "output_type": "display_data"
    },
    {
     "data": {
      "text/html": [
       "<pre>recommendations finished on 16000/134379 queries. users per second: 5832.44</pre>"
      ],
      "text/plain": [
       "recommendations finished on 16000/134379 queries. users per second: 5832.44"
      ]
     },
     "metadata": {},
     "output_type": "display_data"
    },
    {
     "data": {
      "text/html": [
       "<pre>recommendations finished on 17000/134379 queries. users per second: 5780.86</pre>"
      ],
      "text/plain": [
       "recommendations finished on 17000/134379 queries. users per second: 5780.86"
      ]
     },
     "metadata": {},
     "output_type": "display_data"
    },
    {
     "data": {
      "text/html": [
       "<pre>recommendations finished on 18000/134379 queries. users per second: 5737.14</pre>"
      ],
      "text/plain": [
       "recommendations finished on 18000/134379 queries. users per second: 5737.14"
      ]
     },
     "metadata": {},
     "output_type": "display_data"
    },
    {
     "data": {
      "text/html": [
       "<pre>recommendations finished on 19000/134379 queries. users per second: 5698.75</pre>"
      ],
      "text/plain": [
       "recommendations finished on 19000/134379 queries. users per second: 5698.75"
      ]
     },
     "metadata": {},
     "output_type": "display_data"
    },
    {
     "data": {
      "text/html": [
       "<pre>recommendations finished on 20000/134379 queries. users per second: 5807.58</pre>"
      ],
      "text/plain": [
       "recommendations finished on 20000/134379 queries. users per second: 5807.58"
      ]
     },
     "metadata": {},
     "output_type": "display_data"
    },
    {
     "data": {
      "text/html": [
       "<pre>recommendations finished on 21000/134379 queries. users per second: 5767.95</pre>"
      ],
      "text/plain": [
       "recommendations finished on 21000/134379 queries. users per second: 5767.95"
      ]
     },
     "metadata": {},
     "output_type": "display_data"
    },
    {
     "data": {
      "text/html": [
       "<pre>recommendations finished on 22000/134379 queries. users per second: 5732.09</pre>"
      ],
      "text/plain": [
       "recommendations finished on 22000/134379 queries. users per second: 5732.09"
      ]
     },
     "metadata": {},
     "output_type": "display_data"
    },
    {
     "data": {
      "text/html": [
       "<pre>recommendations finished on 23000/134379 queries. users per second: 5696.23</pre>"
      ],
      "text/plain": [
       "recommendations finished on 23000/134379 queries. users per second: 5696.23"
      ]
     },
     "metadata": {},
     "output_type": "display_data"
    },
    {
     "data": {
      "text/html": [
       "<pre>recommendations finished on 24000/134379 queries. users per second: 5669.21</pre>"
      ],
      "text/plain": [
       "recommendations finished on 24000/134379 queries. users per second: 5669.21"
      ]
     },
     "metadata": {},
     "output_type": "display_data"
    },
    {
     "data": {
      "text/html": [
       "<pre>recommendations finished on 25000/134379 queries. users per second: 5756.8</pre>"
      ],
      "text/plain": [
       "recommendations finished on 25000/134379 queries. users per second: 5756.8"
      ]
     },
     "metadata": {},
     "output_type": "display_data"
    },
    {
     "data": {
      "text/html": [
       "<pre>recommendations finished on 26000/134379 queries. users per second: 5728.92</pre>"
      ],
      "text/plain": [
       "recommendations finished on 26000/134379 queries. users per second: 5728.92"
      ]
     },
     "metadata": {},
     "output_type": "display_data"
    },
    {
     "data": {
      "text/html": [
       "<pre>recommendations finished on 27000/134379 queries. users per second: 5703.52</pre>"
      ],
      "text/plain": [
       "recommendations finished on 27000/134379 queries. users per second: 5703.52"
      ]
     },
     "metadata": {},
     "output_type": "display_data"
    },
    {
     "data": {
      "text/html": [
       "<pre>recommendations finished on 28000/134379 queries. users per second: 5781.12</pre>"
      ],
      "text/plain": [
       "recommendations finished on 28000/134379 queries. users per second: 5781.12"
      ]
     },
     "metadata": {},
     "output_type": "display_data"
    },
    {
     "data": {
      "text/html": [
       "<pre>recommendations finished on 29000/134379 queries. users per second: 5755.42</pre>"
      ],
      "text/plain": [
       "recommendations finished on 29000/134379 queries. users per second: 5755.42"
      ]
     },
     "metadata": {},
     "output_type": "display_data"
    },
    {
     "data": {
      "text/html": [
       "<pre>recommendations finished on 30000/134379 queries. users per second: 5730.52</pre>"
      ],
      "text/plain": [
       "recommendations finished on 30000/134379 queries. users per second: 5730.52"
      ]
     },
     "metadata": {},
     "output_type": "display_data"
    },
    {
     "data": {
      "text/html": [
       "<pre>recommendations finished on 31000/134379 queries. users per second: 5800.15</pre>"
      ],
      "text/plain": [
       "recommendations finished on 31000/134379 queries. users per second: 5800.15"
      ]
     },
     "metadata": {},
     "output_type": "display_data"
    },
    {
     "data": {
      "text/html": [
       "<pre>recommendations finished on 32000/134379 queries. users per second: 5774.68</pre>"
      ],
      "text/plain": [
       "recommendations finished on 32000/134379 queries. users per second: 5774.68"
      ]
     },
     "metadata": {},
     "output_type": "display_data"
    },
    {
     "data": {
      "text/html": [
       "<pre>recommendations finished on 33000/134379 queries. users per second: 5750.79</pre>"
      ],
      "text/plain": [
       "recommendations finished on 33000/134379 queries. users per second: 5750.79"
      ]
     },
     "metadata": {},
     "output_type": "display_data"
    },
    {
     "data": {
      "text/html": [
       "<pre>recommendations finished on 34000/134379 queries. users per second: 5727.46</pre>"
      ],
      "text/plain": [
       "recommendations finished on 34000/134379 queries. users per second: 5727.46"
      ]
     },
     "metadata": {},
     "output_type": "display_data"
    },
    {
     "data": {
      "text/html": [
       "<pre>recommendations finished on 35000/134379 queries. users per second: 5705.17</pre>"
      ],
      "text/plain": [
       "recommendations finished on 35000/134379 queries. users per second: 5705.17"
      ]
     },
     "metadata": {},
     "output_type": "display_data"
    },
    {
     "data": {
      "text/html": [
       "<pre>recommendations finished on 36000/134379 queries. users per second: 5764.85</pre>"
      ],
      "text/plain": [
       "recommendations finished on 36000/134379 queries. users per second: 5764.85"
      ]
     },
     "metadata": {},
     "output_type": "display_data"
    },
    {
     "data": {
      "text/html": [
       "<pre>recommendations finished on 37000/134379 queries. users per second: 5743.65</pre>"
      ],
      "text/plain": [
       "recommendations finished on 37000/134379 queries. users per second: 5743.65"
      ]
     },
     "metadata": {},
     "output_type": "display_data"
    },
    {
     "data": {
      "text/html": [
       "<pre>recommendations finished on 38000/134379 queries. users per second: 5724.93</pre>"
      ],
      "text/plain": [
       "recommendations finished on 38000/134379 queries. users per second: 5724.93"
      ]
     },
     "metadata": {},
     "output_type": "display_data"
    },
    {
     "data": {
      "text/html": [
       "<pre>recommendations finished on 39000/134379 queries. users per second: 5707.01</pre>"
      ],
      "text/plain": [
       "recommendations finished on 39000/134379 queries. users per second: 5707.01"
      ]
     },
     "metadata": {},
     "output_type": "display_data"
    },
    {
     "data": {
      "text/html": [
       "<pre>recommendations finished on 40000/134379 queries. users per second: 5761.21</pre>"
      ],
      "text/plain": [
       "recommendations finished on 40000/134379 queries. users per second: 5761.21"
      ]
     },
     "metadata": {},
     "output_type": "display_data"
    },
    {
     "data": {
      "text/html": [
       "<pre>recommendations finished on 41000/134379 queries. users per second: 5743.05</pre>"
      ],
      "text/plain": [
       "recommendations finished on 41000/134379 queries. users per second: 5743.05"
      ]
     },
     "metadata": {},
     "output_type": "display_data"
    },
    {
     "data": {
      "text/html": [
       "<pre>recommendations finished on 42000/134379 queries. users per second: 5725.98</pre>"
      ],
      "text/plain": [
       "recommendations finished on 42000/134379 queries. users per second: 5725.98"
      ]
     },
     "metadata": {},
     "output_type": "display_data"
    },
    {
     "data": {
      "text/html": [
       "<pre>recommendations finished on 43000/134379 queries. users per second: 5776.32</pre>"
      ],
      "text/plain": [
       "recommendations finished on 43000/134379 queries. users per second: 5776.32"
      ]
     },
     "metadata": {},
     "output_type": "display_data"
    },
    {
     "data": {
      "text/html": [
       "<pre>recommendations finished on 44000/134379 queries. users per second: 5758.95</pre>"
      ],
      "text/plain": [
       "recommendations finished on 44000/134379 queries. users per second: 5758.95"
      ]
     },
     "metadata": {},
     "output_type": "display_data"
    },
    {
     "data": {
      "text/html": [
       "<pre>recommendations finished on 45000/134379 queries. users per second: 5742.32</pre>"
      ],
      "text/plain": [
       "recommendations finished on 45000/134379 queries. users per second: 5742.32"
      ]
     },
     "metadata": {},
     "output_type": "display_data"
    },
    {
     "data": {
      "text/html": [
       "<pre>recommendations finished on 46000/134379 queries. users per second: 5787.71</pre>"
      ],
      "text/plain": [
       "recommendations finished on 46000/134379 queries. users per second: 5787.71"
      ]
     },
     "metadata": {},
     "output_type": "display_data"
    },
    {
     "data": {
      "text/html": [
       "<pre>recommendations finished on 47000/134379 queries. users per second: 5772.62</pre>"
      ],
      "text/plain": [
       "recommendations finished on 47000/134379 queries. users per second: 5772.62"
      ]
     },
     "metadata": {},
     "output_type": "display_data"
    },
    {
     "data": {
      "text/html": [
       "<pre>recommendations finished on 48000/134379 queries. users per second: 5757.1</pre>"
      ],
      "text/plain": [
       "recommendations finished on 48000/134379 queries. users per second: 5757.1"
      ]
     },
     "metadata": {},
     "output_type": "display_data"
    },
    {
     "data": {
      "text/html": [
       "<pre>recommendations finished on 49000/134379 queries. users per second: 5742.07</pre>"
      ],
      "text/plain": [
       "recommendations finished on 49000/134379 queries. users per second: 5742.07"
      ]
     },
     "metadata": {},
     "output_type": "display_data"
    },
    {
     "data": {
      "text/html": [
       "<pre>recommendations finished on 50000/134379 queries. users per second: 5785.67</pre>"
      ],
      "text/plain": [
       "recommendations finished on 50000/134379 queries. users per second: 5785.67"
      ]
     },
     "metadata": {},
     "output_type": "display_data"
    },
    {
     "data": {
      "text/html": [
       "<pre>recommendations finished on 51000/134379 queries. users per second: 5770.48</pre>"
      ],
      "text/plain": [
       "recommendations finished on 51000/134379 queries. users per second: 5770.48"
      ]
     },
     "metadata": {},
     "output_type": "display_data"
    },
    {
     "data": {
      "text/html": [
       "<pre>recommendations finished on 52000/134379 queries. users per second: 5755.91</pre>"
      ],
      "text/plain": [
       "recommendations finished on 52000/134379 queries. users per second: 5755.91"
      ]
     },
     "metadata": {},
     "output_type": "display_data"
    },
    {
     "data": {
      "text/html": [
       "<pre>recommendations finished on 53000/134379 queries. users per second: 5797.18</pre>"
      ],
      "text/plain": [
       "recommendations finished on 53000/134379 queries. users per second: 5797.18"
      ]
     },
     "metadata": {},
     "output_type": "display_data"
    },
    {
     "data": {
      "text/html": [
       "<pre>recommendations finished on 54000/134379 queries. users per second: 5782.8</pre>"
      ],
      "text/plain": [
       "recommendations finished on 54000/134379 queries. users per second: 5782.8"
      ]
     },
     "metadata": {},
     "output_type": "display_data"
    },
    {
     "data": {
      "text/html": [
       "<pre>recommendations finished on 55000/134379 queries. users per second: 5768.94</pre>"
      ],
      "text/plain": [
       "recommendations finished on 55000/134379 queries. users per second: 5768.94"
      ]
     },
     "metadata": {},
     "output_type": "display_data"
    },
    {
     "data": {
      "text/html": [
       "<pre>recommendations finished on 56000/134379 queries. users per second: 5807.68</pre>"
      ],
      "text/plain": [
       "recommendations finished on 56000/134379 queries. users per second: 5807.68"
      ]
     },
     "metadata": {},
     "output_type": "display_data"
    },
    {
     "data": {
      "text/html": [
       "<pre>recommendations finished on 57000/134379 queries. users per second: 5793.62</pre>"
      ],
      "text/plain": [
       "recommendations finished on 57000/134379 queries. users per second: 5793.62"
      ]
     },
     "metadata": {},
     "output_type": "display_data"
    },
    {
     "data": {
      "text/html": [
       "<pre>recommendations finished on 58000/134379 queries. users per second: 5780.22</pre>"
      ],
      "text/plain": [
       "recommendations finished on 58000/134379 queries. users per second: 5780.22"
      ]
     },
     "metadata": {},
     "output_type": "display_data"
    },
    {
     "data": {
      "text/html": [
       "<pre>recommendations finished on 59000/134379 queries. users per second: 5816.71</pre>"
      ],
      "text/plain": [
       "recommendations finished on 59000/134379 queries. users per second: 5816.71"
      ]
     },
     "metadata": {},
     "output_type": "display_data"
    },
    {
     "data": {
      "text/html": [
       "<pre>recommendations finished on 60000/134379 queries. users per second: 5803.42</pre>"
      ],
      "text/plain": [
       "recommendations finished on 60000/134379 queries. users per second: 5803.42"
      ]
     },
     "metadata": {},
     "output_type": "display_data"
    },
    {
     "data": {
      "text/html": [
       "<pre>recommendations finished on 61000/134379 queries. users per second: 5790.58</pre>"
      ],
      "text/plain": [
       "recommendations finished on 61000/134379 queries. users per second: 5790.58"
      ]
     },
     "metadata": {},
     "output_type": "display_data"
    },
    {
     "data": {
      "text/html": [
       "<pre>recommendations finished on 62000/134379 queries. users per second: 5824.98</pre>"
      ],
      "text/plain": [
       "recommendations finished on 62000/134379 queries. users per second: 5824.98"
      ]
     },
     "metadata": {},
     "output_type": "display_data"
    },
    {
     "data": {
      "text/html": [
       "<pre>recommendations finished on 63000/134379 queries. users per second: 5812.6</pre>"
      ],
      "text/plain": [
       "recommendations finished on 63000/134379 queries. users per second: 5812.6"
      ]
     },
     "metadata": {},
     "output_type": "display_data"
    },
    {
     "data": {
      "text/html": [
       "<pre>recommendations finished on 64000/134379 queries. users per second: 5799.82</pre>"
      ],
      "text/plain": [
       "recommendations finished on 64000/134379 queries. users per second: 5799.82"
      ]
     },
     "metadata": {},
     "output_type": "display_data"
    },
    {
     "data": {
      "text/html": [
       "<pre>recommendations finished on 65000/134379 queries. users per second: 5832.9</pre>"
      ],
      "text/plain": [
       "recommendations finished on 65000/134379 queries. users per second: 5832.9"
      ]
     },
     "metadata": {},
     "output_type": "display_data"
    },
    {
     "data": {
      "text/html": [
       "<pre>recommendations finished on 66000/134379 queries. users per second: 5820.27</pre>"
      ],
      "text/plain": [
       "recommendations finished on 66000/134379 queries. users per second: 5820.27"
      ]
     },
     "metadata": {},
     "output_type": "display_data"
    },
    {
     "data": {
      "text/html": [
       "<pre>recommendations finished on 67000/134379 queries. users per second: 5807.01</pre>"
      ],
      "text/plain": [
       "recommendations finished on 67000/134379 queries. users per second: 5807.01"
      ]
     },
     "metadata": {},
     "output_type": "display_data"
    },
    {
     "data": {
      "text/html": [
       "<pre>recommendations finished on 68000/134379 queries. users per second: 5794.4</pre>"
      ],
      "text/plain": [
       "recommendations finished on 68000/134379 queries. users per second: 5794.4"
      ]
     },
     "metadata": {},
     "output_type": "display_data"
    },
    {
     "data": {
      "text/html": [
       "<pre>recommendations finished on 69000/134379 queries. users per second: 5824.78</pre>"
      ],
      "text/plain": [
       "recommendations finished on 69000/134379 queries. users per second: 5824.78"
      ]
     },
     "metadata": {},
     "output_type": "display_data"
    },
    {
     "data": {
      "text/html": [
       "<pre>recommendations finished on 70000/134379 queries. users per second: 5812.81</pre>"
      ],
      "text/plain": [
       "recommendations finished on 70000/134379 queries. users per second: 5812.81"
      ]
     },
     "metadata": {},
     "output_type": "display_data"
    },
    {
     "data": {
      "text/html": [
       "<pre>recommendations finished on 71000/134379 queries. users per second: 5801.02</pre>"
      ],
      "text/plain": [
       "recommendations finished on 71000/134379 queries. users per second: 5801.02"
      ]
     },
     "metadata": {},
     "output_type": "display_data"
    },
    {
     "data": {
      "text/html": [
       "<pre>recommendations finished on 72000/134379 queries. users per second: 5789.59</pre>"
      ],
      "text/plain": [
       "recommendations finished on 72000/134379 queries. users per second: 5789.59"
      ]
     },
     "metadata": {},
     "output_type": "display_data"
    },
    {
     "data": {
      "text/html": [
       "<pre>recommendations finished on 73000/134379 queries. users per second: 5819.43</pre>"
      ],
      "text/plain": [
       "recommendations finished on 73000/134379 queries. users per second: 5819.43"
      ]
     },
     "metadata": {},
     "output_type": "display_data"
    },
    {
     "data": {
      "text/html": [
       "<pre>recommendations finished on 74000/134379 queries. users per second: 5808.4</pre>"
      ],
      "text/plain": [
       "recommendations finished on 74000/134379 queries. users per second: 5808.4"
      ]
     },
     "metadata": {},
     "output_type": "display_data"
    },
    {
     "data": {
      "text/html": [
       "<pre>recommendations finished on 75000/134379 queries. users per second: 5797.81</pre>"
      ],
      "text/plain": [
       "recommendations finished on 75000/134379 queries. users per second: 5797.81"
      ]
     },
     "metadata": {},
     "output_type": "display_data"
    },
    {
     "data": {
      "text/html": [
       "<pre>recommendations finished on 76000/134379 queries. users per second: 5825.83</pre>"
      ],
      "text/plain": [
       "recommendations finished on 76000/134379 queries. users per second: 5825.83"
      ]
     },
     "metadata": {},
     "output_type": "display_data"
    },
    {
     "data": {
      "text/html": [
       "<pre>recommendations finished on 77000/134379 queries. users per second: 5815.47</pre>"
      ],
      "text/plain": [
       "recommendations finished on 77000/134379 queries. users per second: 5815.47"
      ]
     },
     "metadata": {},
     "output_type": "display_data"
    },
    {
     "data": {
      "text/html": [
       "<pre>recommendations finished on 78000/134379 queries. users per second: 5804.92</pre>"
      ],
      "text/plain": [
       "recommendations finished on 78000/134379 queries. users per second: 5804.92"
      ]
     },
     "metadata": {},
     "output_type": "display_data"
    },
    {
     "data": {
      "text/html": [
       "<pre>recommendations finished on 79000/134379 queries. users per second: 5832.16</pre>"
      ],
      "text/plain": [
       "recommendations finished on 79000/134379 queries. users per second: 5832.16"
      ]
     },
     "metadata": {},
     "output_type": "display_data"
    },
    {
     "data": {
      "text/html": [
       "<pre>recommendations finished on 80000/134379 queries. users per second: 5821.82</pre>"
      ],
      "text/plain": [
       "recommendations finished on 80000/134379 queries. users per second: 5821.82"
      ]
     },
     "metadata": {},
     "output_type": "display_data"
    },
    {
     "data": {
      "text/html": [
       "<pre>recommendations finished on 81000/134379 queries. users per second: 5811.68</pre>"
      ],
      "text/plain": [
       "recommendations finished on 81000/134379 queries. users per second: 5811.68"
      ]
     },
     "metadata": {},
     "output_type": "display_data"
    },
    {
     "data": {
      "text/html": [
       "<pre>recommendations finished on 82000/134379 queries. users per second: 5837</pre>"
      ],
      "text/plain": [
       "recommendations finished on 82000/134379 queries. users per second: 5837"
      ]
     },
     "metadata": {},
     "output_type": "display_data"
    },
    {
     "data": {
      "text/html": [
       "<pre>recommendations finished on 83000/134379 queries. users per second: 5828.11</pre>"
      ],
      "text/plain": [
       "recommendations finished on 83000/134379 queries. users per second: 5828.11"
      ]
     },
     "metadata": {},
     "output_type": "display_data"
    },
    {
     "data": {
      "text/html": [
       "<pre>recommendations finished on 84000/134379 queries. users per second: 5818.35</pre>"
      ],
      "text/plain": [
       "recommendations finished on 84000/134379 queries. users per second: 5818.35"
      ]
     },
     "metadata": {},
     "output_type": "display_data"
    },
    {
     "data": {
      "text/html": [
       "<pre>recommendations finished on 85000/134379 queries. users per second: 5843.51</pre>"
      ],
      "text/plain": [
       "recommendations finished on 85000/134379 queries. users per second: 5843.51"
      ]
     },
     "metadata": {},
     "output_type": "display_data"
    },
    {
     "data": {
      "text/html": [
       "<pre>recommendations finished on 86000/134379 queries. users per second: 5833.57</pre>"
      ],
      "text/plain": [
       "recommendations finished on 86000/134379 queries. users per second: 5833.57"
      ]
     },
     "metadata": {},
     "output_type": "display_data"
    },
    {
     "data": {
      "text/html": [
       "<pre>recommendations finished on 87000/134379 queries. users per second: 5824.04</pre>"
      ],
      "text/plain": [
       "recommendations finished on 87000/134379 queries. users per second: 5824.04"
      ]
     },
     "metadata": {},
     "output_type": "display_data"
    },
    {
     "data": {
      "text/html": [
       "<pre>recommendations finished on 88000/134379 queries. users per second: 5814.53</pre>"
      ],
      "text/plain": [
       "recommendations finished on 88000/134379 queries. users per second: 5814.53"
      ]
     },
     "metadata": {},
     "output_type": "display_data"
    },
    {
     "data": {
      "text/html": [
       "<pre>recommendations finished on 89000/134379 queries. users per second: 5838.65</pre>"
      ],
      "text/plain": [
       "recommendations finished on 89000/134379 queries. users per second: 5838.65"
      ]
     },
     "metadata": {},
     "output_type": "display_data"
    },
    {
     "data": {
      "text/html": [
       "<pre>recommendations finished on 90000/134379 queries. users per second: 5829.11</pre>"
      ],
      "text/plain": [
       "recommendations finished on 90000/134379 queries. users per second: 5829.11"
      ]
     },
     "metadata": {},
     "output_type": "display_data"
    },
    {
     "data": {
      "text/html": [
       "<pre>recommendations finished on 91000/134379 queries. users per second: 5820.27</pre>"
      ],
      "text/plain": [
       "recommendations finished on 91000/134379 queries. users per second: 5820.27"
      ]
     },
     "metadata": {},
     "output_type": "display_data"
    },
    {
     "data": {
      "text/html": [
       "<pre>recommendations finished on 92000/134379 queries. users per second: 5843.45</pre>"
      ],
      "text/plain": [
       "recommendations finished on 92000/134379 queries. users per second: 5843.45"
      ]
     },
     "metadata": {},
     "output_type": "display_data"
    },
    {
     "data": {
      "text/html": [
       "<pre>recommendations finished on 93000/134379 queries. users per second: 5834.5</pre>"
      ],
      "text/plain": [
       "recommendations finished on 93000/134379 queries. users per second: 5834.5"
      ]
     },
     "metadata": {},
     "output_type": "display_data"
    },
    {
     "data": {
      "text/html": [
       "<pre>recommendations finished on 94000/134379 queries. users per second: 5825.51</pre>"
      ],
      "text/plain": [
       "recommendations finished on 94000/134379 queries. users per second: 5825.51"
      ]
     },
     "metadata": {},
     "output_type": "display_data"
    },
    {
     "data": {
      "text/html": [
       "<pre>recommendations finished on 95000/134379 queries. users per second: 5848.11</pre>"
      ],
      "text/plain": [
       "recommendations finished on 95000/134379 queries. users per second: 5848.11"
      ]
     },
     "metadata": {},
     "output_type": "display_data"
    },
    {
     "data": {
      "text/html": [
       "<pre>recommendations finished on 96000/134379 queries. users per second: 5839.04</pre>"
      ],
      "text/plain": [
       "recommendations finished on 96000/134379 queries. users per second: 5839.04"
      ]
     },
     "metadata": {},
     "output_type": "display_data"
    },
    {
     "data": {
      "text/html": [
       "<pre>recommendations finished on 97000/134379 queries. users per second: 5830.53</pre>"
      ],
      "text/plain": [
       "recommendations finished on 97000/134379 queries. users per second: 5830.53"
      ]
     },
     "metadata": {},
     "output_type": "display_data"
    },
    {
     "data": {
      "text/html": [
       "<pre>recommendations finished on 98000/134379 queries. users per second: 5852.38</pre>"
      ],
      "text/plain": [
       "recommendations finished on 98000/134379 queries. users per second: 5852.38"
      ]
     },
     "metadata": {},
     "output_type": "display_data"
    },
    {
     "data": {
      "text/html": [
       "<pre>recommendations finished on 99000/134379 queries. users per second: 5843.85</pre>"
      ],
      "text/plain": [
       "recommendations finished on 99000/134379 queries. users per second: 5843.85"
      ]
     },
     "metadata": {},
     "output_type": "display_data"
    },
    {
     "data": {
      "text/html": [
       "<pre>recommendations finished on 100000/134379 queries. users per second: 5835.61</pre>"
      ],
      "text/plain": [
       "recommendations finished on 100000/134379 queries. users per second: 5835.61"
      ]
     },
     "metadata": {},
     "output_type": "display_data"
    },
    {
     "data": {
      "text/html": [
       "<pre>recommendations finished on 101000/134379 queries. users per second: 5856.7</pre>"
      ],
      "text/plain": [
       "recommendations finished on 101000/134379 queries. users per second: 5856.7"
      ]
     },
     "metadata": {},
     "output_type": "display_data"
    },
    {
     "data": {
      "text/html": [
       "<pre>recommendations finished on 102000/134379 queries. users per second: 5848.21</pre>"
      ],
      "text/plain": [
       "recommendations finished on 102000/134379 queries. users per second: 5848.21"
      ]
     },
     "metadata": {},
     "output_type": "display_data"
    },
    {
     "data": {
      "text/html": [
       "<pre>recommendations finished on 103000/134379 queries. users per second: 5840.02</pre>"
      ],
      "text/plain": [
       "recommendations finished on 103000/134379 queries. users per second: 5840.02"
      ]
     },
     "metadata": {},
     "output_type": "display_data"
    },
    {
     "data": {
      "text/html": [
       "<pre>recommendations finished on 104000/134379 queries. users per second: 5860.46</pre>"
      ],
      "text/plain": [
       "recommendations finished on 104000/134379 queries. users per second: 5860.46"
      ]
     },
     "metadata": {},
     "output_type": "display_data"
    },
    {
     "data": {
      "text/html": [
       "<pre>recommendations finished on 105000/134379 queries. users per second: 5852.36</pre>"
      ],
      "text/plain": [
       "recommendations finished on 105000/134379 queries. users per second: 5852.36"
      ]
     },
     "metadata": {},
     "output_type": "display_data"
    },
    {
     "data": {
      "text/html": [
       "<pre>recommendations finished on 106000/134379 queries. users per second: 5844.27</pre>"
      ],
      "text/plain": [
       "recommendations finished on 106000/134379 queries. users per second: 5844.27"
      ]
     },
     "metadata": {},
     "output_type": "display_data"
    },
    {
     "data": {
      "text/html": [
       "<pre>recommendations finished on 107000/134379 queries. users per second: 5863.32</pre>"
      ],
      "text/plain": [
       "recommendations finished on 107000/134379 queries. users per second: 5863.32"
      ]
     },
     "metadata": {},
     "output_type": "display_data"
    },
    {
     "data": {
      "text/html": [
       "<pre>recommendations finished on 108000/134379 queries. users per second: 5855.94</pre>"
      ],
      "text/plain": [
       "recommendations finished on 108000/134379 queries. users per second: 5855.94"
      ]
     },
     "metadata": {},
     "output_type": "display_data"
    },
    {
     "data": {
      "text/html": [
       "<pre>recommendations finished on 109000/134379 queries. users per second: 5847.89</pre>"
      ],
      "text/plain": [
       "recommendations finished on 109000/134379 queries. users per second: 5847.89"
      ]
     },
     "metadata": {},
     "output_type": "display_data"
    },
    {
     "data": {
      "text/html": [
       "<pre>recommendations finished on 110000/134379 queries. users per second: 5840.16</pre>"
      ],
      "text/plain": [
       "recommendations finished on 110000/134379 queries. users per second: 5840.16"
      ]
     },
     "metadata": {},
     "output_type": "display_data"
    },
    {
     "data": {
      "text/html": [
       "<pre>recommendations finished on 111000/134379 queries. users per second: 5859.43</pre>"
      ],
      "text/plain": [
       "recommendations finished on 111000/134379 queries. users per second: 5859.43"
      ]
     },
     "metadata": {},
     "output_type": "display_data"
    },
    {
     "data": {
      "text/html": [
       "<pre>recommendations finished on 112000/134379 queries. users per second: 5851.6</pre>"
      ],
      "text/plain": [
       "recommendations finished on 112000/134379 queries. users per second: 5851.6"
      ]
     },
     "metadata": {},
     "output_type": "display_data"
    },
    {
     "data": {
      "text/html": [
       "<pre>recommendations finished on 113000/134379 queries. users per second: 5843.68</pre>"
      ],
      "text/plain": [
       "recommendations finished on 113000/134379 queries. users per second: 5843.68"
      ]
     },
     "metadata": {},
     "output_type": "display_data"
    },
    {
     "data": {
      "text/html": [
       "<pre>recommendations finished on 114000/134379 queries. users per second: 5862.79</pre>"
      ],
      "text/plain": [
       "recommendations finished on 114000/134379 queries. users per second: 5862.79"
      ]
     },
     "metadata": {},
     "output_type": "display_data"
    },
    {
     "data": {
      "text/html": [
       "<pre>recommendations finished on 115000/134379 queries. users per second: 5855.21</pre>"
      ],
      "text/plain": [
       "recommendations finished on 115000/134379 queries. users per second: 5855.21"
      ]
     },
     "metadata": {},
     "output_type": "display_data"
    },
    {
     "data": {
      "text/html": [
       "<pre>recommendations finished on 116000/134379 queries. users per second: 5847.64</pre>"
      ],
      "text/plain": [
       "recommendations finished on 116000/134379 queries. users per second: 5847.64"
      ]
     },
     "metadata": {},
     "output_type": "display_data"
    },
    {
     "data": {
      "text/html": [
       "<pre>recommendations finished on 117000/134379 queries. users per second: 5865.92</pre>"
      ],
      "text/plain": [
       "recommendations finished on 117000/134379 queries. users per second: 5865.92"
      ]
     },
     "metadata": {},
     "output_type": "display_data"
    },
    {
     "data": {
      "text/html": [
       "<pre>recommendations finished on 118000/134379 queries. users per second: 5858.66</pre>"
      ],
      "text/plain": [
       "recommendations finished on 118000/134379 queries. users per second: 5858.66"
      ]
     },
     "metadata": {},
     "output_type": "display_data"
    },
    {
     "data": {
      "text/html": [
       "<pre>recommendations finished on 119000/134379 queries. users per second: 5851.41</pre>"
      ],
      "text/plain": [
       "recommendations finished on 119000/134379 queries. users per second: 5851.41"
      ]
     },
     "metadata": {},
     "output_type": "display_data"
    },
    {
     "data": {
      "text/html": [
       "<pre>recommendations finished on 120000/134379 queries. users per second: 5869.34</pre>"
      ],
      "text/plain": [
       "recommendations finished on 120000/134379 queries. users per second: 5869.34"
      ]
     },
     "metadata": {},
     "output_type": "display_data"
    },
    {
     "data": {
      "text/html": [
       "<pre>recommendations finished on 121000/134379 queries. users per second: 5862.07</pre>"
      ],
      "text/plain": [
       "recommendations finished on 121000/134379 queries. users per second: 5862.07"
      ]
     },
     "metadata": {},
     "output_type": "display_data"
    },
    {
     "data": {
      "text/html": [
       "<pre>recommendations finished on 122000/134379 queries. users per second: 5854.92</pre>"
      ],
      "text/plain": [
       "recommendations finished on 122000/134379 queries. users per second: 5854.92"
      ]
     },
     "metadata": {},
     "output_type": "display_data"
    },
    {
     "data": {
      "text/html": [
       "<pre>recommendations finished on 123000/134379 queries. users per second: 5872.28</pre>"
      ],
      "text/plain": [
       "recommendations finished on 123000/134379 queries. users per second: 5872.28"
      ]
     },
     "metadata": {},
     "output_type": "display_data"
    },
    {
     "data": {
      "text/html": [
       "<pre>recommendations finished on 124000/134379 queries. users per second: 5865.08</pre>"
      ],
      "text/plain": [
       "recommendations finished on 124000/134379 queries. users per second: 5865.08"
      ]
     },
     "metadata": {},
     "output_type": "display_data"
    },
    {
     "data": {
      "text/html": [
       "<pre>recommendations finished on 125000/134379 queries. users per second: 5858.06</pre>"
      ],
      "text/plain": [
       "recommendations finished on 125000/134379 queries. users per second: 5858.06"
      ]
     },
     "metadata": {},
     "output_type": "display_data"
    },
    {
     "data": {
      "text/html": [
       "<pre>recommendations finished on 126000/134379 queries. users per second: 5851.22</pre>"
      ],
      "text/plain": [
       "recommendations finished on 126000/134379 queries. users per second: 5851.22"
      ]
     },
     "metadata": {},
     "output_type": "display_data"
    },
    {
     "data": {
      "text/html": [
       "<pre>recommendations finished on 127000/134379 queries. users per second: 5867.97</pre>"
      ],
      "text/plain": [
       "recommendations finished on 127000/134379 queries. users per second: 5867.97"
      ]
     },
     "metadata": {},
     "output_type": "display_data"
    },
    {
     "data": {
      "text/html": [
       "<pre>recommendations finished on 128000/134379 queries. users per second: 5861.14</pre>"
      ],
      "text/plain": [
       "recommendations finished on 128000/134379 queries. users per second: 5861.14"
      ]
     },
     "metadata": {},
     "output_type": "display_data"
    },
    {
     "data": {
      "text/html": [
       "<pre>recommendations finished on 129000/134379 queries. users per second: 5854.61</pre>"
      ],
      "text/plain": [
       "recommendations finished on 129000/134379 queries. users per second: 5854.61"
      ]
     },
     "metadata": {},
     "output_type": "display_data"
    },
    {
     "data": {
      "text/html": [
       "<pre>recommendations finished on 130000/134379 queries. users per second: 5871.06</pre>"
      ],
      "text/plain": [
       "recommendations finished on 130000/134379 queries. users per second: 5871.06"
      ]
     },
     "metadata": {},
     "output_type": "display_data"
    },
    {
     "data": {
      "text/html": [
       "<pre>recommendations finished on 131000/134379 queries. users per second: 5864.94</pre>"
      ],
      "text/plain": [
       "recommendations finished on 131000/134379 queries. users per second: 5864.94"
      ]
     },
     "metadata": {},
     "output_type": "display_data"
    },
    {
     "data": {
      "text/html": [
       "<pre>recommendations finished on 132000/134379 queries. users per second: 5881.03</pre>"
      ],
      "text/plain": [
       "recommendations finished on 132000/134379 queries. users per second: 5881.03"
      ]
     },
     "metadata": {},
     "output_type": "display_data"
    },
    {
     "data": {
      "text/html": [
       "<pre>recommendations finished on 133000/134379 queries. users per second: 5875.29</pre>"
      ],
      "text/plain": [
       "recommendations finished on 133000/134379 queries. users per second: 5875.29"
      ]
     },
     "metadata": {},
     "output_type": "display_data"
    },
    {
     "data": {
      "text/html": [
       "<pre>recommendations finished on 134000/134379 queries. users per second: 5886.14</pre>"
      ],
      "text/plain": [
       "recommendations finished on 134000/134379 queries. users per second: 5886.14"
      ]
     },
     "metadata": {},
     "output_type": "display_data"
    },
    {
     "name": "stdout",
     "output_type": "stream",
     "text": [
      "\n",
      "Precision and recall summary statistics by cutoff\n",
      "+--------+-------------------+-------------------+\n",
      "| cutoff |   mean_precision  |    mean_recall    |\n",
      "+--------+-------------------+-------------------+\n",
      "|   1    | 7.44163894656e-06 | 3.91665207714e-07 |\n",
      "|   2    | 3.72081947328e-06 | 3.91665207714e-07 |\n",
      "|   3    | 4.96109263104e-06 | 1.87999299703e-06 |\n",
      "|   4    | 3.72081947328e-06 | 1.87999299703e-06 |\n",
      "|   5    | 2.97665557862e-06 | 1.87999299703e-06 |\n",
      "|   6    | 2.48054631552e-06 | 1.87999299703e-06 |\n",
      "|   7    | 2.12618255616e-06 | 1.87999299703e-06 |\n",
      "|   8    | 1.86040973664e-06 | 1.87999299703e-06 |\n",
      "|   9    | 1.65369754368e-06 | 1.87999299703e-06 |\n",
      "|   10   | 1.48832778931e-06 | 1.87999299703e-06 |\n",
      "+--------+-------------------+-------------------+\n",
      "[10 rows x 3 columns]\n",
      "\n",
      "PROGRESS: Evaluate model M1\n"
     ]
    },
    {
     "data": {
      "text/html": [
       "<pre>recommendations finished on 1000/134379 queries. users per second: 3999.62</pre>"
      ],
      "text/plain": [
       "recommendations finished on 1000/134379 queries. users per second: 3999.62"
      ]
     },
     "metadata": {},
     "output_type": "display_data"
    },
    {
     "data": {
      "text/html": [
       "<pre>recommendations finished on 2000/134379 queries. users per second: 4487.36</pre>"
      ],
      "text/plain": [
       "recommendations finished on 2000/134379 queries. users per second: 4487.36"
      ]
     },
     "metadata": {},
     "output_type": "display_data"
    },
    {
     "data": {
      "text/html": [
       "<pre>recommendations finished on 3000/134379 queries. users per second: 4670.02</pre>"
      ],
      "text/plain": [
       "recommendations finished on 3000/134379 queries. users per second: 4670.02"
      ]
     },
     "metadata": {},
     "output_type": "display_data"
    },
    {
     "data": {
      "text/html": [
       "<pre>recommendations finished on 4000/134379 queries. users per second: 5319.47</pre>"
      ],
      "text/plain": [
       "recommendations finished on 4000/134379 queries. users per second: 5319.47"
      ]
     },
     "metadata": {},
     "output_type": "display_data"
    },
    {
     "data": {
      "text/html": [
       "<pre>recommendations finished on 5000/134379 queries. users per second: 5273.57</pre>"
      ],
      "text/plain": [
       "recommendations finished on 5000/134379 queries. users per second: 5273.57"
      ]
     },
     "metadata": {},
     "output_type": "display_data"
    },
    {
     "data": {
      "text/html": [
       "<pre>recommendations finished on 6000/134379 queries. users per second: 5245.35</pre>"
      ],
      "text/plain": [
       "recommendations finished on 6000/134379 queries. users per second: 5245.35"
      ]
     },
     "metadata": {},
     "output_type": "display_data"
    },
    {
     "data": {
      "text/html": [
       "<pre>recommendations finished on 7000/134379 queries. users per second: 5587.19</pre>"
      ],
      "text/plain": [
       "recommendations finished on 7000/134379 queries. users per second: 5587.19"
      ]
     },
     "metadata": {},
     "output_type": "display_data"
    },
    {
     "data": {
      "text/html": [
       "<pre>recommendations finished on 8000/134379 queries. users per second: 5517.83</pre>"
      ],
      "text/plain": [
       "recommendations finished on 8000/134379 queries. users per second: 5517.83"
      ]
     },
     "metadata": {},
     "output_type": "display_data"
    },
    {
     "data": {
      "text/html": [
       "<pre>recommendations finished on 9000/134379 queries. users per second: 5466.39</pre>"
      ],
      "text/plain": [
       "recommendations finished on 9000/134379 queries. users per second: 5466.39"
      ]
     },
     "metadata": {},
     "output_type": "display_data"
    },
    {
     "data": {
      "text/html": [
       "<pre>recommendations finished on 10000/134379 queries. users per second: 5425.15</pre>"
      ],
      "text/plain": [
       "recommendations finished on 10000/134379 queries. users per second: 5425.15"
      ]
     },
     "metadata": {},
     "output_type": "display_data"
    },
    {
     "data": {
      "text/html": [
       "<pre>recommendations finished on 11000/134379 queries. users per second: 5634.86</pre>"
      ],
      "text/plain": [
       "recommendations finished on 11000/134379 queries. users per second: 5634.86"
      ]
     },
     "metadata": {},
     "output_type": "display_data"
    },
    {
     "data": {
      "text/html": [
       "<pre>recommendations finished on 12000/134379 queries. users per second: 5585.97</pre>"
      ],
      "text/plain": [
       "recommendations finished on 12000/134379 queries. users per second: 5585.97"
      ]
     },
     "metadata": {},
     "output_type": "display_data"
    },
    {
     "data": {
      "text/html": [
       "<pre>recommendations finished on 13000/134379 queries. users per second: 5545.81</pre>"
      ],
      "text/plain": [
       "recommendations finished on 13000/134379 queries. users per second: 5545.81"
      ]
     },
     "metadata": {},
     "output_type": "display_data"
    },
    {
     "data": {
      "text/html": [
       "<pre>recommendations finished on 14000/134379 queries. users per second: 5707.12</pre>"
      ],
      "text/plain": [
       "recommendations finished on 14000/134379 queries. users per second: 5707.12"
      ]
     },
     "metadata": {},
     "output_type": "display_data"
    },
    {
     "data": {
      "text/html": [
       "<pre>recommendations finished on 15000/134379 queries. users per second: 5662.01</pre>"
      ],
      "text/plain": [
       "recommendations finished on 15000/134379 queries. users per second: 5662.01"
      ]
     },
     "metadata": {},
     "output_type": "display_data"
    },
    {
     "data": {
      "text/html": [
       "<pre>recommendations finished on 16000/134379 queries. users per second: 5621.79</pre>"
      ],
      "text/plain": [
       "recommendations finished on 16000/134379 queries. users per second: 5621.79"
      ]
     },
     "metadata": {},
     "output_type": "display_data"
    },
    {
     "data": {
      "text/html": [
       "<pre>recommendations finished on 17000/134379 queries. users per second: 5587.85</pre>"
      ],
      "text/plain": [
       "recommendations finished on 17000/134379 queries. users per second: 5587.85"
      ]
     },
     "metadata": {},
     "output_type": "display_data"
    },
    {
     "data": {
      "text/html": [
       "<pre>recommendations finished on 18000/134379 queries. users per second: 5709.09</pre>"
      ],
      "text/plain": [
       "recommendations finished on 18000/134379 queries. users per second: 5709.09"
      ]
     },
     "metadata": {},
     "output_type": "display_data"
    },
    {
     "data": {
      "text/html": [
       "<pre>recommendations finished on 19000/134379 queries. users per second: 5673.03</pre>"
      ],
      "text/plain": [
       "recommendations finished on 19000/134379 queries. users per second: 5673.03"
      ]
     },
     "metadata": {},
     "output_type": "display_data"
    },
    {
     "data": {
      "text/html": [
       "<pre>recommendations finished on 20000/134379 queries. users per second: 5642.46</pre>"
      ],
      "text/plain": [
       "recommendations finished on 20000/134379 queries. users per second: 5642.46"
      ]
     },
     "metadata": {},
     "output_type": "display_data"
    },
    {
     "data": {
      "text/html": [
       "<pre>recommendations finished on 21000/134379 queries. users per second: 5746.49</pre>"
      ],
      "text/plain": [
       "recommendations finished on 21000/134379 queries. users per second: 5746.49"
      ]
     },
     "metadata": {},
     "output_type": "display_data"
    },
    {
     "data": {
      "text/html": [
       "<pre>recommendations finished on 22000/134379 queries. users per second: 5713.96</pre>"
      ],
      "text/plain": [
       "recommendations finished on 22000/134379 queries. users per second: 5713.96"
      ]
     },
     "metadata": {},
     "output_type": "display_data"
    },
    {
     "data": {
      "text/html": [
       "<pre>recommendations finished on 23000/134379 queries. users per second: 5684.95</pre>"
      ],
      "text/plain": [
       "recommendations finished on 23000/134379 queries. users per second: 5684.95"
      ]
     },
     "metadata": {},
     "output_type": "display_data"
    },
    {
     "data": {
      "text/html": [
       "<pre>recommendations finished on 24000/134379 queries. users per second: 5656.67</pre>"
      ],
      "text/plain": [
       "recommendations finished on 24000/134379 queries. users per second: 5656.67"
      ]
     },
     "metadata": {},
     "output_type": "display_data"
    },
    {
     "data": {
      "text/html": [
       "<pre>recommendations finished on 25000/134379 queries. users per second: 5743.46</pre>"
      ],
      "text/plain": [
       "recommendations finished on 25000/134379 queries. users per second: 5743.46"
      ]
     },
     "metadata": {},
     "output_type": "display_data"
    },
    {
     "data": {
      "text/html": [
       "<pre>recommendations finished on 26000/134379 queries. users per second: 5716.77</pre>"
      ],
      "text/plain": [
       "recommendations finished on 26000/134379 queries. users per second: 5716.77"
      ]
     },
     "metadata": {},
     "output_type": "display_data"
    },
    {
     "data": {
      "text/html": [
       "<pre>recommendations finished on 27000/134379 queries. users per second: 5691.34</pre>"
      ],
      "text/plain": [
       "recommendations finished on 27000/134379 queries. users per second: 5691.34"
      ]
     },
     "metadata": {},
     "output_type": "display_data"
    },
    {
     "data": {
      "text/html": [
       "<pre>recommendations finished on 28000/134379 queries. users per second: 5768.99</pre>"
      ],
      "text/plain": [
       "recommendations finished on 28000/134379 queries. users per second: 5768.99"
      ]
     },
     "metadata": {},
     "output_type": "display_data"
    },
    {
     "data": {
      "text/html": [
       "<pre>recommendations finished on 29000/134379 queries. users per second: 5743.36</pre>"
      ],
      "text/plain": [
       "recommendations finished on 29000/134379 queries. users per second: 5743.36"
      ]
     },
     "metadata": {},
     "output_type": "display_data"
    },
    {
     "data": {
      "text/html": [
       "<pre>recommendations finished on 30000/134379 queries. users per second: 5720.09</pre>"
      ],
      "text/plain": [
       "recommendations finished on 30000/134379 queries. users per second: 5720.09"
      ]
     },
     "metadata": {},
     "output_type": "display_data"
    },
    {
     "data": {
      "text/html": [
       "<pre>recommendations finished on 31000/134379 queries. users per second: 5789.91</pre>"
      ],
      "text/plain": [
       "recommendations finished on 31000/134379 queries. users per second: 5789.91"
      ]
     },
     "metadata": {},
     "output_type": "display_data"
    },
    {
     "data": {
      "text/html": [
       "<pre>recommendations finished on 32000/134379 queries. users per second: 5765</pre>"
      ],
      "text/plain": [
       "recommendations finished on 32000/134379 queries. users per second: 5765"
      ]
     },
     "metadata": {},
     "output_type": "display_data"
    },
    {
     "data": {
      "text/html": [
       "<pre>recommendations finished on 33000/134379 queries. users per second: 5741.48</pre>"
      ],
      "text/plain": [
       "recommendations finished on 33000/134379 queries. users per second: 5741.48"
      ]
     },
     "metadata": {},
     "output_type": "display_data"
    },
    {
     "data": {
      "text/html": [
       "<pre>recommendations finished on 34000/134379 queries. users per second: 5717.53</pre>"
      ],
      "text/plain": [
       "recommendations finished on 34000/134379 queries. users per second: 5717.53"
      ]
     },
     "metadata": {},
     "output_type": "display_data"
    },
    {
     "data": {
      "text/html": [
       "<pre>recommendations finished on 35000/134379 queries. users per second: 5695.04</pre>"
      ],
      "text/plain": [
       "recommendations finished on 35000/134379 queries. users per second: 5695.04"
      ]
     },
     "metadata": {},
     "output_type": "display_data"
    },
    {
     "data": {
      "text/html": [
       "<pre>recommendations finished on 36000/134379 queries. users per second: 5676.32</pre>"
      ],
      "text/plain": [
       "recommendations finished on 36000/134379 queries. users per second: 5676.32"
      ]
     },
     "metadata": {},
     "output_type": "display_data"
    },
    {
     "data": {
      "text/html": [
       "<pre>recommendations finished on 37000/134379 queries. users per second: 5735.29</pre>"
      ],
      "text/plain": [
       "recommendations finished on 37000/134379 queries. users per second: 5735.29"
      ]
     },
     "metadata": {},
     "output_type": "display_data"
    },
    {
     "data": {
      "text/html": [
       "<pre>recommendations finished on 38000/134379 queries. users per second: 5716.63</pre>"
      ],
      "text/plain": [
       "recommendations finished on 38000/134379 queries. users per second: 5716.63"
      ]
     },
     "metadata": {},
     "output_type": "display_data"
    },
    {
     "data": {
      "text/html": [
       "<pre>recommendations finished on 39000/134379 queries. users per second: 5699.1</pre>"
      ],
      "text/plain": [
       "recommendations finished on 39000/134379 queries. users per second: 5699.1"
      ]
     },
     "metadata": {},
     "output_type": "display_data"
    },
    {
     "data": {
      "text/html": [
       "<pre>recommendations finished on 40000/134379 queries. users per second: 5753.73</pre>"
      ],
      "text/plain": [
       "recommendations finished on 40000/134379 queries. users per second: 5753.73"
      ]
     },
     "metadata": {},
     "output_type": "display_data"
    },
    {
     "data": {
      "text/html": [
       "<pre>recommendations finished on 41000/134379 queries. users per second: 5736.09</pre>"
      ],
      "text/plain": [
       "recommendations finished on 41000/134379 queries. users per second: 5736.09"
      ]
     },
     "metadata": {},
     "output_type": "display_data"
    },
    {
     "data": {
      "text/html": [
       "<pre>recommendations finished on 42000/134379 queries. users per second: 5718.92</pre>"
      ],
      "text/plain": [
       "recommendations finished on 42000/134379 queries. users per second: 5718.92"
      ]
     },
     "metadata": {},
     "output_type": "display_data"
    },
    {
     "data": {
      "text/html": [
       "<pre>recommendations finished on 43000/134379 queries. users per second: 5769.89</pre>"
      ],
      "text/plain": [
       "recommendations finished on 43000/134379 queries. users per second: 5769.89"
      ]
     },
     "metadata": {},
     "output_type": "display_data"
    },
    {
     "data": {
      "text/html": [
       "<pre>recommendations finished on 44000/134379 queries. users per second: 5752.45</pre>"
      ],
      "text/plain": [
       "recommendations finished on 44000/134379 queries. users per second: 5752.45"
      ]
     },
     "metadata": {},
     "output_type": "display_data"
    },
    {
     "data": {
      "text/html": [
       "<pre>recommendations finished on 45000/134379 queries. users per second: 5735.91</pre>"
      ],
      "text/plain": [
       "recommendations finished on 45000/134379 queries. users per second: 5735.91"
      ]
     },
     "metadata": {},
     "output_type": "display_data"
    },
    {
     "data": {
      "text/html": [
       "<pre>recommendations finished on 46000/134379 queries. users per second: 5720.21</pre>"
      ],
      "text/plain": [
       "recommendations finished on 46000/134379 queries. users per second: 5720.21"
      ]
     },
     "metadata": {},
     "output_type": "display_data"
    },
    {
     "data": {
      "text/html": [
       "<pre>recommendations finished on 47000/134379 queries. users per second: 5766.24</pre>"
      ],
      "text/plain": [
       "recommendations finished on 47000/134379 queries. users per second: 5766.24"
      ]
     },
     "metadata": {},
     "output_type": "display_data"
    },
    {
     "data": {
      "text/html": [
       "<pre>recommendations finished on 48000/134379 queries. users per second: 5750.84</pre>"
      ],
      "text/plain": [
       "recommendations finished on 48000/134379 queries. users per second: 5750.84"
      ]
     },
     "metadata": {},
     "output_type": "display_data"
    },
    {
     "data": {
      "text/html": [
       "<pre>recommendations finished on 49000/134379 queries. users per second: 5735.28</pre>"
      ],
      "text/plain": [
       "recommendations finished on 49000/134379 queries. users per second: 5735.28"
      ]
     },
     "metadata": {},
     "output_type": "display_data"
    },
    {
     "data": {
      "text/html": [
       "<pre>recommendations finished on 50000/134379 queries. users per second: 5778.63</pre>"
      ],
      "text/plain": [
       "recommendations finished on 50000/134379 queries. users per second: 5778.63"
      ]
     },
     "metadata": {},
     "output_type": "display_data"
    },
    {
     "data": {
      "text/html": [
       "<pre>recommendations finished on 51000/134379 queries. users per second: 5763.59</pre>"
      ],
      "text/plain": [
       "recommendations finished on 51000/134379 queries. users per second: 5763.59"
      ]
     },
     "metadata": {},
     "output_type": "display_data"
    },
    {
     "data": {
      "text/html": [
       "<pre>recommendations finished on 52000/134379 queries. users per second: 5748.7</pre>"
      ],
      "text/plain": [
       "recommendations finished on 52000/134379 queries. users per second: 5748.7"
      ]
     },
     "metadata": {},
     "output_type": "display_data"
    },
    {
     "data": {
      "text/html": [
       "<pre>recommendations finished on 53000/134379 queries. users per second: 5789.68</pre>"
      ],
      "text/plain": [
       "recommendations finished on 53000/134379 queries. users per second: 5789.68"
      ]
     },
     "metadata": {},
     "output_type": "display_data"
    },
    {
     "data": {
      "text/html": [
       "<pre>recommendations finished on 54000/134379 queries. users per second: 5775.56</pre>"
      ],
      "text/plain": [
       "recommendations finished on 54000/134379 queries. users per second: 5775.56"
      ]
     },
     "metadata": {},
     "output_type": "display_data"
    },
    {
     "data": {
      "text/html": [
       "<pre>recommendations finished on 55000/134379 queries. users per second: 5761.62</pre>"
      ],
      "text/plain": [
       "recommendations finished on 55000/134379 queries. users per second: 5761.62"
      ]
     },
     "metadata": {},
     "output_type": "display_data"
    },
    {
     "data": {
      "text/html": [
       "<pre>recommendations finished on 56000/134379 queries. users per second: 5747.89</pre>"
      ],
      "text/plain": [
       "recommendations finished on 56000/134379 queries. users per second: 5747.89"
      ]
     },
     "metadata": {},
     "output_type": "display_data"
    },
    {
     "data": {
      "text/html": [
       "<pre>recommendations finished on 57000/134379 queries. users per second: 5785.96</pre>"
      ],
      "text/plain": [
       "recommendations finished on 57000/134379 queries. users per second: 5785.96"
      ]
     },
     "metadata": {},
     "output_type": "display_data"
    },
    {
     "data": {
      "text/html": [
       "<pre>recommendations finished on 58000/134379 queries. users per second: 5772.5</pre>"
      ],
      "text/plain": [
       "recommendations finished on 58000/134379 queries. users per second: 5772.5"
      ]
     },
     "metadata": {},
     "output_type": "display_data"
    },
    {
     "data": {
      "text/html": [
       "<pre>recommendations finished on 59000/134379 queries. users per second: 5759.74</pre>"
      ],
      "text/plain": [
       "recommendations finished on 59000/134379 queries. users per second: 5759.74"
      ]
     },
     "metadata": {},
     "output_type": "display_data"
    },
    {
     "data": {
      "text/html": [
       "<pre>recommendations finished on 60000/134379 queries. users per second: 5795.64</pre>"
      ],
      "text/plain": [
       "recommendations finished on 60000/134379 queries. users per second: 5795.64"
      ]
     },
     "metadata": {},
     "output_type": "display_data"
    },
    {
     "data": {
      "text/html": [
       "<pre>recommendations finished on 61000/134379 queries. users per second: 5782.7</pre>"
      ],
      "text/plain": [
       "recommendations finished on 61000/134379 queries. users per second: 5782.7"
      ]
     },
     "metadata": {},
     "output_type": "display_data"
    },
    {
     "data": {
      "text/html": [
       "<pre>recommendations finished on 62000/134379 queries. users per second: 5769.98</pre>"
      ],
      "text/plain": [
       "recommendations finished on 62000/134379 queries. users per second: 5769.98"
      ]
     },
     "metadata": {},
     "output_type": "display_data"
    },
    {
     "data": {
      "text/html": [
       "<pre>recommendations finished on 63000/134379 queries. users per second: 5757.7</pre>"
      ],
      "text/plain": [
       "recommendations finished on 63000/134379 queries. users per second: 5757.7"
      ]
     },
     "metadata": {},
     "output_type": "display_data"
    },
    {
     "data": {
      "text/html": [
       "<pre>recommendations finished on 64000/134379 queries. users per second: 5791.09</pre>"
      ],
      "text/plain": [
       "recommendations finished on 64000/134379 queries. users per second: 5791.09"
      ]
     },
     "metadata": {},
     "output_type": "display_data"
    },
    {
     "data": {
      "text/html": [
       "<pre>recommendations finished on 65000/134379 queries. users per second: 5778.47</pre>"
      ],
      "text/plain": [
       "recommendations finished on 65000/134379 queries. users per second: 5778.47"
      ]
     },
     "metadata": {},
     "output_type": "display_data"
    },
    {
     "data": {
      "text/html": [
       "<pre>recommendations finished on 66000/134379 queries. users per second: 5766.81</pre>"
      ],
      "text/plain": [
       "recommendations finished on 66000/134379 queries. users per second: 5766.81"
      ]
     },
     "metadata": {},
     "output_type": "display_data"
    },
    {
     "data": {
      "text/html": [
       "<pre>recommendations finished on 67000/134379 queries. users per second: 5797.25</pre>"
      ],
      "text/plain": [
       "recommendations finished on 67000/134379 queries. users per second: 5797.25"
      ]
     },
     "metadata": {},
     "output_type": "display_data"
    },
    {
     "data": {
      "text/html": [
       "<pre>recommendations finished on 68000/134379 queries. users per second: 5784.7</pre>"
      ],
      "text/plain": [
       "recommendations finished on 68000/134379 queries. users per second: 5784.7"
      ]
     },
     "metadata": {},
     "output_type": "display_data"
    },
    {
     "data": {
      "text/html": [
       "<pre>recommendations finished on 69000/134379 queries. users per second: 5772.06</pre>"
      ],
      "text/plain": [
       "recommendations finished on 69000/134379 queries. users per second: 5772.06"
      ]
     },
     "metadata": {},
     "output_type": "display_data"
    },
    {
     "data": {
      "text/html": [
       "<pre>recommendations finished on 70000/134379 queries. users per second: 5761.04</pre>"
      ],
      "text/plain": [
       "recommendations finished on 70000/134379 queries. users per second: 5761.04"
      ]
     },
     "metadata": {},
     "output_type": "display_data"
    },
    {
     "data": {
      "text/html": [
       "<pre>recommendations finished on 71000/134379 queries. users per second: 5750.3</pre>"
      ],
      "text/plain": [
       "recommendations finished on 71000/134379 queries. users per second: 5750.3"
      ]
     },
     "metadata": {},
     "output_type": "display_data"
    },
    {
     "data": {
      "text/html": [
       "<pre>recommendations finished on 72000/134379 queries. users per second: 5739.86</pre>"
      ],
      "text/plain": [
       "recommendations finished on 72000/134379 queries. users per second: 5739.86"
      ]
     },
     "metadata": {},
     "output_type": "display_data"
    },
    {
     "data": {
      "text/html": [
       "<pre>recommendations finished on 73000/134379 queries. users per second: 5769.36</pre>"
      ],
      "text/plain": [
       "recommendations finished on 73000/134379 queries. users per second: 5769.36"
      ]
     },
     "metadata": {},
     "output_type": "display_data"
    },
    {
     "data": {
      "text/html": [
       "<pre>recommendations finished on 74000/134379 queries. users per second: 5759.56</pre>"
      ],
      "text/plain": [
       "recommendations finished on 74000/134379 queries. users per second: 5759.56"
      ]
     },
     "metadata": {},
     "output_type": "display_data"
    },
    {
     "data": {
      "text/html": [
       "<pre>recommendations finished on 75000/134379 queries. users per second: 5749.68</pre>"
      ],
      "text/plain": [
       "recommendations finished on 75000/134379 queries. users per second: 5749.68"
      ]
     },
     "metadata": {},
     "output_type": "display_data"
    },
    {
     "data": {
      "text/html": [
       "<pre>recommendations finished on 76000/134379 queries. users per second: 5739.19</pre>"
      ],
      "text/plain": [
       "recommendations finished on 76000/134379 queries. users per second: 5739.19"
      ]
     },
     "metadata": {},
     "output_type": "display_data"
    },
    {
     "data": {
      "text/html": [
       "<pre>recommendations finished on 77000/134379 queries. users per second: 5767.09</pre>"
      ],
      "text/plain": [
       "recommendations finished on 77000/134379 queries. users per second: 5767.09"
      ]
     },
     "metadata": {},
     "output_type": "display_data"
    },
    {
     "data": {
      "text/html": [
       "<pre>recommendations finished on 78000/134379 queries. users per second: 5756.21</pre>"
      ],
      "text/plain": [
       "recommendations finished on 78000/134379 queries. users per second: 5756.21"
      ]
     },
     "metadata": {},
     "output_type": "display_data"
    },
    {
     "data": {
      "text/html": [
       "<pre>recommendations finished on 79000/134379 queries. users per second: 5748.13</pre>"
      ],
      "text/plain": [
       "recommendations finished on 79000/134379 queries. users per second: 5748.13"
      ]
     },
     "metadata": {},
     "output_type": "display_data"
    },
    {
     "data": {
      "text/html": [
       "<pre>recommendations finished on 80000/134379 queries. users per second: 5774.84</pre>"
      ],
      "text/plain": [
       "recommendations finished on 80000/134379 queries. users per second: 5774.84"
      ]
     },
     "metadata": {},
     "output_type": "display_data"
    },
    {
     "data": {
      "text/html": [
       "<pre>recommendations finished on 81000/134379 queries. users per second: 5765.06</pre>"
      ],
      "text/plain": [
       "recommendations finished on 81000/134379 queries. users per second: 5765.06"
      ]
     },
     "metadata": {},
     "output_type": "display_data"
    },
    {
     "data": {
      "text/html": [
       "<pre>recommendations finished on 82000/134379 queries. users per second: 5755.56</pre>"
      ],
      "text/plain": [
       "recommendations finished on 82000/134379 queries. users per second: 5755.56"
      ]
     },
     "metadata": {},
     "output_type": "display_data"
    },
    {
     "data": {
      "text/html": [
       "<pre>recommendations finished on 83000/134379 queries. users per second: 5746.27</pre>"
      ],
      "text/plain": [
       "recommendations finished on 83000/134379 queries. users per second: 5746.27"
      ]
     },
     "metadata": {},
     "output_type": "display_data"
    },
    {
     "data": {
      "text/html": [
       "<pre>recommendations finished on 84000/134379 queries. users per second: 5771.31</pre>"
      ],
      "text/plain": [
       "recommendations finished on 84000/134379 queries. users per second: 5771.31"
      ]
     },
     "metadata": {},
     "output_type": "display_data"
    },
    {
     "data": {
      "text/html": [
       "<pre>recommendations finished on 85000/134379 queries. users per second: 5762.39</pre>"
      ],
      "text/plain": [
       "recommendations finished on 85000/134379 queries. users per second: 5762.39"
      ]
     },
     "metadata": {},
     "output_type": "display_data"
    },
    {
     "data": {
      "text/html": [
       "<pre>recommendations finished on 86000/134379 queries. users per second: 5753.79</pre>"
      ],
      "text/plain": [
       "recommendations finished on 86000/134379 queries. users per second: 5753.79"
      ]
     },
     "metadata": {},
     "output_type": "display_data"
    },
    {
     "data": {
      "text/html": [
       "<pre>recommendations finished on 87000/134379 queries. users per second: 5745.26</pre>"
      ],
      "text/plain": [
       "recommendations finished on 87000/134379 queries. users per second: 5745.26"
      ]
     },
     "metadata": {},
     "output_type": "display_data"
    },
    {
     "data": {
      "text/html": [
       "<pre>recommendations finished on 88000/134379 queries. users per second: 5769.61</pre>"
      ],
      "text/plain": [
       "recommendations finished on 88000/134379 queries. users per second: 5769.61"
      ]
     },
     "metadata": {},
     "output_type": "display_data"
    },
    {
     "data": {
      "text/html": [
       "<pre>recommendations finished on 89000/134379 queries. users per second: 5761.05</pre>"
      ],
      "text/plain": [
       "recommendations finished on 89000/134379 queries. users per second: 5761.05"
      ]
     },
     "metadata": {},
     "output_type": "display_data"
    },
    {
     "data": {
      "text/html": [
       "<pre>recommendations finished on 90000/134379 queries. users per second: 5752.6</pre>"
      ],
      "text/plain": [
       "recommendations finished on 90000/134379 queries. users per second: 5752.6"
      ]
     },
     "metadata": {},
     "output_type": "display_data"
    },
    {
     "data": {
      "text/html": [
       "<pre>recommendations finished on 91000/134379 queries. users per second: 5744.22</pre>"
      ],
      "text/plain": [
       "recommendations finished on 91000/134379 queries. users per second: 5744.22"
      ]
     },
     "metadata": {},
     "output_type": "display_data"
    },
    {
     "data": {
      "text/html": [
       "<pre>recommendations finished on 92000/134379 queries. users per second: 5767.5</pre>"
      ],
      "text/plain": [
       "recommendations finished on 92000/134379 queries. users per second: 5767.5"
      ]
     },
     "metadata": {},
     "output_type": "display_data"
    },
    {
     "data": {
      "text/html": [
       "<pre>recommendations finished on 93000/134379 queries. users per second: 5759.25</pre>"
      ],
      "text/plain": [
       "recommendations finished on 93000/134379 queries. users per second: 5759.25"
      ]
     },
     "metadata": {},
     "output_type": "display_data"
    },
    {
     "data": {
      "text/html": [
       "<pre>recommendations finished on 94000/134379 queries. users per second: 5751.13</pre>"
      ],
      "text/plain": [
       "recommendations finished on 94000/134379 queries. users per second: 5751.13"
      ]
     },
     "metadata": {},
     "output_type": "display_data"
    },
    {
     "data": {
      "text/html": [
       "<pre>recommendations finished on 95000/134379 queries. users per second: 5773.82</pre>"
      ],
      "text/plain": [
       "recommendations finished on 95000/134379 queries. users per second: 5773.82"
      ]
     },
     "metadata": {},
     "output_type": "display_data"
    },
    {
     "data": {
      "text/html": [
       "<pre>recommendations finished on 96000/134379 queries. users per second: 5765.89</pre>"
      ],
      "text/plain": [
       "recommendations finished on 96000/134379 queries. users per second: 5765.89"
      ]
     },
     "metadata": {},
     "output_type": "display_data"
    },
    {
     "data": {
      "text/html": [
       "<pre>recommendations finished on 97000/134379 queries. users per second: 5758.04</pre>"
      ],
      "text/plain": [
       "recommendations finished on 97000/134379 queries. users per second: 5758.04"
      ]
     },
     "metadata": {},
     "output_type": "display_data"
    },
    {
     "data": {
      "text/html": [
       "<pre>recommendations finished on 98000/134379 queries. users per second: 5750.41</pre>"
      ],
      "text/plain": [
       "recommendations finished on 98000/134379 queries. users per second: 5750.41"
      ]
     },
     "metadata": {},
     "output_type": "display_data"
    },
    {
     "data": {
      "text/html": [
       "<pre>recommendations finished on 99000/134379 queries. users per second: 5771.95</pre>"
      ],
      "text/plain": [
       "recommendations finished on 99000/134379 queries. users per second: 5771.95"
      ]
     },
     "metadata": {},
     "output_type": "display_data"
    },
    {
     "data": {
      "text/html": [
       "<pre>recommendations finished on 100000/134379 queries. users per second: 5764.48</pre>"
      ],
      "text/plain": [
       "recommendations finished on 100000/134379 queries. users per second: 5764.48"
      ]
     },
     "metadata": {},
     "output_type": "display_data"
    },
    {
     "data": {
      "text/html": [
       "<pre>recommendations finished on 101000/134379 queries. users per second: 5757.5</pre>"
      ],
      "text/plain": [
       "recommendations finished on 101000/134379 queries. users per second: 5757.5"
      ]
     },
     "metadata": {},
     "output_type": "display_data"
    },
    {
     "data": {
      "text/html": [
       "<pre>recommendations finished on 102000/134379 queries. users per second: 5778.56</pre>"
      ],
      "text/plain": [
       "recommendations finished on 102000/134379 queries. users per second: 5778.56"
      ]
     },
     "metadata": {},
     "output_type": "display_data"
    },
    {
     "data": {
      "text/html": [
       "<pre>recommendations finished on 103000/134379 queries. users per second: 5771.53</pre>"
      ],
      "text/plain": [
       "recommendations finished on 103000/134379 queries. users per second: 5771.53"
      ]
     },
     "metadata": {},
     "output_type": "display_data"
    },
    {
     "data": {
      "text/html": [
       "<pre>recommendations finished on 104000/134379 queries. users per second: 5792.32</pre>"
      ],
      "text/plain": [
       "recommendations finished on 104000/134379 queries. users per second: 5792.32"
      ]
     },
     "metadata": {},
     "output_type": "display_data"
    },
    {
     "data": {
      "text/html": [
       "<pre>recommendations finished on 105000/134379 queries. users per second: 5785.02</pre>"
      ],
      "text/plain": [
       "recommendations finished on 105000/134379 queries. users per second: 5785.02"
      ]
     },
     "metadata": {},
     "output_type": "display_data"
    },
    {
     "data": {
      "text/html": [
       "<pre>recommendations finished on 106000/134379 queries. users per second: 5777.74</pre>"
      ],
      "text/plain": [
       "recommendations finished on 106000/134379 queries. users per second: 5777.74"
      ]
     },
     "metadata": {},
     "output_type": "display_data"
    },
    {
     "data": {
      "text/html": [
       "<pre>recommendations finished on 107000/134379 queries. users per second: 5770.74</pre>"
      ],
      "text/plain": [
       "recommendations finished on 107000/134379 queries. users per second: 5770.74"
      ]
     },
     "metadata": {},
     "output_type": "display_data"
    },
    {
     "data": {
      "text/html": [
       "<pre>recommendations finished on 108000/134379 queries. users per second: 5790.67</pre>"
      ],
      "text/plain": [
       "recommendations finished on 108000/134379 queries. users per second: 5790.67"
      ]
     },
     "metadata": {},
     "output_type": "display_data"
    },
    {
     "data": {
      "text/html": [
       "<pre>recommendations finished on 109000/134379 queries. users per second: 5783.38</pre>"
      ],
      "text/plain": [
       "recommendations finished on 109000/134379 queries. users per second: 5783.38"
      ]
     },
     "metadata": {},
     "output_type": "display_data"
    },
    {
     "data": {
      "text/html": [
       "<pre>recommendations finished on 110000/134379 queries. users per second: 5776.19</pre>"
      ],
      "text/plain": [
       "recommendations finished on 110000/134379 queries. users per second: 5776.19"
      ]
     },
     "metadata": {},
     "output_type": "display_data"
    },
    {
     "data": {
      "text/html": [
       "<pre>recommendations finished on 111000/134379 queries. users per second: 5795.34</pre>"
      ],
      "text/plain": [
       "recommendations finished on 111000/134379 queries. users per second: 5795.34"
      ]
     },
     "metadata": {},
     "output_type": "display_data"
    },
    {
     "data": {
      "text/html": [
       "<pre>recommendations finished on 112000/134379 queries. users per second: 5788.4</pre>"
      ],
      "text/plain": [
       "recommendations finished on 112000/134379 queries. users per second: 5788.4"
      ]
     },
     "metadata": {},
     "output_type": "display_data"
    },
    {
     "data": {
      "text/html": [
       "<pre>recommendations finished on 113000/134379 queries. users per second: 5781.56</pre>"
      ],
      "text/plain": [
       "recommendations finished on 113000/134379 queries. users per second: 5781.56"
      ]
     },
     "metadata": {},
     "output_type": "display_data"
    },
    {
     "data": {
      "text/html": [
       "<pre>recommendations finished on 114000/134379 queries. users per second: 5800.25</pre>"
      ],
      "text/plain": [
       "recommendations finished on 114000/134379 queries. users per second: 5800.25"
      ]
     },
     "metadata": {},
     "output_type": "display_data"
    },
    {
     "data": {
      "text/html": [
       "<pre>recommendations finished on 115000/134379 queries. users per second: 5793.67</pre>"
      ],
      "text/plain": [
       "recommendations finished on 115000/134379 queries. users per second: 5793.67"
      ]
     },
     "metadata": {},
     "output_type": "display_data"
    },
    {
     "data": {
      "text/html": [
       "<pre>recommendations finished on 116000/134379 queries. users per second: 5786.92</pre>"
      ],
      "text/plain": [
       "recommendations finished on 116000/134379 queries. users per second: 5786.92"
      ]
     },
     "metadata": {},
     "output_type": "display_data"
    },
    {
     "data": {
      "text/html": [
       "<pre>recommendations finished on 117000/134379 queries. users per second: 5780.19</pre>"
      ],
      "text/plain": [
       "recommendations finished on 117000/134379 queries. users per second: 5780.19"
      ]
     },
     "metadata": {},
     "output_type": "display_data"
    },
    {
     "data": {
      "text/html": [
       "<pre>recommendations finished on 118000/134379 queries. users per second: 5798.07</pre>"
      ],
      "text/plain": [
       "recommendations finished on 118000/134379 queries. users per second: 5798.07"
      ]
     },
     "metadata": {},
     "output_type": "display_data"
    },
    {
     "data": {
      "text/html": [
       "<pre>recommendations finished on 119000/134379 queries. users per second: 5791.34</pre>"
      ],
      "text/plain": [
       "recommendations finished on 119000/134379 queries. users per second: 5791.34"
      ]
     },
     "metadata": {},
     "output_type": "display_data"
    },
    {
     "data": {
      "text/html": [
       "<pre>recommendations finished on 120000/134379 queries. users per second: 5784.67</pre>"
      ],
      "text/plain": [
       "recommendations finished on 120000/134379 queries. users per second: 5784.67"
      ]
     },
     "metadata": {},
     "output_type": "display_data"
    },
    {
     "data": {
      "text/html": [
       "<pre>recommendations finished on 121000/134379 queries. users per second: 5801.89</pre>"
      ],
      "text/plain": [
       "recommendations finished on 121000/134379 queries. users per second: 5801.89"
      ]
     },
     "metadata": {},
     "output_type": "display_data"
    },
    {
     "data": {
      "text/html": [
       "<pre>recommendations finished on 122000/134379 queries. users per second: 5795.64</pre>"
      ],
      "text/plain": [
       "recommendations finished on 122000/134379 queries. users per second: 5795.64"
      ]
     },
     "metadata": {},
     "output_type": "display_data"
    },
    {
     "data": {
      "text/html": [
       "<pre>recommendations finished on 123000/134379 queries. users per second: 5789.44</pre>"
      ],
      "text/plain": [
       "recommendations finished on 123000/134379 queries. users per second: 5789.44"
      ]
     },
     "metadata": {},
     "output_type": "display_data"
    },
    {
     "data": {
      "text/html": [
       "<pre>recommendations finished on 124000/134379 queries. users per second: 5782.97</pre>"
      ],
      "text/plain": [
       "recommendations finished on 124000/134379 queries. users per second: 5782.97"
      ]
     },
     "metadata": {},
     "output_type": "display_data"
    },
    {
     "data": {
      "text/html": [
       "<pre>recommendations finished on 125000/134379 queries. users per second: 5799.93</pre>"
      ],
      "text/plain": [
       "recommendations finished on 125000/134379 queries. users per second: 5799.93"
      ]
     },
     "metadata": {},
     "output_type": "display_data"
    },
    {
     "data": {
      "text/html": [
       "<pre>recommendations finished on 126000/134379 queries. users per second: 5793.65</pre>"
      ],
      "text/plain": [
       "recommendations finished on 126000/134379 queries. users per second: 5793.65"
      ]
     },
     "metadata": {},
     "output_type": "display_data"
    },
    {
     "data": {
      "text/html": [
       "<pre>recommendations finished on 127000/134379 queries. users per second: 5787.22</pre>"
      ],
      "text/plain": [
       "recommendations finished on 127000/134379 queries. users per second: 5787.22"
      ]
     },
     "metadata": {},
     "output_type": "display_data"
    },
    {
     "data": {
      "text/html": [
       "<pre>recommendations finished on 128000/134379 queries. users per second: 5803.62</pre>"
      ],
      "text/plain": [
       "recommendations finished on 128000/134379 queries. users per second: 5803.62"
      ]
     },
     "metadata": {},
     "output_type": "display_data"
    },
    {
     "data": {
      "text/html": [
       "<pre>recommendations finished on 129000/134379 queries. users per second: 5797.73</pre>"
      ],
      "text/plain": [
       "recommendations finished on 129000/134379 queries. users per second: 5797.73"
      ]
     },
     "metadata": {},
     "output_type": "display_data"
    },
    {
     "data": {
      "text/html": [
       "<pre>recommendations finished on 130000/134379 queries. users per second: 5791.94</pre>"
      ],
      "text/plain": [
       "recommendations finished on 130000/134379 queries. users per second: 5791.94"
      ]
     },
     "metadata": {},
     "output_type": "display_data"
    },
    {
     "data": {
      "text/html": [
       "<pre>recommendations finished on 131000/134379 queries. users per second: 5808.12</pre>"
      ],
      "text/plain": [
       "recommendations finished on 131000/134379 queries. users per second: 5808.12"
      ]
     },
     "metadata": {},
     "output_type": "display_data"
    },
    {
     "data": {
      "text/html": [
       "<pre>recommendations finished on 132000/134379 queries. users per second: 5802.73</pre>"
      ],
      "text/plain": [
       "recommendations finished on 132000/134379 queries. users per second: 5802.73"
      ]
     },
     "metadata": {},
     "output_type": "display_data"
    },
    {
     "data": {
      "text/html": [
       "<pre>recommendations finished on 133000/134379 queries. users per second: 5818.03</pre>"
      ],
      "text/plain": [
       "recommendations finished on 133000/134379 queries. users per second: 5818.03"
      ]
     },
     "metadata": {},
     "output_type": "display_data"
    },
    {
     "data": {
      "text/html": [
       "<pre>recommendations finished on 134000/134379 queries. users per second: 5812.28</pre>"
      ],
      "text/plain": [
       "recommendations finished on 134000/134379 queries. users per second: 5812.28"
      ]
     },
     "metadata": {},
     "output_type": "display_data"
    },
    {
     "name": "stdout",
     "output_type": "stream",
     "text": [
      "\n",
      "Precision and recall summary statistics by cutoff\n",
      "+--------+-------------------+-------------------+\n",
      "| cutoff |   mean_precision  |    mean_recall    |\n",
      "+--------+-------------------+-------------------+\n",
      "|   1    |        0.0        |        0.0        |\n",
      "|   2    |        0.0        |        0.0        |\n",
      "|   3    |        0.0        |        0.0        |\n",
      "|   4    | 1.86040973664e-06 |  3.1006828944e-07 |\n",
      "|   5    | 1.48832778931e-06 |  3.1006828944e-07 |\n",
      "|   6    | 1.24027315776e-06 |  3.1006828944e-07 |\n",
      "|   7    | 3.18927383424e-06 | 3.72081947328e-06 |\n",
      "|   8    | 6.51143407824e-06 | 1.32417398902e-05 |\n",
      "|   9    | 5.78794140288e-06 | 1.32417398902e-05 |\n",
      "|   10   | 5.95331115725e-06 | 1.43048311683e-05 |\n",
      "+--------+-------------------+-------------------+\n",
      "[10 rows x 3 columns]\n",
      "\n",
      "PROGRESS: Evaluate model M2\n"
     ]
    },
    {
     "data": {
      "text/html": [
       "<pre>recommendations finished on 1000/134379 queries. users per second: 605.305</pre>"
      ],
      "text/plain": [
       "recommendations finished on 1000/134379 queries. users per second: 605.305"
      ]
     },
     "metadata": {},
     "output_type": "display_data"
    },
    {
     "data": {
      "text/html": [
       "<pre>recommendations finished on 2000/134379 queries. users per second: 598.459</pre>"
      ],
      "text/plain": [
       "recommendations finished on 2000/134379 queries. users per second: 598.459"
      ]
     },
     "metadata": {},
     "output_type": "display_data"
    },
    {
     "data": {
      "text/html": [
       "<pre>recommendations finished on 3000/134379 queries. users per second: 606.707</pre>"
      ],
      "text/plain": [
       "recommendations finished on 3000/134379 queries. users per second: 606.707"
      ]
     },
     "metadata": {},
     "output_type": "display_data"
    },
    {
     "data": {
      "text/html": [
       "<pre>recommendations finished on 4000/134379 queries. users per second: 629.322</pre>"
      ],
      "text/plain": [
       "recommendations finished on 4000/134379 queries. users per second: 629.322"
      ]
     },
     "metadata": {},
     "output_type": "display_data"
    },
    {
     "data": {
      "text/html": [
       "<pre>recommendations finished on 5000/134379 queries. users per second: 644.934</pre>"
      ],
      "text/plain": [
       "recommendations finished on 5000/134379 queries. users per second: 644.934"
      ]
     },
     "metadata": {},
     "output_type": "display_data"
    },
    {
     "data": {
      "text/html": [
       "<pre>recommendations finished on 6000/134379 queries. users per second: 628.657</pre>"
      ],
      "text/plain": [
       "recommendations finished on 6000/134379 queries. users per second: 628.657"
      ]
     },
     "metadata": {},
     "output_type": "display_data"
    },
    {
     "data": {
      "text/html": [
       "<pre>recommendations finished on 7000/134379 queries. users per second: 617.414</pre>"
      ],
      "text/plain": [
       "recommendations finished on 7000/134379 queries. users per second: 617.414"
      ]
     },
     "metadata": {},
     "output_type": "display_data"
    },
    {
     "data": {
      "text/html": [
       "<pre>recommendations finished on 8000/134379 queries. users per second: 613.563</pre>"
      ],
      "text/plain": [
       "recommendations finished on 8000/134379 queries. users per second: 613.563"
      ]
     },
     "metadata": {},
     "output_type": "display_data"
    },
    {
     "data": {
      "text/html": [
       "<pre>recommendations finished on 9000/134379 queries. users per second: 618.975</pre>"
      ],
      "text/plain": [
       "recommendations finished on 9000/134379 queries. users per second: 618.975"
      ]
     },
     "metadata": {},
     "output_type": "display_data"
    },
    {
     "data": {
      "text/html": [
       "<pre>recommendations finished on 10000/134379 queries. users per second: 623.119</pre>"
      ],
      "text/plain": [
       "recommendations finished on 10000/134379 queries. users per second: 623.119"
      ]
     },
     "metadata": {},
     "output_type": "display_data"
    },
    {
     "data": {
      "text/html": [
       "<pre>recommendations finished on 11000/134379 queries. users per second: 619.604</pre>"
      ],
      "text/plain": [
       "recommendations finished on 11000/134379 queries. users per second: 619.604"
      ]
     },
     "metadata": {},
     "output_type": "display_data"
    },
    {
     "data": {
      "text/html": [
       "<pre>recommendations finished on 12000/134379 queries. users per second: 610.865</pre>"
      ],
      "text/plain": [
       "recommendations finished on 12000/134379 queries. users per second: 610.865"
      ]
     },
     "metadata": {},
     "output_type": "display_data"
    },
    {
     "data": {
      "text/html": [
       "<pre>recommendations finished on 13000/134379 queries. users per second: 606.391</pre>"
      ],
      "text/plain": [
       "recommendations finished on 13000/134379 queries. users per second: 606.391"
      ]
     },
     "metadata": {},
     "output_type": "display_data"
    },
    {
     "data": {
      "text/html": [
       "<pre>recommendations finished on 14000/134379 queries. users per second: 604.778</pre>"
      ],
      "text/plain": [
       "recommendations finished on 14000/134379 queries. users per second: 604.778"
      ]
     },
     "metadata": {},
     "output_type": "display_data"
    },
    {
     "data": {
      "text/html": [
       "<pre>recommendations finished on 15000/134379 queries. users per second: 603.818</pre>"
      ],
      "text/plain": [
       "recommendations finished on 15000/134379 queries. users per second: 603.818"
      ]
     },
     "metadata": {},
     "output_type": "display_data"
    },
    {
     "data": {
      "text/html": [
       "<pre>recommendations finished on 16000/134379 queries. users per second: 607.479</pre>"
      ],
      "text/plain": [
       "recommendations finished on 16000/134379 queries. users per second: 607.479"
      ]
     },
     "metadata": {},
     "output_type": "display_data"
    },
    {
     "data": {
      "text/html": [
       "<pre>recommendations finished on 17000/134379 queries. users per second: 610.613</pre>"
      ],
      "text/plain": [
       "recommendations finished on 17000/134379 queries. users per second: 610.613"
      ]
     },
     "metadata": {},
     "output_type": "display_data"
    },
    {
     "data": {
      "text/html": [
       "<pre>recommendations finished on 18000/134379 queries. users per second: 609.378</pre>"
      ],
      "text/plain": [
       "recommendations finished on 18000/134379 queries. users per second: 609.378"
      ]
     },
     "metadata": {},
     "output_type": "display_data"
    },
    {
     "data": {
      "text/html": [
       "<pre>recommendations finished on 19000/134379 queries. users per second: 611.854</pre>"
      ],
      "text/plain": [
       "recommendations finished on 19000/134379 queries. users per second: 611.854"
      ]
     },
     "metadata": {},
     "output_type": "display_data"
    },
    {
     "data": {
      "text/html": [
       "<pre>recommendations finished on 20000/134379 queries. users per second: 607.155</pre>"
      ],
      "text/plain": [
       "recommendations finished on 20000/134379 queries. users per second: 607.155"
      ]
     },
     "metadata": {},
     "output_type": "display_data"
    },
    {
     "data": {
      "text/html": [
       "<pre>recommendations finished on 21000/134379 queries. users per second: 602.795</pre>"
      ],
      "text/plain": [
       "recommendations finished on 21000/134379 queries. users per second: 602.795"
      ]
     },
     "metadata": {},
     "output_type": "display_data"
    },
    {
     "data": {
      "text/html": [
       "<pre>recommendations finished on 22000/134379 queries. users per second: 602.083</pre>"
      ],
      "text/plain": [
       "recommendations finished on 22000/134379 queries. users per second: 602.083"
      ]
     },
     "metadata": {},
     "output_type": "display_data"
    },
    {
     "data": {
      "text/html": [
       "<pre>recommendations finished on 23000/134379 queries. users per second: 602.884</pre>"
      ],
      "text/plain": [
       "recommendations finished on 23000/134379 queries. users per second: 602.884"
      ]
     },
     "metadata": {},
     "output_type": "display_data"
    },
    {
     "data": {
      "text/html": [
       "<pre>recommendations finished on 24000/134379 queries. users per second: 600.788</pre>"
      ],
      "text/plain": [
       "recommendations finished on 24000/134379 queries. users per second: 600.788"
      ]
     },
     "metadata": {},
     "output_type": "display_data"
    },
    {
     "data": {
      "text/html": [
       "<pre>recommendations finished on 25000/134379 queries. users per second: 595.999</pre>"
      ],
      "text/plain": [
       "recommendations finished on 25000/134379 queries. users per second: 595.999"
      ]
     },
     "metadata": {},
     "output_type": "display_data"
    },
    {
     "data": {
      "text/html": [
       "<pre>recommendations finished on 26000/134379 queries. users per second: 590.403</pre>"
      ],
      "text/plain": [
       "recommendations finished on 26000/134379 queries. users per second: 590.403"
      ]
     },
     "metadata": {},
     "output_type": "display_data"
    },
    {
     "data": {
      "text/html": [
       "<pre>recommendations finished on 27000/134379 queries. users per second: 587.569</pre>"
      ],
      "text/plain": [
       "recommendations finished on 27000/134379 queries. users per second: 587.569"
      ]
     },
     "metadata": {},
     "output_type": "display_data"
    },
    {
     "data": {
      "text/html": [
       "<pre>recommendations finished on 28000/134379 queries. users per second: 586.385</pre>"
      ],
      "text/plain": [
       "recommendations finished on 28000/134379 queries. users per second: 586.385"
      ]
     },
     "metadata": {},
     "output_type": "display_data"
    },
    {
     "data": {
      "text/html": [
       "<pre>recommendations finished on 29000/134379 queries. users per second: 585.251</pre>"
      ],
      "text/plain": [
       "recommendations finished on 29000/134379 queries. users per second: 585.251"
      ]
     },
     "metadata": {},
     "output_type": "display_data"
    },
    {
     "data": {
      "text/html": [
       "<pre>recommendations finished on 30000/134379 queries. users per second: 584.341</pre>"
      ],
      "text/plain": [
       "recommendations finished on 30000/134379 queries. users per second: 584.341"
      ]
     },
     "metadata": {},
     "output_type": "display_data"
    },
    {
     "data": {
      "text/html": [
       "<pre>recommendations finished on 31000/134379 queries. users per second: 582.253</pre>"
      ],
      "text/plain": [
       "recommendations finished on 31000/134379 queries. users per second: 582.253"
      ]
     },
     "metadata": {},
     "output_type": "display_data"
    },
    {
     "data": {
      "text/html": [
       "<pre>recommendations finished on 32000/134379 queries. users per second: 581.321</pre>"
      ],
      "text/plain": [
       "recommendations finished on 32000/134379 queries. users per second: 581.321"
      ]
     },
     "metadata": {},
     "output_type": "display_data"
    },
    {
     "data": {
      "text/html": [
       "<pre>recommendations finished on 33000/134379 queries. users per second: 580.453</pre>"
      ],
      "text/plain": [
       "recommendations finished on 33000/134379 queries. users per second: 580.453"
      ]
     },
     "metadata": {},
     "output_type": "display_data"
    },
    {
     "data": {
      "text/html": [
       "<pre>recommendations finished on 34000/134379 queries. users per second: 578.739</pre>"
      ],
      "text/plain": [
       "recommendations finished on 34000/134379 queries. users per second: 578.739"
      ]
     },
     "metadata": {},
     "output_type": "display_data"
    },
    {
     "data": {
      "text/html": [
       "<pre>recommendations finished on 35000/134379 queries. users per second: 579.656</pre>"
      ],
      "text/plain": [
       "recommendations finished on 35000/134379 queries. users per second: 579.656"
      ]
     },
     "metadata": {},
     "output_type": "display_data"
    },
    {
     "data": {
      "text/html": [
       "<pre>recommendations finished on 36000/134379 queries. users per second: 580.286</pre>"
      ],
      "text/plain": [
       "recommendations finished on 36000/134379 queries. users per second: 580.286"
      ]
     },
     "metadata": {},
     "output_type": "display_data"
    },
    {
     "data": {
      "text/html": [
       "<pre>recommendations finished on 37000/134379 queries. users per second: 580.439</pre>"
      ],
      "text/plain": [
       "recommendations finished on 37000/134379 queries. users per second: 580.439"
      ]
     },
     "metadata": {},
     "output_type": "display_data"
    },
    {
     "data": {
      "text/html": [
       "<pre>recommendations finished on 38000/134379 queries. users per second: 579.763</pre>"
      ],
      "text/plain": [
       "recommendations finished on 38000/134379 queries. users per second: 579.763"
      ]
     },
     "metadata": {},
     "output_type": "display_data"
    },
    {
     "data": {
      "text/html": [
       "<pre>recommendations finished on 39000/134379 queries. users per second: 579.933</pre>"
      ],
      "text/plain": [
       "recommendations finished on 39000/134379 queries. users per second: 579.933"
      ]
     },
     "metadata": {},
     "output_type": "display_data"
    },
    {
     "data": {
      "text/html": [
       "<pre>recommendations finished on 40000/134379 queries. users per second: 578.496</pre>"
      ],
      "text/plain": [
       "recommendations finished on 40000/134379 queries. users per second: 578.496"
      ]
     },
     "metadata": {},
     "output_type": "display_data"
    },
    {
     "data": {
      "text/html": [
       "<pre>recommendations finished on 41000/134379 queries. users per second: 577.049</pre>"
      ],
      "text/plain": [
       "recommendations finished on 41000/134379 queries. users per second: 577.049"
      ]
     },
     "metadata": {},
     "output_type": "display_data"
    },
    {
     "data": {
      "text/html": [
       "<pre>recommendations finished on 42000/134379 queries. users per second: 577.318</pre>"
      ],
      "text/plain": [
       "recommendations finished on 42000/134379 queries. users per second: 577.318"
      ]
     },
     "metadata": {},
     "output_type": "display_data"
    },
    {
     "data": {
      "text/html": [
       "<pre>recommendations finished on 43000/134379 queries. users per second: 577.573</pre>"
      ],
      "text/plain": [
       "recommendations finished on 43000/134379 queries. users per second: 577.573"
      ]
     },
     "metadata": {},
     "output_type": "display_data"
    },
    {
     "data": {
      "text/html": [
       "<pre>recommendations finished on 44000/134379 queries. users per second: 575.562</pre>"
      ],
      "text/plain": [
       "recommendations finished on 44000/134379 queries. users per second: 575.562"
      ]
     },
     "metadata": {},
     "output_type": "display_data"
    },
    {
     "data": {
      "text/html": [
       "<pre>recommendations finished on 45000/134379 queries. users per second: 574.343</pre>"
      ],
      "text/plain": [
       "recommendations finished on 45000/134379 queries. users per second: 574.343"
      ]
     },
     "metadata": {},
     "output_type": "display_data"
    },
    {
     "data": {
      "text/html": [
       "<pre>recommendations finished on 46000/134379 queries. users per second: 576.048</pre>"
      ],
      "text/plain": [
       "recommendations finished on 46000/134379 queries. users per second: 576.048"
      ]
     },
     "metadata": {},
     "output_type": "display_data"
    },
    {
     "data": {
      "text/html": [
       "<pre>recommendations finished on 47000/134379 queries. users per second: 577.104</pre>"
      ],
      "text/plain": [
       "recommendations finished on 47000/134379 queries. users per second: 577.104"
      ]
     },
     "metadata": {},
     "output_type": "display_data"
    },
    {
     "data": {
      "text/html": [
       "<pre>recommendations finished on 48000/134379 queries. users per second: 579.383</pre>"
      ],
      "text/plain": [
       "recommendations finished on 48000/134379 queries. users per second: 579.383"
      ]
     },
     "metadata": {},
     "output_type": "display_data"
    },
    {
     "data": {
      "text/html": [
       "<pre>recommendations finished on 49000/134379 queries. users per second: 580.278</pre>"
      ],
      "text/plain": [
       "recommendations finished on 49000/134379 queries. users per second: 580.278"
      ]
     },
     "metadata": {},
     "output_type": "display_data"
    },
    {
     "data": {
      "text/html": [
       "<pre>recommendations finished on 50000/134379 queries. users per second: 579.726</pre>"
      ],
      "text/plain": [
       "recommendations finished on 50000/134379 queries. users per second: 579.726"
      ]
     },
     "metadata": {},
     "output_type": "display_data"
    },
    {
     "data": {
      "text/html": [
       "<pre>recommendations finished on 51000/134379 queries. users per second: 579.206</pre>"
      ],
      "text/plain": [
       "recommendations finished on 51000/134379 queries. users per second: 579.206"
      ]
     },
     "metadata": {},
     "output_type": "display_data"
    },
    {
     "data": {
      "text/html": [
       "<pre>recommendations finished on 52000/134379 queries. users per second: 578.74</pre>"
      ],
      "text/plain": [
       "recommendations finished on 52000/134379 queries. users per second: 578.74"
      ]
     },
     "metadata": {},
     "output_type": "display_data"
    },
    {
     "data": {
      "text/html": [
       "<pre>recommendations finished on 53000/134379 queries. users per second: 577.103</pre>"
      ],
      "text/plain": [
       "recommendations finished on 53000/134379 queries. users per second: 577.103"
      ]
     },
     "metadata": {},
     "output_type": "display_data"
    },
    {
     "data": {
      "text/html": [
       "<pre>recommendations finished on 54000/134379 queries. users per second: 577.248</pre>"
      ],
      "text/plain": [
       "recommendations finished on 54000/134379 queries. users per second: 577.248"
      ]
     },
     "metadata": {},
     "output_type": "display_data"
    },
    {
     "data": {
      "text/html": [
       "<pre>recommendations finished on 55000/134379 queries. users per second: 576.863</pre>"
      ],
      "text/plain": [
       "recommendations finished on 55000/134379 queries. users per second: 576.863"
      ]
     },
     "metadata": {},
     "output_type": "display_data"
    },
    {
     "data": {
      "text/html": [
       "<pre>recommendations finished on 56000/134379 queries. users per second: 577.608</pre>"
      ],
      "text/plain": [
       "recommendations finished on 56000/134379 queries. users per second: 577.608"
      ]
     },
     "metadata": {},
     "output_type": "display_data"
    },
    {
     "data": {
      "text/html": [
       "<pre>recommendations finished on 57000/134379 queries. users per second: 577.837</pre>"
      ],
      "text/plain": [
       "recommendations finished on 57000/134379 queries. users per second: 577.837"
      ]
     },
     "metadata": {},
     "output_type": "display_data"
    },
    {
     "data": {
      "text/html": [
       "<pre>recommendations finished on 58000/134379 queries. users per second: 577.413</pre>"
      ],
      "text/plain": [
       "recommendations finished on 58000/134379 queries. users per second: 577.413"
      ]
     },
     "metadata": {},
     "output_type": "display_data"
    },
    {
     "data": {
      "text/html": [
       "<pre>recommendations finished on 59000/134379 queries. users per second: 576.964</pre>"
      ],
      "text/plain": [
       "recommendations finished on 59000/134379 queries. users per second: 576.964"
      ]
     },
     "metadata": {},
     "output_type": "display_data"
    },
    {
     "data": {
      "text/html": [
       "<pre>recommendations finished on 60000/134379 queries. users per second: 576.004</pre>"
      ],
      "text/plain": [
       "recommendations finished on 60000/134379 queries. users per second: 576.004"
      ]
     },
     "metadata": {},
     "output_type": "display_data"
    },
    {
     "data": {
      "text/html": [
       "<pre>recommendations finished on 61000/134379 queries. users per second: 575.26</pre>"
      ],
      "text/plain": [
       "recommendations finished on 61000/134379 queries. users per second: 575.26"
      ]
     },
     "metadata": {},
     "output_type": "display_data"
    },
    {
     "data": {
      "text/html": [
       "<pre>recommendations finished on 62000/134379 queries. users per second: 575.471</pre>"
      ],
      "text/plain": [
       "recommendations finished on 62000/134379 queries. users per second: 575.471"
      ]
     },
     "metadata": {},
     "output_type": "display_data"
    },
    {
     "data": {
      "text/html": [
       "<pre>recommendations finished on 63000/134379 queries. users per second: 575.633</pre>"
      ],
      "text/plain": [
       "recommendations finished on 63000/134379 queries. users per second: 575.633"
      ]
     },
     "metadata": {},
     "output_type": "display_data"
    },
    {
     "data": {
      "text/html": [
       "<pre>recommendations finished on 64000/134379 queries. users per second: 575.266</pre>"
      ],
      "text/plain": [
       "recommendations finished on 64000/134379 queries. users per second: 575.266"
      ]
     },
     "metadata": {},
     "output_type": "display_data"
    },
    {
     "data": {
      "text/html": [
       "<pre>recommendations finished on 65000/134379 queries. users per second: 574.461</pre>"
      ],
      "text/plain": [
       "recommendations finished on 65000/134379 queries. users per second: 574.461"
      ]
     },
     "metadata": {},
     "output_type": "display_data"
    },
    {
     "data": {
      "text/html": [
       "<pre>recommendations finished on 66000/134379 queries. users per second: 573.649</pre>"
      ],
      "text/plain": [
       "recommendations finished on 66000/134379 queries. users per second: 573.649"
      ]
     },
     "metadata": {},
     "output_type": "display_data"
    },
    {
     "data": {
      "text/html": [
       "<pre>recommendations finished on 67000/134379 queries. users per second: 572.893</pre>"
      ],
      "text/plain": [
       "recommendations finished on 67000/134379 queries. users per second: 572.893"
      ]
     },
     "metadata": {},
     "output_type": "display_data"
    },
    {
     "data": {
      "text/html": [
       "<pre>recommendations finished on 68000/134379 queries. users per second: 572.655</pre>"
      ],
      "text/plain": [
       "recommendations finished on 68000/134379 queries. users per second: 572.655"
      ]
     },
     "metadata": {},
     "output_type": "display_data"
    },
    {
     "data": {
      "text/html": [
       "<pre>recommendations finished on 69000/134379 queries. users per second: 572.89</pre>"
      ],
      "text/plain": [
       "recommendations finished on 69000/134379 queries. users per second: 572.89"
      ]
     },
     "metadata": {},
     "output_type": "display_data"
    },
    {
     "data": {
      "text/html": [
       "<pre>recommendations finished on 70000/134379 queries. users per second: 572.617</pre>"
      ],
      "text/plain": [
       "recommendations finished on 70000/134379 queries. users per second: 572.617"
      ]
     },
     "metadata": {},
     "output_type": "display_data"
    },
    {
     "data": {
      "text/html": [
       "<pre>recommendations finished on 71000/134379 queries. users per second: 572.863</pre>"
      ],
      "text/plain": [
       "recommendations finished on 71000/134379 queries. users per second: 572.863"
      ]
     },
     "metadata": {},
     "output_type": "display_data"
    },
    {
     "data": {
      "text/html": [
       "<pre>recommendations finished on 72000/134379 queries. users per second: 573.966</pre>"
      ],
      "text/plain": [
       "recommendations finished on 72000/134379 queries. users per second: 573.966"
      ]
     },
     "metadata": {},
     "output_type": "display_data"
    },
    {
     "data": {
      "text/html": [
       "<pre>recommendations finished on 73000/134379 queries. users per second: 575.076</pre>"
      ],
      "text/plain": [
       "recommendations finished on 73000/134379 queries. users per second: 575.076"
      ]
     },
     "metadata": {},
     "output_type": "display_data"
    },
    {
     "data": {
      "text/html": [
       "<pre>recommendations finished on 74000/134379 queries. users per second: 576.127</pre>"
      ],
      "text/plain": [
       "recommendations finished on 74000/134379 queries. users per second: 576.127"
      ]
     },
     "metadata": {},
     "output_type": "display_data"
    },
    {
     "data": {
      "text/html": [
       "<pre>recommendations finished on 75000/134379 queries. users per second: 577.141</pre>"
      ],
      "text/plain": [
       "recommendations finished on 75000/134379 queries. users per second: 577.141"
      ]
     },
     "metadata": {},
     "output_type": "display_data"
    },
    {
     "data": {
      "text/html": [
       "<pre>recommendations finished on 76000/134379 queries. users per second: 578.181</pre>"
      ],
      "text/plain": [
       "recommendations finished on 76000/134379 queries. users per second: 578.181"
      ]
     },
     "metadata": {},
     "output_type": "display_data"
    },
    {
     "data": {
      "text/html": [
       "<pre>recommendations finished on 77000/134379 queries. users per second: 579.181</pre>"
      ],
      "text/plain": [
       "recommendations finished on 77000/134379 queries. users per second: 579.181"
      ]
     },
     "metadata": {},
     "output_type": "display_data"
    },
    {
     "data": {
      "text/html": [
       "<pre>recommendations finished on 78000/134379 queries. users per second: 580.154</pre>"
      ],
      "text/plain": [
       "recommendations finished on 78000/134379 queries. users per second: 580.154"
      ]
     },
     "metadata": {},
     "output_type": "display_data"
    },
    {
     "data": {
      "text/html": [
       "<pre>recommendations finished on 79000/134379 queries. users per second: 581.103</pre>"
      ],
      "text/plain": [
       "recommendations finished on 79000/134379 queries. users per second: 581.103"
      ]
     },
     "metadata": {},
     "output_type": "display_data"
    },
    {
     "data": {
      "text/html": [
       "<pre>recommendations finished on 80000/134379 queries. users per second: 581.609</pre>"
      ],
      "text/plain": [
       "recommendations finished on 80000/134379 queries. users per second: 581.609"
      ]
     },
     "metadata": {},
     "output_type": "display_data"
    },
    {
     "data": {
      "text/html": [
       "<pre>recommendations finished on 81000/134379 queries. users per second: 582.126</pre>"
      ],
      "text/plain": [
       "recommendations finished on 81000/134379 queries. users per second: 582.126"
      ]
     },
     "metadata": {},
     "output_type": "display_data"
    },
    {
     "data": {
      "text/html": [
       "<pre>recommendations finished on 82000/134379 queries. users per second: 583.002</pre>"
      ],
      "text/plain": [
       "recommendations finished on 82000/134379 queries. users per second: 583.002"
      ]
     },
     "metadata": {},
     "output_type": "display_data"
    },
    {
     "data": {
      "text/html": [
       "<pre>recommendations finished on 83000/134379 queries. users per second: 583.901</pre>"
      ],
      "text/plain": [
       "recommendations finished on 83000/134379 queries. users per second: 583.901"
      ]
     },
     "metadata": {},
     "output_type": "display_data"
    },
    {
     "data": {
      "text/html": [
       "<pre>recommendations finished on 84000/134379 queries. users per second: 584.353</pre>"
      ],
      "text/plain": [
       "recommendations finished on 84000/134379 queries. users per second: 584.353"
      ]
     },
     "metadata": {},
     "output_type": "display_data"
    },
    {
     "data": {
      "text/html": [
       "<pre>recommendations finished on 85000/134379 queries. users per second: 585.197</pre>"
      ],
      "text/plain": [
       "recommendations finished on 85000/134379 queries. users per second: 585.197"
      ]
     },
     "metadata": {},
     "output_type": "display_data"
    },
    {
     "data": {
      "text/html": [
       "<pre>recommendations finished on 86000/134379 queries. users per second: 585.674</pre>"
      ],
      "text/plain": [
       "recommendations finished on 86000/134379 queries. users per second: 585.674"
      ]
     },
     "metadata": {},
     "output_type": "display_data"
    },
    {
     "data": {
      "text/html": [
       "<pre>recommendations finished on 87000/134379 queries. users per second: 586.436</pre>"
      ],
      "text/plain": [
       "recommendations finished on 87000/134379 queries. users per second: 586.436"
      ]
     },
     "metadata": {},
     "output_type": "display_data"
    },
    {
     "data": {
      "text/html": [
       "<pre>recommendations finished on 88000/134379 queries. users per second: 586.885</pre>"
      ],
      "text/plain": [
       "recommendations finished on 88000/134379 queries. users per second: 586.885"
      ]
     },
     "metadata": {},
     "output_type": "display_data"
    },
    {
     "data": {
      "text/html": [
       "<pre>recommendations finished on 89000/134379 queries. users per second: 587.311</pre>"
      ],
      "text/plain": [
       "recommendations finished on 89000/134379 queries. users per second: 587.311"
      ]
     },
     "metadata": {},
     "output_type": "display_data"
    },
    {
     "data": {
      "text/html": [
       "<pre>recommendations finished on 90000/134379 queries. users per second: 588.061</pre>"
      ],
      "text/plain": [
       "recommendations finished on 90000/134379 queries. users per second: 588.061"
      ]
     },
     "metadata": {},
     "output_type": "display_data"
    },
    {
     "data": {
      "text/html": [
       "<pre>recommendations finished on 91000/134379 queries. users per second: 588.46</pre>"
      ],
      "text/plain": [
       "recommendations finished on 91000/134379 queries. users per second: 588.46"
      ]
     },
     "metadata": {},
     "output_type": "display_data"
    },
    {
     "data": {
      "text/html": [
       "<pre>recommendations finished on 92000/134379 queries. users per second: 589.933</pre>"
      ],
      "text/plain": [
       "recommendations finished on 92000/134379 queries. users per second: 589.933"
      ]
     },
     "metadata": {},
     "output_type": "display_data"
    },
    {
     "data": {
      "text/html": [
       "<pre>recommendations finished on 93000/134379 queries. users per second: 590.27</pre>"
      ],
      "text/plain": [
       "recommendations finished on 93000/134379 queries. users per second: 590.27"
      ]
     },
     "metadata": {},
     "output_type": "display_data"
    },
    {
     "data": {
      "text/html": [
       "<pre>recommendations finished on 94000/134379 queries. users per second: 589.932</pre>"
      ],
      "text/plain": [
       "recommendations finished on 94000/134379 queries. users per second: 589.932"
      ]
     },
     "metadata": {},
     "output_type": "display_data"
    },
    {
     "data": {
      "text/html": [
       "<pre>recommendations finished on 95000/134379 queries. users per second: 590.256</pre>"
      ],
      "text/plain": [
       "recommendations finished on 95000/134379 queries. users per second: 590.256"
      ]
     },
     "metadata": {},
     "output_type": "display_data"
    },
    {
     "data": {
      "text/html": [
       "<pre>recommendations finished on 96000/134379 queries. users per second: 590.256</pre>"
      ],
      "text/plain": [
       "recommendations finished on 96000/134379 queries. users per second: 590.256"
      ]
     },
     "metadata": {},
     "output_type": "display_data"
    },
    {
     "data": {
      "text/html": [
       "<pre>recommendations finished on 97000/134379 queries. users per second: 590.585</pre>"
      ],
      "text/plain": [
       "recommendations finished on 97000/134379 queries. users per second: 590.585"
      ]
     },
     "metadata": {},
     "output_type": "display_data"
    },
    {
     "data": {
      "text/html": [
       "<pre>recommendations finished on 98000/134379 queries. users per second: 590.921</pre>"
      ],
      "text/plain": [
       "recommendations finished on 98000/134379 queries. users per second: 590.921"
      ]
     },
     "metadata": {},
     "output_type": "display_data"
    },
    {
     "data": {
      "text/html": [
       "<pre>recommendations finished on 99000/134379 queries. users per second: 591.561</pre>"
      ],
      "text/plain": [
       "recommendations finished on 99000/134379 queries. users per second: 591.561"
      ]
     },
     "metadata": {},
     "output_type": "display_data"
    },
    {
     "data": {
      "text/html": [
       "<pre>recommendations finished on 100000/134379 queries. users per second: 591.931</pre>"
      ],
      "text/plain": [
       "recommendations finished on 100000/134379 queries. users per second: 591.931"
      ]
     },
     "metadata": {},
     "output_type": "display_data"
    },
    {
     "data": {
      "text/html": [
       "<pre>recommendations finished on 101000/134379 queries. users per second: 592.882</pre>"
      ],
      "text/plain": [
       "recommendations finished on 101000/134379 queries. users per second: 592.882"
      ]
     },
     "metadata": {},
     "output_type": "display_data"
    },
    {
     "data": {
      "text/html": [
       "<pre>recommendations finished on 102000/134379 queries. users per second: 593.234</pre>"
      ],
      "text/plain": [
       "recommendations finished on 102000/134379 queries. users per second: 593.234"
      ]
     },
     "metadata": {},
     "output_type": "display_data"
    },
    {
     "data": {
      "text/html": [
       "<pre>recommendations finished on 103000/134379 queries. users per second: 594.162</pre>"
      ],
      "text/plain": [
       "recommendations finished on 103000/134379 queries. users per second: 594.162"
      ]
     },
     "metadata": {},
     "output_type": "display_data"
    },
    {
     "data": {
      "text/html": [
       "<pre>recommendations finished on 104000/134379 queries. users per second: 594.831</pre>"
      ],
      "text/plain": [
       "recommendations finished on 104000/134379 queries. users per second: 594.831"
      ]
     },
     "metadata": {},
     "output_type": "display_data"
    },
    {
     "data": {
      "text/html": [
       "<pre>recommendations finished on 105000/134379 queries. users per second: 595.781</pre>"
      ],
      "text/plain": [
       "recommendations finished on 105000/134379 queries. users per second: 595.781"
      ]
     },
     "metadata": {},
     "output_type": "display_data"
    },
    {
     "data": {
      "text/html": [
       "<pre>recommendations finished on 106000/134379 queries. users per second: 596.664</pre>"
      ],
      "text/plain": [
       "recommendations finished on 106000/134379 queries. users per second: 596.664"
      ]
     },
     "metadata": {},
     "output_type": "display_data"
    },
    {
     "data": {
      "text/html": [
       "<pre>recommendations finished on 107000/134379 queries. users per second: 597.912</pre>"
      ],
      "text/plain": [
       "recommendations finished on 107000/134379 queries. users per second: 597.912"
      ]
     },
     "metadata": {},
     "output_type": "display_data"
    },
    {
     "data": {
      "text/html": [
       "<pre>recommendations finished on 108000/134379 queries. users per second: 598.538</pre>"
      ],
      "text/plain": [
       "recommendations finished on 108000/134379 queries. users per second: 598.538"
      ]
     },
     "metadata": {},
     "output_type": "display_data"
    },
    {
     "data": {
      "text/html": [
       "<pre>recommendations finished on 109000/134379 queries. users per second: 599.434</pre>"
      ],
      "text/plain": [
       "recommendations finished on 109000/134379 queries. users per second: 599.434"
      ]
     },
     "metadata": {},
     "output_type": "display_data"
    },
    {
     "data": {
      "text/html": [
       "<pre>recommendations finished on 110000/134379 queries. users per second: 600.618</pre>"
      ],
      "text/plain": [
       "recommendations finished on 110000/134379 queries. users per second: 600.618"
      ]
     },
     "metadata": {},
     "output_type": "display_data"
    },
    {
     "data": {
      "text/html": [
       "<pre>recommendations finished on 111000/134379 queries. users per second: 601.147</pre>"
      ],
      "text/plain": [
       "recommendations finished on 111000/134379 queries. users per second: 601.147"
      ]
     },
     "metadata": {},
     "output_type": "display_data"
    },
    {
     "data": {
      "text/html": [
       "<pre>recommendations finished on 112000/134379 queries. users per second: 601.994</pre>"
      ],
      "text/plain": [
       "recommendations finished on 112000/134379 queries. users per second: 601.994"
      ]
     },
     "metadata": {},
     "output_type": "display_data"
    },
    {
     "data": {
      "text/html": [
       "<pre>recommendations finished on 113000/134379 queries. users per second: 602.805</pre>"
      ],
      "text/plain": [
       "recommendations finished on 113000/134379 queries. users per second: 602.805"
      ]
     },
     "metadata": {},
     "output_type": "display_data"
    },
    {
     "data": {
      "text/html": [
       "<pre>recommendations finished on 114000/134379 queries. users per second: 603.938</pre>"
      ],
      "text/plain": [
       "recommendations finished on 114000/134379 queries. users per second: 603.938"
      ]
     },
     "metadata": {},
     "output_type": "display_data"
    },
    {
     "data": {
      "text/html": [
       "<pre>recommendations finished on 115000/134379 queries. users per second: 605.118</pre>"
      ],
      "text/plain": [
       "recommendations finished on 115000/134379 queries. users per second: 605.118"
      ]
     },
     "metadata": {},
     "output_type": "display_data"
    },
    {
     "data": {
      "text/html": [
       "<pre>recommendations finished on 116000/134379 queries. users per second: 606.549</pre>"
      ],
      "text/plain": [
       "recommendations finished on 116000/134379 queries. users per second: 606.549"
      ]
     },
     "metadata": {},
     "output_type": "display_data"
    },
    {
     "data": {
      "text/html": [
       "<pre>recommendations finished on 117000/134379 queries. users per second: 607.938</pre>"
      ],
      "text/plain": [
       "recommendations finished on 117000/134379 queries. users per second: 607.938"
      ]
     },
     "metadata": {},
     "output_type": "display_data"
    },
    {
     "data": {
      "text/html": [
       "<pre>recommendations finished on 118000/134379 queries. users per second: 609.941</pre>"
      ],
      "text/plain": [
       "recommendations finished on 118000/134379 queries. users per second: 609.941"
      ]
     },
     "metadata": {},
     "output_type": "display_data"
    },
    {
     "data": {
      "text/html": [
       "<pre>recommendations finished on 119000/134379 queries. users per second: 611.64</pre>"
      ],
      "text/plain": [
       "recommendations finished on 119000/134379 queries. users per second: 611.64"
      ]
     },
     "metadata": {},
     "output_type": "display_data"
    },
    {
     "data": {
      "text/html": [
       "<pre>recommendations finished on 120000/134379 queries. users per second: 613.326</pre>"
      ],
      "text/plain": [
       "recommendations finished on 120000/134379 queries. users per second: 613.326"
      ]
     },
     "metadata": {},
     "output_type": "display_data"
    },
    {
     "data": {
      "text/html": [
       "<pre>recommendations finished on 121000/134379 queries. users per second: 614.952</pre>"
      ],
      "text/plain": [
       "recommendations finished on 121000/134379 queries. users per second: 614.952"
      ]
     },
     "metadata": {},
     "output_type": "display_data"
    },
    {
     "data": {
      "text/html": [
       "<pre>recommendations finished on 122000/134379 queries. users per second: 616.643</pre>"
      ],
      "text/plain": [
       "recommendations finished on 122000/134379 queries. users per second: 616.643"
      ]
     },
     "metadata": {},
     "output_type": "display_data"
    },
    {
     "data": {
      "text/html": [
       "<pre>recommendations finished on 123000/134379 queries. users per second: 618.586</pre>"
      ],
      "text/plain": [
       "recommendations finished on 123000/134379 queries. users per second: 618.586"
      ]
     },
     "metadata": {},
     "output_type": "display_data"
    },
    {
     "data": {
      "text/html": [
       "<pre>recommendations finished on 124000/134379 queries. users per second: 620.728</pre>"
      ],
      "text/plain": [
       "recommendations finished on 124000/134379 queries. users per second: 620.728"
      ]
     },
     "metadata": {},
     "output_type": "display_data"
    },
    {
     "data": {
      "text/html": [
       "<pre>recommendations finished on 125000/134379 queries. users per second: 622.702</pre>"
      ],
      "text/plain": [
       "recommendations finished on 125000/134379 queries. users per second: 622.702"
      ]
     },
     "metadata": {},
     "output_type": "display_data"
    },
    {
     "data": {
      "text/html": [
       "<pre>recommendations finished on 126000/134379 queries. users per second: 625.159</pre>"
      ],
      "text/plain": [
       "recommendations finished on 126000/134379 queries. users per second: 625.159"
      ]
     },
     "metadata": {},
     "output_type": "display_data"
    },
    {
     "data": {
      "text/html": [
       "<pre>recommendations finished on 127000/134379 queries. users per second: 627.561</pre>"
      ],
      "text/plain": [
       "recommendations finished on 127000/134379 queries. users per second: 627.561"
      ]
     },
     "metadata": {},
     "output_type": "display_data"
    },
    {
     "data": {
      "text/html": [
       "<pre>recommendations finished on 128000/134379 queries. users per second: 629.791</pre>"
      ],
      "text/plain": [
       "recommendations finished on 128000/134379 queries. users per second: 629.791"
      ]
     },
     "metadata": {},
     "output_type": "display_data"
    },
    {
     "data": {
      "text/html": [
       "<pre>recommendations finished on 129000/134379 queries. users per second: 632.831</pre>"
      ],
      "text/plain": [
       "recommendations finished on 129000/134379 queries. users per second: 632.831"
      ]
     },
     "metadata": {},
     "output_type": "display_data"
    },
    {
     "data": {
      "text/html": [
       "<pre>recommendations finished on 130000/134379 queries. users per second: 635.58</pre>"
      ],
      "text/plain": [
       "recommendations finished on 130000/134379 queries. users per second: 635.58"
      ]
     },
     "metadata": {},
     "output_type": "display_data"
    },
    {
     "data": {
      "text/html": [
       "<pre>recommendations finished on 131000/134379 queries. users per second: 638.868</pre>"
      ],
      "text/plain": [
       "recommendations finished on 131000/134379 queries. users per second: 638.868"
      ]
     },
     "metadata": {},
     "output_type": "display_data"
    },
    {
     "data": {
      "text/html": [
       "<pre>recommendations finished on 132000/134379 queries. users per second: 642.302</pre>"
      ],
      "text/plain": [
       "recommendations finished on 132000/134379 queries. users per second: 642.302"
      ]
     },
     "metadata": {},
     "output_type": "display_data"
    },
    {
     "data": {
      "text/html": [
       "<pre>recommendations finished on 133000/134379 queries. users per second: 645.69</pre>"
      ],
      "text/plain": [
       "recommendations finished on 133000/134379 queries. users per second: 645.69"
      ]
     },
     "metadata": {},
     "output_type": "display_data"
    },
    {
     "data": {
      "text/html": [
       "<pre>recommendations finished on 134000/134379 queries. users per second: 648.14</pre>"
      ],
      "text/plain": [
       "recommendations finished on 134000/134379 queries. users per second: 648.14"
      ]
     },
     "metadata": {},
     "output_type": "display_data"
    },
    {
     "name": "stdout",
     "output_type": "stream",
     "text": [
      "\n",
      "Precision and recall summary statistics by cutoff\n",
      "+--------+-------------------+-------------------+\n",
      "| cutoff |   mean_precision  |    mean_recall    |\n",
      "+--------+-------------------+-------------------+\n",
      "|   1    | 2.23249168397e-05 | 2.35088139448e-06 |\n",
      "|   2    | 1.86040973664e-05 | 6.69183744664e-06 |\n",
      "|   3    | 2.48054631552e-05 | 1.73581866034e-05 |\n",
      "|   4    |  2.6045736313e-05 | 2.08206158355e-05 |\n",
      "|   5    | 2.97665557862e-05 | 3.24880426124e-05 |\n",
      "|   6    | 2.72860094707e-05 | 4.17900912956e-05 |\n",
      "|   7    | 6.48485679629e-05 | 0.000114924299757 |\n",
      "|   8    | 0.000597191525462 |  0.00107599000251 |\n",
      "|   9    |  0.00290637343302 |  0.00504833966387 |\n",
      "|   10   |  0.00585582568705 |  0.0112543153665  |\n",
      "+--------+-------------------+-------------------+\n",
      "[10 rows x 3 columns]\n",
      "\n",
      "Model compare metric: precision_recall\n",
      "Canvas is accessible via web browser at the URL: http://localhost:42953/index.html\n",
      "Opening Canvas in default web browser.\n"
     ]
    }
   ],
   "source": [
    "item_sim_model = graphlab.item_similarity_recommender.create(train_data, user_id='user_id', item_id='product_id', target='rating', similarity_type='pearson')\n",
    "popularity_model = graphlab.popularity_recommender.create(train_data, user_id='user_id', item_id='product_id', target='rating')\n",
    "latent_model=graphlab.factorization_recommender.create(train_data, user_id='user_id', item_id='product_id', target='rating')\n",
    "model_performance = graphlab.compare(test_data, [popularity_model, item_sim_model,latent_model])\n",
    "graphlab.show_comparison(model_performance,[popularity_model, item_sim_model,latent_model])"
   ]
  },
  {
   "cell_type": "markdown",
   "metadata": {
    "collapsed": true
   },
   "source": [
    "###  As we can see that latent model which uses unsupervised learning to shrink the users traits into latent features gives us the best result\n",
    "\n",
    "###  Below is the code that is happening in the library\n",
    "  product_crosstab=pd.pivot_table(data=normratings,values='rating',index='user_id',columns='product_id',fill_value=0)\n",
    "\n",
    "  X=product_crosstab.values.T\n",
    "  \n",
    "  import sklearn\n",
    "  \n",
    "  from sklearn.decomposition import TruncatedSVD\n",
    "\n",
    "  SVD=TruncatedSVD(n_components=20,random_state=17)\n",
    "\n",
    "  resultant_matrix=SVD.fit_transform(X)  \n",
    "  \n",
    "  resultant_matrix.shape\n",
    "  \n",
    "  import numpy as np\n",
    "  \n",
    "  corr_mat = np.corrcoef(resultant_matrix)\n",
    "   \n",
    "  product_ids=product_crosstab.columns\n",
    "  \n",
    "  productlist=list(product_ids)\n",
    "  \n",
    "  productindexlist=[]\n",
    "  \n",
    " for i in productlist:\n",
    " \n",
    "    productindexlist.append(productlist.index(i))\n",
    "    \n",
    "  allrecommendations=[]    \n",
    "  \n",
    "  for j in productindexlist:\n",
    "  \n",
    "    corr_j=corr_mat[j]\n",
    " \n",
    "    corrlist=list(product_ids[(corr_j<1.0)&(corr_j>0.98)])\n",
    "    \n",
    "    corrlist.append(j)\n",
    "  \n",
    "    allrecommendations.append(corrlist)\n",
    "  \n",
    "  print(allrecommendations)\n",
    "\n",
    "### We use the Graphlab because it was able to scale since it was able to utilize the ibm dsx spark clusters"
   ]
  },
  {
   "cell_type": "code",
   "execution_count": null,
   "metadata": {},
   "outputs": [],
   "source": []
  }
 ],
 "metadata": {
  "kernelspec": {
   "display_name": "Python 2",
   "language": "python",
   "name": "python2"
  },
  "language_info": {
   "codemirror_mode": {
    "name": "ipython",
    "version": 2
   },
   "file_extension": ".py",
   "mimetype": "text/x-python",
   "name": "python",
   "nbconvert_exporter": "python",
   "pygments_lexer": "ipython2",
   "version": "2.7.13"
  }
 },
 "nbformat": 4,
 "nbformat_minor": 1
}
