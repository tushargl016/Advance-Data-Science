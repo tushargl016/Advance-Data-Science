{
 "cells": [
  {
   "cell_type": "code",
   "execution_count": 8,
   "metadata": {},
   "outputs": [],
   "source": [
    "import pandas as pd\n",
    "import numpy as np"
   ]
  },
  {
   "cell_type": "code",
   "execution_count": 9,
   "metadata": {},
   "outputs": [
    {
     "name": "stderr",
     "output_type": "stream",
     "text": [
      "c:\\python27\\lib\\site-packages\\IPython\\core\\interactiveshell.py:2718: DtypeWarning: Columns (14,41,51,110,121,122,123,126,127,128,131,137,138,139,143) have mixed types. Specify dtype option on import or set low_memory=False.\n",
      "  interactivity=interactivity, compiler=compiler, result=result)\n"
     ]
    }
   ],
   "source": [
    "cluster_data=pd.read_csv(\"CleanedLoandata.csv\",encoding = \"ISO-8859-1\")\n",
    "feature_cluster=cluster_data[['loan_amnt','funded_amnt_inv','installment','term', 'emp_length', 'home_ownership', 'annual_inc',\n",
    "                                'verification_status', 'purpose', 'addr_state', 'dti', 'delinq_2yrs',\n",
    "                                'inq_last_6mths', 'open_acc','pub_rec','revol_bal', 'revol_util', 'total_acc',\n",
    "                                'mths_since_last_major_derog','application_type',\n",
    "                                'Risk_Score','int_rate']]\n"
   ]
  },
  {
   "cell_type": "code",
   "execution_count": 10,
   "metadata": {},
   "outputs": [],
   "source": [
    "feature_cluster=feature_cluster[feature_cluster.Risk_Score!=0]"
   ]
  },
  {
   "cell_type": "code",
   "execution_count": 11,
   "metadata": {},
   "outputs": [],
   "source": [
    "df1=feature_cluster[((feature_cluster['Risk_Score']>= 0) & (feature_cluster['Risk_Score']<=670))]\n",
    "df2=feature_cluster[(feature_cluster['Risk_Score']> 670) & (feature_cluster['Risk_Score']<=739)]\n",
    "df3=feature_cluster[((feature_cluster['Risk_Score']>= 740) & (feature_cluster['Risk_Score']<=800))]\n",
    "df4=feature_cluster[(feature_cluster['Risk_Score']> 800) & (feature_cluster['Risk_Score']<=850)]\n",
    "\n",
    "\n"
   ]
  },
  {
   "cell_type": "code",
   "execution_count": 12,
   "metadata": {},
   "outputs": [],
   "source": [
    "df1.to_csv(\"mcluster_1.csv\",index=False)\n",
    "df2.to_csv(\"mcluster_2.csv\",index=False)\n",
    "df3.to_csv(\"mcluster_3.csv\",index=False)\n",
    "df4.to_csv(\"mcluster_4.csv\",index=False)"
   ]
  },
  {
   "cell_type": "code",
   "execution_count": null,
   "metadata": {},
   "outputs": [],
   "source": []
  }
 ],
 "metadata": {
  "kernelspec": {
   "display_name": "Python 2",
   "language": "python",
   "name": "python2"
  },
  "language_info": {
   "codemirror_mode": {
    "name": "ipython",
    "version": 2
   },
   "file_extension": ".py",
   "mimetype": "text/x-python",
   "name": "python",
   "nbconvert_exporter": "python",
   "pygments_lexer": "ipython2",
   "version": "2.7.13"
  }
 },
 "nbformat": 4,
 "nbformat_minor": 2
}
