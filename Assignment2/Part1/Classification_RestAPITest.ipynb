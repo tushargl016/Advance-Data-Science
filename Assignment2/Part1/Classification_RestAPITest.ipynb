{
 "cells": [
  {
   "cell_type": "code",
   "execution_count": 17,
   "metadata": {},
   "outputs": [
    {
     "name": "stdout",
     "output_type": "stream",
     "text": [
      "b'{\"Results\":{\"output1\":[{\"amount_requested\":\"5000\",\"Risk_Score\":\"700\",\"dti\":\"25\",\"State\":\"4\",\"emp_length\":\"10\",\"policy_code\":\"1\",\"app_month\":\"12\",\"Scored Labels\":\"1\",\"Scored Probabilities\":\"1\"}]}}'\n",
      "1\n"
     ]
    }
   ],
   "source": [
    "import urllib.request\n",
    "import json\n",
    "\n",
    "data = {\n",
    "        \"Inputs\": {\n",
    "                \"input1\":\n",
    "                [\n",
    "                    {\n",
    "                            'amount_requested': \"5000\",   \n",
    "                            'Risk_Score': \"700\",   \n",
    "                            'dti': \"25\",   \n",
    "                            'State': \"4\",   \n",
    "                            'emp_length': \"10\",   \n",
    "                            'policy_code': \"1\",   \n",
    "                            'app_month': \"12\",   \n",
    "                    }\n",
    "                ],\n",
    "        },\n",
    "    \"GlobalParameters\":  {\n",
    "    }\n",
    "}\n",
    "\n",
    "body = str.encode(json.dumps(data))\n",
    "\n",
    "url = 'https://ussouthcentral.services.azureml.net/workspaces/5c4cc8b5ea9c4e5180e934e5a832594b/services/e73914884a7b483a8eeedb7712d4d535/execute?api-version=2.0&format=swagger'\n",
    "api_key = 'WLXRAsMmOZ8Citvz3jFEzszo6Q3bLxPrF/O5ZB6k2EfW27s1kGXgJZDkT7HjwNP6np/84R6PCU7hqBNE+wRkAA==' # Replace this with the API key for the web service\n",
    "headers = {'Content-Type':'application/json', 'Authorization':('Bearer '+ api_key)}\n",
    "\n",
    "req = urllib.request.Request(url, body, headers)\n",
    "\n",
    "try:\n",
    "    response = urllib.request.urlopen(req)\n",
    "\n",
    "    result = response.read()\n",
    "    print(result)\n",
    "except urllib.error.HTTPError as error:\n",
    "    print(\"The request failed with status code: \" + str(error.code))\n",
    "\n",
    "    # Print the headers - they include the requert ID and the timestamp, which are useful for debugging the failure\n",
    "    print(error.info())\n",
    "    print(json.loads(error.read().decode(\"utf8\", 'ignore')))\n",
    "import urllib.request\n",
    "import json\n",
    "\n",
    "data = {\n",
    "        \"Inputs\": {\n",
    "                \"input1\":\n",
    "                [\n",
    "                    {\n",
    "                            'amount_requested': \"6000\",   \n",
    "                            'Risk_Score': \"770\",   \n",
    "                            'dti': \"24\",   \n",
    "                            'State': \"4\",   \n",
    "                            'emp_length': \"10\",   \n",
    "                            'policy_code': \"1\",   \n",
    "                            'app_month': \"12\",   \n",
    "                    }\n",
    "                ],\n",
    "        },\n",
    "    \"GlobalParameters\":  {\n",
    "    }\n",
    "}\n",
    "\n",
    "body = str.encode(json.dumps(data))\n",
    "\n",
    "url = 'https://ussouthcentral.services.azureml.net/workspaces/5c4cc8b5ea9c4e5180e934e5a832594b/services/e73914884a7b483a8eeedb7712d4d535/execute?api-version=2.0&format=swagger'\n",
    "api_key = 'WLXRAsMmOZ8Citvz3jFEzszo6Q3bLxPrF/O5ZB6k2EfW27s1kGXgJZDkT7HjwNP6np/84R6PCU7hqBNE+wRkAA==' # Replace this with the API key for the web service\n",
    "headers = {'Content-Type':'application/json', 'Authorization':('Bearer '+ api_key)}\n",
    "\n",
    "req = urllib.request.Request(url, body, headers)\n",
    "\n",
    "try:\n",
    "    response = urllib.request.urlopen(req)\n",
    "\n",
    "    result = response.read()\n",
    "    r=str(result)\n",
    "    ind=r.rfind(\"Scored Probabilities\")\n",
    "    indfin=ind+23\n",
    "    print(r[indfin:indfin+1])\n",
    "    \n",
    "except urllib.error.HTTPError as error:\n",
    "    print(\"The request failed with status code: \" + str(error.code))\n",
    "\n",
    "    # Print the headers - they include the requert ID and the timestamp, which are useful for debugging the failure\n",
    "    print(error.info())\n",
    "    print(json.loads(error.read().decode(\"utf8\", 'ignore')))\n"
   ]
  },
  {
   "cell_type": "code",
   "execution_count": null,
   "metadata": {
    "collapsed": true
   },
   "outputs": [],
   "source": []
  }
 ],
 "metadata": {
  "kernelspec": {
   "display_name": "Python 3",
   "language": "python",
   "name": "python3"
  },
  "language_info": {
   "codemirror_mode": {
    "name": "ipython",
    "version": 3
   },
   "file_extension": ".py",
   "mimetype": "text/x-python",
   "name": "python",
   "nbconvert_exporter": "python",
   "pygments_lexer": "ipython3",
   "version": "3.6.1"
  }
 },
 "nbformat": 4,
 "nbformat_minor": 2
}
