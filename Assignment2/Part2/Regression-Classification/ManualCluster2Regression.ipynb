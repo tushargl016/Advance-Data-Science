{
 "cells": [
  {
   "cell_type": "code",
   "execution_count": 8,
   "metadata": {},
   "outputs": [],
   "source": [
    "import pandas as pd\n",
    "import random\n",
    "import numpy as np\n",
    "import matplotlib.pyplot as plt\n",
    "import seaborn as sns\n",
    "from sklearn.metrics import mean_squared_error\n",
    "from sklearn.metrics import mean_absolute_error\n",
    "from sklearn import linear_model\n",
    "from sklearn.neighbors import KNeighborsRegressor\n",
    "from sklearn.cross_validation import train_test_split  \n",
    "from sklearn.utils import check_array\n",
    "\n",
    "\n",
    "def mean_absolute_percentage_error(y_test,x_predict):\n",
    "    np.seterr(divide='ignore',invalid='ignore')\n",
    "    y_test,x_predict=np.array(y_test),np.array(x_predict) \n",
    "    return np.mean(np.abs((y_test - x_predict)/y_test))*100\n"
   ]
  },
  {
   "cell_type": "code",
   "execution_count": 9,
   "metadata": {},
   "outputs": [],
   "source": [
    "loandata=pd.read_csv('mcluster_2.csv',encoding=\"ISO-8859-1\")\n",
    "\n"
   ]
  },
  {
   "cell_type": "code",
   "execution_count": 10,
   "metadata": {},
   "outputs": [],
   "source": [
    "loandata=loandata[loandata.int_rate!=0]"
   ]
  },
  {
   "cell_type": "code",
   "execution_count": 11,
   "metadata": {},
   "outputs": [],
   "source": [
    "loandataforprediction=loandata[['loan_amnt','int_rate','term','emp_length','home_ownership','annual_inc','verification_status','purpose','addr_state','dti','delinq_2yrs','Risk_Score','inq_last_6mths','open_acc','revol_bal','revol_util','total_acc','mths_since_last_major_derog','funded_amnt_inv','installment','application_type','pub_rec','addr_state']]\n",
    "\n",
    "loandataforprediction=pd.get_dummies(loandataforprediction, columns=[\"purpose\"])\n",
    "loandataforprediction=pd.get_dummies(loandataforprediction,columns=[\"application_type\"])\n",
    "train,test = train_test_split(loandataforprediction, train_size = 0.7)\n",
    "y_train = train['int_rate']\n",
    "y_test = test['int_rate']\n",
    "x_train = train.loc[:, train.columns != 'int_rate']\n",
    "x_test = test.loc[:, test.columns != 'int_rate']"
   ]
  },
  {
   "cell_type": "code",
   "execution_count": 4,
   "metadata": {},
   "outputs": [
    {
     "name": "stdout",
     "output_type": "stream",
     "text": [
      "Testing mean absolute error : 2.194460\n",
      "Training mean absolute error: 2.196197\n",
      "RMSE Value for Testing\n",
      "2.83176635748\n",
      "RMSE Value for Training\n",
      "2.83262850067\n",
      "MAPE Value for Testing\n",
      "17.9386437705\n",
      "MAPE Value for Training\n",
      "17.9399074524\n"
     ]
    }
   ],
   "source": [
    "#Multple Linear Regression Case 1:\n",
    "reg=linear_model.LinearRegression()\n",
    "reg.fit(x_train,y_train)\n",
    "predicted_train=reg.predict(x_train)\n",
    "predicted_test=reg.predict(x_test)\n",
    "print(\"Testing mean absolute error : %f\" %mean_absolute_error(y_test,predicted_test))\n",
    "print(\"Training mean absolute error: %f\" %mean_absolute_error(y_train,predicted_train))\n",
    "rmse=np.sqrt(mean_squared_error(y_test,predicted_test))\n",
    "print(\"RMSE Value for Testing\")\n",
    "print(rmse)\n",
    "rmse=np.sqrt(mean_squared_error(y_train,predicted_train))\n",
    "print(\"RMSE Value for Training\")\n",
    "print(rmse)\n",
    "print(\"MAPE Value for Testing\")\n",
    "print(mean_absolute_percentage_error(y_test, predicted_test))\n",
    "print(\"MAPE Value for Training\")\n",
    "print(mean_absolute_percentage_error(y_train, predicted_train))\n"
   ]
  },
  {
   "cell_type": "code",
   "execution_count": 5,
   "metadata": {},
   "outputs": [
    {
     "name": "stdout",
     "output_type": "stream",
     "text": [
      "Testing mean absolute error : 3.519050\n",
      "Training mean absolute error: 2.864207\n",
      "RMSE Value for Testing\n",
      "4.5559017301\n",
      "RMSE Value for Training\n",
      "3.71106634664\n",
      "MAPE Value for Testing\n",
      "29.4744230116\n",
      "MAPE Value for Training\n",
      "23.9098962529\n"
     ]
    }
   ],
   "source": [
    "  \n",
    "#KNN Regressor\n",
    "\n",
    "\n",
    "# Create the knn model.\n",
    "# Look at the five closest neighbors.\n",
    "knn = KNeighborsRegressor(n_neighbors=5)\n",
    "# Fit the model on the training data.\n",
    "knn.fit(x_train, y_train)\n",
    "# Make point predictions on the test set using the fit model.\n",
    "predicted_train = knn.predict(x_train)\n",
    "predicted_test = knn.predict(x_test)\n",
    "print(\"Testing mean absolute error : %f\" %mean_absolute_error(y_test,predicted_test))\n",
    "print(\"Training mean absolute error: %f\" %mean_absolute_error(y_train,predicted_train))\n",
    "rmse=np.sqrt(mean_squared_error(y_test,predicted_test))\n",
    "print(\"RMSE Value for Testing\")\n",
    "print(rmse)\n",
    "rmse=np.sqrt(mean_squared_error(y_train,predicted_train))\n",
    "print(\"RMSE Value for Training\")\n",
    "print(rmse)\n",
    "print(\"MAPE Value for Testing\")\n",
    "print(mean_absolute_percentage_error(y_test, predicted_test))\n",
    "print(\"MAPE Value for Training\")\n",
    "print(mean_absolute_percentage_error(y_train, predicted_train))\n"
   ]
  },
  {
   "cell_type": "code",
   "execution_count": 6,
   "metadata": {},
   "outputs": [
    {
     "name": "stdout",
     "output_type": "stream",
     "text": [
      "Tuning Combination\n",
      "(100, ' ', 1, ' ', 'auto', '')\n",
      "Testing mean absolute error : 0.688988\n",
      "Training mean absolute error: 0.260116\n",
      "RMSE Value for testing\n",
      "1.36770071229\n",
      "RMSE Value for training\n",
      "0.517027539866\n",
      "MAPE Value for Testing\n",
      "6.26573595422\n",
      "MAPE Value for Training\n",
      "2.35913599349\n",
      "Tuning Combination\n",
      "(100, ' ', 2, ' ', 'auto', '')\n",
      "Testing mean absolute error : 0.687412\n",
      "Training mean absolute error: 0.298812\n",
      "RMSE Value for testing\n",
      "1.3671844708\n",
      "RMSE Value for training\n",
      "0.627389933576\n",
      "MAPE Value for Testing\n",
      "6.24241462861\n",
      "MAPE Value for Training\n",
      "2.70270240594\n"
     ]
    }
   ],
   "source": [
    "\n",
    "#RandomForest Regressor\n",
    "from sklearn.ensemble import RandomForestRegressor\n",
    "\n",
    "max_features=['auto']\n",
    "n_estimators=[100]\n",
    "min_samples_leaf=[1,2]\n",
    "for x in n_estimators:\n",
    "    for y in min_samples_leaf:\n",
    "        for z in max_features:\n",
    "            model=RandomForestRegressor(n_estimators=x,max_features=z,oob_score=True,n_jobs=-1,random_state=50,min_samples_leaf=y)\n",
    "            model.fit(x_train,y_train)\n",
    "            predicted_train=model.predict(x_train)\n",
    "            predicted_test=model.predict(x_test)\n",
    "            print(\"Tuning Combination\") \n",
    "            print(x,\" \",y ,\" \", z,\"\")\n",
    "            print(\"Testing mean absolute error : %f\" % mean_absolute_error(y_test,predicted_test))\n",
    "            print(\"Training mean absolute error: %f\" %mean_absolute_error(y_train,predicted_train))\n",
    "            rmse=np.sqrt(mean_squared_error(y_test,predicted_test))\n",
    "            print(\"RMSE Value for testing\")\n",
    "            print(rmse)\n",
    "            rmse=np.sqrt(mean_squared_error(y_train,predicted_train))\n",
    "            print(\"RMSE Value for training\")\n",
    "            print(rmse)\n",
    "            print(\"MAPE Value for Testing\")\n",
    "            print(mean_absolute_percentage_error(y_test, predicted_test))\n",
    "            print(\"MAPE Value for Training\")\n",
    "            print(mean_absolute_percentage_error(y_train, predicted_train))\n"
   ]
  },
  {
   "cell_type": "code",
   "execution_count": 12,
   "metadata": {},
   "outputs": [
    {
     "name": "stdout",
     "output_type": "stream",
     "text": [
      "Testing mean absolute error : 54.506215\n",
      "training mean absolute error: 53.454460\n",
      "RMSE Value For Testing\n",
      "876.097119557\n",
      "RMSE Value For Training\n",
      "389.551161747\n",
      "MAPE Value for Testing\n",
      "478.768848942\n",
      "MAPE Value for Training\n",
      "465.937178805\n"
     ]
    }
   ],
   "source": [
    "\n",
    "#Neural Network Case 1:\n",
    "#List of Alpha Values\n",
    "from sklearn.neural_network import MLPRegressor\n",
    "hidden_layers=[]\n",
    "alpha=[10]\n",
    "\n",
    "\n",
    "for a in alpha:  \n",
    "    nn = MLPRegressor(hidden_layer_sizes=(100,),  activation='relu', solver='adam', alpha=a,batch_size='auto',learning_rate='constant',\n",
    "    learning_rate_init=0.001, max_iter=1000, shuffle=True,random_state=50, tol=0.0001, verbose=False, warm_start=False,\n",
    "    early_stopping=False, validation_fraction=0.1, beta_1=0.9, beta_2=0.999, epsilon=1e-08)\n",
    "    n = nn.fit(x_train,y_train)\n",
    "    predicted_trainnn=n.predict(x_train)\n",
    "    predicted_testnn=n.predict(x_test)\n",
    "    print(\"Testing mean absolute error : %f\" % mean_absolute_error(y_test,predicted_testnn))\n",
    "    print(\"training mean absolute error: %f\"% mean_absolute_error(y_train,predicted_trainnn))\n",
    "    rmse=np.sqrt(mean_squared_error(y_test,predicted_testnn))\n",
    "    print(\"RMSE Value For Testing\")\n",
    "    print(rmse)\n",
    "    rmse=np.sqrt(mean_squared_error(y_train,predicted_trainnn))\n",
    "    print(\"RMSE Value For Training\")\n",
    "    print(rmse)\n",
    "    print(\"MAPE Value for Testing\")\n",
    "    print(mean_absolute_percentage_error(y_test, predicted_testnn))\n",
    "    print(\"MAPE Value for Training\")\n",
    "    print(mean_absolute_percentage_error(y_train, predicted_trainnn))"
   ]
  },
  {
   "cell_type": "code",
   "execution_count": null,
   "metadata": {},
   "outputs": [],
   "source": []
  }
 ],
 "metadata": {
  "kernelspec": {
   "display_name": "Python 2",
   "language": "python",
   "name": "python2"
  },
  "language_info": {
   "codemirror_mode": {
    "name": "ipython",
    "version": 2
   },
   "file_extension": ".py",
   "mimetype": "text/x-python",
   "name": "python",
   "nbconvert_exporter": "python",
   "pygments_lexer": "ipython2",
   "version": "2.7.13"
  }
 },
 "nbformat": 4,
 "nbformat_minor": 2
}
