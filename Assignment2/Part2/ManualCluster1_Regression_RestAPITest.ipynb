{
 "cells": [
  {
   "cell_type": "code",
   "execution_count": 9,
   "metadata": {},
   "outputs": [
    {
     "name": "stdout",
     "output_type": "stream",
     "text": [
      "24.77\n"
     ]
    }
   ],
   "source": [
    "import urllib.request\n",
    "import json\n",
    "\n",
    "data = {\n",
    "        \"Inputs\": {\n",
    "                \"input1\":\n",
    "                [\n",
    "                    {\n",
    "                            'loan_amnt': \"5000\",   \n",
    "                            'funded_amnt_inv': \"4800\",   \n",
    "                            'installment': \"360\",   \n",
    "                            'term': \"36\",   \n",
    "                            'emp_length': \"10\",   \n",
    "                            'home_ownership': \"1\",   \n",
    "                            'annual_inc': \"10000\",   \n",
    "                            'verification_status': \"1\",   \n",
    "                            'purpose': \"car\",   \n",
    "                            'addr_state': \"4\",   \n",
    "                            'dti': \"1\",   \n",
    "                            'delinq_2yrs': \"3\",   \n",
    "                            'inq_last_6mths': \"20\",   \n",
    "                            'open_acc': \"2\",   \n",
    "                            'pub_rec': \"26\",   \n",
    "                            'revol_bal': \"200\",   \n",
    "                            'revol_util': \"10\",   \n",
    "                            'total_acc': \"10\",   \n",
    "                            'mths_since_last_major_derog': \"20\",   \n",
    "                            'application_type': \"Individual\",   \n",
    "                            'Risk_Score': \"700\",   \n",
    "                            'cluster': \"1\",   \n",
    "                    }\n",
    "                ],\n",
    "        },\n",
    "    \"GlobalParameters\":  {\n",
    "    }\n",
    "}\n",
    "\n",
    "body = str.encode(json.dumps(data))\n",
    "\n",
    "url = 'https://ussouthcentral.services.azureml.net/workspaces/5c4cc8b5ea9c4e5180e934e5a832594b/services/d08ae4e3c958449291147c70d04018d7/execute?api-version=2.0&format=swagger'\n",
    "api_key = 'vTgvxLN51SLss8mNVR9GuaST6QbftiGT0LO6kSujbvG63N9qshwVPPTCq9uR8NWBWze99kemBZ2ZNO7KgVa3UA==' # Replace this with the API key for the web service\n",
    "headers = {'Content-Type':'application/json', 'Authorization':('Bearer '+ api_key)}\n",
    "\n",
    "req = urllib.request.Request(url, body, headers)\n",
    "\n",
    "try:\n",
    "    response = urllib.request.urlopen(req)\n",
    "\n",
    "    result = response.read()\n",
    "    r=str(result)\n",
    "    ind=r.rfind(\"Mean\")\n",
    "    indfin=ind+7\n",
    "    print(r[indfin:indfin+5])\n",
    "except urllib.error.HTTPError as error:\n",
    "    print(\"The request failed with status code: \" + str(error.code))\n",
    "\n",
    "    # Print the headers - they include the requert ID and the timestamp, which are useful for debugging the failure\n",
    "    print(error.info())\n",
    "    print(json.loads(error.read().decode(\"utf8\", 'ignore')))"
   ]
  },
  {
   "cell_type": "code",
   "execution_count": null,
   "metadata": {
    "collapsed": true
   },
   "outputs": [],
   "source": []
  }
 ],
 "metadata": {
  "kernelspec": {
   "display_name": "Python 3",
   "language": "python",
   "name": "python3"
  },
  "language_info": {
   "codemirror_mode": {
    "name": "ipython",
    "version": 3
   },
   "file_extension": ".py",
   "mimetype": "text/x-python",
   "name": "python",
   "nbconvert_exporter": "python",
   "pygments_lexer": "ipython3",
   "version": "3.6.1"
  }
 },
 "nbformat": 4,
 "nbformat_minor": 2
}
