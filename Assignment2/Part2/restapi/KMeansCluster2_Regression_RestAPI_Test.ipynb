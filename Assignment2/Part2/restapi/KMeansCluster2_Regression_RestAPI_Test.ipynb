{
 "cells": [
  {
   "cell_type": "code",
   "execution_count": 5,
   "metadata": {},
   "outputs": [
    {
     "name": "stdout",
     "output_type": "stream",
     "text": [
      "5.745\n"
     ]
    }
   ],
   "source": [
    "import urllib.request\n",
    "import json\n",
    "\n",
    "data = {\n",
    "        \"Inputs\": {\n",
    "                \"input1\":\n",
    "                [\n",
    "                    {\n",
    "                            'loan_amnt': \"8000\",   \n",
    "                            'term': \"36\",   \n",
    "                            'emp_length': \"9\",   \n",
    "                            'home_ownership': \"1\",   \n",
    "                            'annual_inc': \"5000\",   \n",
    "                            'verification_status': \"1\",   \n",
    "                            'purpose': \"car\",   \n",
    "                            'addr_state': \"4\",   \n",
    "                            'dti': \"20\",   \n",
    "                            'delinq_2yrs': \"0\",   \n",
    "                            'Risk_Score': \"600\",   \n",
    "                            'inq_last_6mths': \"0\",   \n",
    "                            'open_acc': \"5\",   \n",
    "                            'revol_bal': \"5000\",   \n",
    "                            'revol_util': \"200\",   \n",
    "                            'total_acc': \"3\",   \n",
    "                            'mths_since_last_major_derog': \"0\",   \n",
    "                            'funded_amnt_inv': \"8000\",   \n",
    "                            'installment': \"2\",   \n",
    "                            'application_type': \"Individual\",   \n",
    "                            'pub_rec': \"0\",   \n",
    "                            'addr_state (2)': \"4\",   \n",
    "                            'label': \"2\",   \n",
    "                    }\n",
    "                ],\n",
    "        },\n",
    "    \"GlobalParameters\":  {\n",
    "    }\n",
    "}\n",
    "\n",
    "body = str.encode(json.dumps(data))\n",
    "\n",
    "url = 'https://ussouthcentral.services.azureml.net/workspaces/708fc30f05a343069bc21c29cd66dadf/services/7c6292583c864739b29a4c30304dc9f9/execute?api-version=2.0&format=swagger'\n",
    "api_key ='tScwtphw97DSKOOtCZ/CG1ZTc4GhSFAxQzPcrm3OQaYaijMlIPJ0M4RutafAbO0/AkaqYk5YzT6z8a5GxVOw2Q==' # Replace this with the API key for the web service\n",
    "headers = {'Content-Type':'application/json', 'Authorization':('Bearer '+ api_key)}\n",
    "\n",
    "req = urllib.request.Request(url, body, headers)\n",
    "\n",
    "try:\n",
    "    response = urllib.request.urlopen(req)\n",
    "\n",
    "    result = response.read()\n",
    "    r=str(result)\n",
    "    ind=r.rfind(\"Mean\")\n",
    "    indfin=ind+7\n",
    "    print(r[indfin:indfin+5])\n",
    "#     print(result)\n",
    "except urllib.error.HTTPError as error:\n",
    "    print(\"The request failed with status code: \" + str(error.code))\n",
    "\n",
    "    # Print the headers - they include the requert ID and the timestamp, which are useful for debugging the failure\n",
    "    print(error.info())\n",
    "    print(json.loads(error.read().decode(\"utf8\", 'ignore')))\n"
   ]
  },
  {
   "cell_type": "code",
   "execution_count": null,
   "metadata": {
    "collapsed": true
   },
   "outputs": [],
   "source": []
  }
 ],
 "metadata": {
  "kernelspec": {
   "display_name": "Python 3",
   "language": "python",
   "name": "python3"
  },
  "language_info": {
   "codemirror_mode": {
    "name": "ipython",
    "version": 3
   },
   "file_extension": ".py",
   "mimetype": "text/x-python",
   "name": "python",
   "nbconvert_exporter": "python",
   "pygments_lexer": "ipython3",
   "version": "3.6.1"
  }
 },
 "nbformat": 4,
 "nbformat_minor": 2
}
