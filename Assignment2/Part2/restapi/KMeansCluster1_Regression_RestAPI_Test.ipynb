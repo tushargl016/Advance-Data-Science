{
 "cells": [
  {
   "cell_type": "code",
   "execution_count": 4,
   "metadata": {},
   "outputs": [
    {
     "name": "stdout",
     "output_type": "stream",
     "text": [
      "10.34\n"
     ]
    }
   ],
   "source": [
    "import urllib.request\n",
    "import json\n",
    "\n",
    "data = {\n",
    "        \"Inputs\": {\n",
    "                \"input1\":\n",
    "                [\n",
    "                    {\n",
    "                            'loan_amnt': \"5000\",   \n",
    "                            'term': \"36\",   \n",
    "                            'emp_length': \"10\",   \n",
    "                            'home_ownership': \"1\",   \n",
    "                            'annual_inc': \"18000\",   \n",
    "                            'verification_status': \"1\",   \n",
    "                            'purpose': \"car\",   \n",
    "                            'addr_state': \"4\",   \n",
    "                            'dti': \"2\",   \n",
    "                            'delinq_2yrs': \"0\",   \n",
    "                            'Risk_Score': \"700\",   \n",
    "                            'inq_last_6mths': \"2\",   \n",
    "                            'open_acc': \"1\",   \n",
    "                            'revol_bal': \"1000\",   \n",
    "                            'revol_util': \"2000\",   \n",
    "                            'total_acc': \"1\",   \n",
    "                            'mths_since_last_major_derog': \"0\",   \n",
    "                            'funded_amnt_inv': \"4000\",   \n",
    "                            'installment': \"550\",   \n",
    "                            'application_type': \"Individual\",   \n",
    "                            'pub_rec': \"0\",   \n",
    "                            'addr_state (2)': \"4\",   \n",
    "                            'label': \"1\",   \n",
    "                    }\n",
    "                ],\n",
    "        },\n",
    "    \"GlobalParameters\":  {\n",
    "    }\n",
    "}\n",
    "\n",
    "body = str.encode(json.dumps(data))\n",
    "\n",
    "url = 'https://ussouthcentral.services.azureml.net/workspaces/708fc30f05a343069bc21c29cd66dadf/services/e0da48e9cddc4dbaab7f66dd1642f591/execute?api-version=2.0&format=swagger'\n",
    "api_key = 'y59MDoLHj2aqd7t3jms65n+ftGg0bJg3UZUX+U+UQeTkyocd6PfN6ptBzwoCyWJolLmYqXfDU7KbbfYjog6vaw==' # Replace this with the API key for the web service\n",
    "headers = {'Content-Type':'application/json', 'Authorization':('Bearer '+ api_key)}\n",
    "\n",
    "req = urllib.request.Request(url, body, headers)\n",
    "\n",
    "try:\n",
    "    response = urllib.request.urlopen(req)\n",
    "\n",
    "    result = response.read()\n",
    "    r=str(result)\n",
    "    ind=r.rfind(\"Mean\")\n",
    "    indfin=ind+7\n",
    "    print(r[indfin:indfin+5])\n",
    "#     print(result)\n",
    "except urllib.error.HTTPError as error:\n",
    "    print(\"The request failed with status code: \" + str(error.code))\n",
    "\n",
    "    # Print the headers - they include the requert ID and the timestamp, which are useful for debugging the failure\n",
    "    print(error.info())\n"
   ]
  },
  {
   "cell_type": "code",
   "execution_count": null,
   "metadata": {
    "collapsed": true
   },
   "outputs": [],
   "source": []
  }
 ],
 "metadata": {
  "kernelspec": {
   "display_name": "Python 3",
   "language": "python",
   "name": "python3"
  },
  "language_info": {
   "codemirror_mode": {
    "name": "ipython",
    "version": 3
   },
   "file_extension": ".py",
   "mimetype": "text/x-python",
   "name": "python",
   "nbconvert_exporter": "python",
   "pygments_lexer": "ipython3",
   "version": "3.6.1"
  }
 },
 "nbformat": 4,
 "nbformat_minor": 2
}
