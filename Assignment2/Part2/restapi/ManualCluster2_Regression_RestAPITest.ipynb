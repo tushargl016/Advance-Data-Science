{
 "cells": [
  {
   "cell_type": "code",
   "execution_count": 18,
   "metadata": {},
   "outputs": [
    {
     "name": "stdout",
     "output_type": "stream",
     "text": [
      "30.82\n"
     ]
    }
   ],
   "source": [
    "import urllib.request\n",
    "import json\n",
    "\n",
    "data = {\n",
    "        \"Inputs\": {\n",
    "                \"input1\":\n",
    "                [\n",
    "                    {\n",
    "                            'loan_amnt': \"8000\",\n",
    "                            'funded_amnt_inv': \"7000\",\n",
    "                            'installment': \"600\",\n",
    "                            'term': \"60\",\n",
    "                            'emp_length': \"7\", \n",
    "                            'home_ownership': \"0\",\n",
    "                            'annual_inc': \"50000\",\n",
    "                            'verification_status':\"1\",   \n",
    "                            'purpose': \"credit_card\",\n",
    "                            'addr_state':\"4\",\n",
    "                            'dti': \"27\", \n",
    "                            'delinq_2yrs': \"0\",  \n",
    "                            'inq_last_6mths': \"1\",  \n",
    "                            'open_acc': \"3\",  \n",
    "                            'pub_rec': \"0\",  \n",
    "                            'revol_bal': \"13648\",\n",
    "                            'revol_util': \"83\",\n",
    "                            'total_acc': \"2\",  \n",
    "                            'mths_since_last_major_derog': \"0\",  \n",
    "                            'application_type': \"Individual\",\n",
    "                            'Risk_Score': \"680\",\n",
    "                            'cluster': \"2\"   \n",
    "                    }\n",
    "                ],\n",
    "        },\n",
    "    \"GlobalParameters\":  {\n",
    "    }\n",
    "}\n",
    "\n",
    "body = str.encode(json.dumps(data))\n",
    "\n",
    "url = 'https://ussouthcentral.services.azureml.net/workspaces/5c4cc8b5ea9c4e5180e934e5a832594b/services/2bf822af4e6a4397be427fdaf7826eef/execute?api-version=2.0&format=swagger'\n",
    "api_key = 'edbAbcBEwxRyBwW6USLDTQnrt/Bkx6e2QI1kuVXluD4rijwTvEijx56Is+eJXZmQv7IHDBuKwurgEx5hn7Wlyg==' # Replace this with the API key for the web service\n",
    "headers = {'Content-Type':'application/json', 'Authorization':('Bearer '+ api_key)}\n",
    "\n",
    "req = urllib.request.Request(url, body, headers)\n",
    "\n",
    "try:\n",
    "    response = urllib.request.urlopen(req)\n",
    "\n",
    "    result = response.read()\n",
    "    r=str(result)\n",
    "    ind=r.rfind(\"Mean\")\n",
    "    indfin=ind+7\n",
    "    print(r[indfin:indfin+5])\n",
    "#     print(result)\n",
    "except urllib.error.HTTPError as error:\n",
    "    print(\"The request failed with status code: \" + str(error.code))\n",
    "\n",
    "    # Print the headers - they include the requert ID and the timestamp, which are useful for debugging the failure\n",
    "    print(error.info())\n",
    "    print(json.loads(error.read().decode(\"utf8\", 'ignore')))"
   ]
  },
  {
   "cell_type": "code",
   "execution_count": null,
   "metadata": {
    "collapsed": true
   },
   "outputs": [],
   "source": []
  }
 ],
 "metadata": {
  "kernelspec": {
   "display_name": "Python 3",
   "language": "python",
   "name": "python3"
  },
  "language_info": {
   "codemirror_mode": {
    "name": "ipython",
    "version": 3
   },
   "file_extension": ".py",
   "mimetype": "text/x-python",
   "name": "python",
   "nbconvert_exporter": "python",
   "pygments_lexer": "ipython3",
   "version": "3.6.1"
  }
 },
 "nbformat": 4,
 "nbformat_minor": 2
}
